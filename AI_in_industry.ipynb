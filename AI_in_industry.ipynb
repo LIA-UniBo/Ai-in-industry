{
  "nbformat": 4,
  "nbformat_minor": 0,
  "metadata": {
    "colab": {
      "name": "AI_in_industry.ipynb",
      "provenance": [],
      "collapsed_sections": []
    },
    "kernelspec": {
      "name": "python3",
      "display_name": "Python 3"
    },
    "language_info": {
      "name": "python"
    }
  },
  "cells": [
    {
      "cell_type": "markdown",
      "source": [
        "#**AI in Industry**"
      ],
      "metadata": {
        "id": "-1YUlASfs4W7"
      }
    },
    {
      "cell_type": "markdown",
      "source": [
        "**Author**: Jyoti Yadav\n",
        "\n",
        "**Date**: March 2022\n",
        "\n",
        "**Email**: jyoti.yadav@studio.unibo.it"
      ],
      "metadata": {
        "id": "JK0HnBVHss_p"
      }
    },
    {
      "cell_type": "markdown",
      "source": [
        "##Preliminary Steps"
      ],
      "metadata": {
        "id": "aPn8BA9ltIc3"
      }
    },
    {
      "cell_type": "code",
      "source": [
        "# Important libraries for the model building\n",
        "\n",
        "\n",
        "import sys \n",
        "import gzip\n",
        "import numpy as np\n",
        "import os, shutil \n",
        "import pandas as pd  \n",
        "import seaborn as sns\n",
        "from pathlib import Path\n",
        "from urllib import request\n",
        "from keras import regularizers\n",
        "import matplotlib.pyplot as plt\n",
        "from sklearn import preprocessing\n",
        "from sklearn.svm import OneClassSVM\n",
        "from keras.callbacks import EarlyStopping\n",
        "from keras.models import Model, Sequential\n",
        "from tensorflow.keras.utils import plot_model\n",
        "from keras.layers import Input, Dense,Dropout\n",
        "from sklearn.ensemble import IsolationForest\n",
        "from sklearn.neighbors import LocalOutlierFactor\n",
        "from sklearn.model_selection import train_test_split\n",
        "from sklearn.metrics import classification_report, accuracy_score\n",
        "from sklearn.metrics import precision_score, recall_score,f1_score\n",
        "from sklearn.covariance import EllipticEnvelope\n",
        "from sklearn.metrics import precision_recall_curve, classification_report, confusion_matrix, average_precision_score, roc_curve, auc,roc_auc_score\n",
        "\n",
        "\n",
        "LABELS = [\"Normal\",\"Anomly\"]\n",
        "\n",
        "# For the reproducibility of the results\n",
        "random_state=2022"
      ],
      "metadata": {
        "id": "nVspsDuOFbXF"
      },
      "execution_count": 19,
      "outputs": []
    },
    {
      "cell_type": "markdown",
      "source": [
        "it is necessary, to clean all the data that are in the DATASETS directory and wipe out all the subdirectories."
      ],
      "metadata": {
        "id": "o0tyIV9MtMha"
      }
    },
    {
      "cell_type": "code",
      "source": [
        "# folder = os.getcwd()\n",
        "\n",
        "# print(\"Current work directory: \" + str(folder))\n",
        "# dataset_folder = os.path.join(os.getcwd(), \"Datasets\")\n",
        "# if not os.path.exists(dataset_folder):\n",
        "#     os.makedirs(dataset_folder)\n",
        "# for filename in os.listdir(dataset_folder):\n",
        "#     file_path = os.path.join(dataset_folder, filename)\n",
        "#     try:\n",
        "#         if os.path.isfile(file_path) or os.path.islink(file_path):\n",
        "#             os.unlink(file_path)\n",
        "#         elif os.path.isdir(file_path):\n",
        "#             shutil.rmtree(file_path)\n",
        "#     except Exception as e:\n",
        "#         print('Failed to delete %s. Reason: %s' % (file_path, e))\n",
        "# print(\"Cleaned\")"
      ],
      "metadata": {
        "id": "tlrfcQctiw1o"
      },
      "execution_count": null,
      "outputs": []
    },
    {
      "cell_type": "markdown",
      "source": [
        "##Dataset Download"
      ],
      "metadata": {
        "id": "fjdhFp2z6Act"
      }
    },
    {
      "cell_type": "code",
      "source": [
        "# # Config\n",
        "# print(\"Current work directory: {}\".format(os.getcwd()))\n",
        "# dataset_folder = os.path.join(os.getcwd(), \"Datasets\")\n",
        "\n",
        "# if not os.path.exists(dataset_folder):\n",
        "#     os.makedirs(dataset_folder)\n",
        "\n",
        "# url = \"https://github.com/jyotiyadav94/Ai-in-industry/raw/main/new_data/r205n13.gzip\"\n",
        "\n",
        "\n",
        "# dataset_path = os.path.join(dataset_folder, \"r205n12.gzip\")\n",
        "\n",
        "# print(dataset_path)\n",
        "\n",
        "# def download_dataset(download_path: str, url: str):\n",
        "#     if not os.path.exists(download_path):\n",
        "#         print(\"Downloading dataset...\")\n",
        "#         request.urlretrieve(url, download_path)\n",
        "#         print(\"Download complete!\")\n",
        "\n",
        "\n",
        "# def extract_dataset(download_path: str, extract_path: str):\n",
        "#     data = pd.read_parquet(dataset_path)\n",
        "#     print(\"Extraction completed!\")\n",
        "#     return data\n",
        "\n",
        "# # Download\n",
        "# download_dataset(dataset_path, url)\n",
        "\n",
        "# #Extraction\n",
        "# df=extract_dataset(dataset_path, dataset_folder)\n"
      ],
      "metadata": {
        "id": "A39PMtnk573a"
      },
      "execution_count": null,
      "outputs": []
    },
    {
      "cell_type": "markdown",
      "source": [
        "##Working with multiple files (r20 files)"
      ],
      "metadata": {
        "id": "5ZdMNdEj6Ewq"
      }
    },
    {
      "cell_type": "code",
      "source": [
        "from google.colab import drive\n",
        "drive.mount('/content/drive')"
      ],
      "metadata": {
        "colab": {
          "base_uri": "https://localhost:8080/"
        },
        "id": "GY_CO6mM6y-J",
        "outputId": "305ce7ec-fc63-4174-9e1e-5fd6e0461b6a"
      },
      "execution_count": 20,
      "outputs": [
        {
          "output_type": "stream",
          "name": "stdout",
          "text": [
            "Drive already mounted at /content/drive; to attempt to forcibly remount, call drive.mount(\"/content/drive\", force_remount=True).\n"
          ]
        }
      ]
    },
    {
      "cell_type": "code",
      "source": [
        "#In order to work with some of the files of the dataset please load the dataset to your directory and \n",
        "#I worked with r205n12.gzip,r205n13.gzip,r205n14.gzip\n",
        "\n",
        "data_dir = Path('/content/drive/MyDrive/AI in industry/new data')\n",
        "full_df = pd.concat(pd.read_parquet(parquet_file)for parquet_file in data_dir.glob('*.gzip'))\n",
        "full_df.to_csv('dataset.csv')"
      ],
      "metadata": {
        "id": "lqBWVa-nK7-N"
      },
      "execution_count": 22,
      "outputs": []
    },
    {
      "cell_type": "code",
      "source": [
        "full_df"
      ],
      "metadata": {
        "id": "1iz4ovbVUMGu",
        "colab": {
          "base_uri": "https://localhost:8080/",
          "height": 865
        },
        "outputId": "a2e0cbae-e56f-49c1-9a84-7cad946cf1da"
      },
      "execution_count": 23,
      "outputs": [
        {
          "output_type": "execute_result",
          "data": {
            "text/plain": [
              "                timestamp  avg:ambient  var:ambient  max:ambient  min:ambient  \\\n",
              "index                                                                           \n",
              "13218 2020-07-16 19:30:00    23.493333     0.067810         23.8         23.0   \n",
              "13221 2020-07-16 19:45:00    25.573333     0.027810         25.8         25.4   \n",
              "13278 2020-07-17 00:30:00    21.569231     0.018974         21.8         21.4   \n",
              "13281 2020-07-17 00:45:00    21.600000     0.022857         21.8         21.4   \n",
              "13284 2020-07-17 01:00:00    21.280000     0.021714         21.4         21.0   \n",
              "...                   ...          ...          ...          ...          ...   \n",
              "96180 2021-04-30 21:00:00    25.400000     0.000000         25.4         25.4   \n",
              "96183 2021-04-30 21:15:00    25.413333     0.002667         25.6         25.4   \n",
              "96186 2021-04-30 21:30:00    25.400000     0.000000         25.4         25.4   \n",
              "96189 2021-04-30 21:45:00    25.640000     0.006857         25.8         25.6   \n",
              "96192 2021-04-30 22:00:00    25.600000     0.000000         25.6         25.6   \n",
              "\n",
              "       avg:dimm0_temp  var:dimm0_temp  max:dimm0_temp  min:dimm0_temp  \\\n",
              "index                                                                   \n",
              "13218       29.133333        0.123810              30              29   \n",
              "13221       30.800000        0.171429              31              30   \n",
              "13278       27.000000        0.000000              27              27   \n",
              "13281       27.000000        0.000000              27              27   \n",
              "13284       27.000000        0.000000              27              27   \n",
              "...               ...             ...             ...             ...   \n",
              "96180       32.000000        0.000000              32              32   \n",
              "96183       32.000000        0.000000              32              32   \n",
              "96186       32.000000        0.000000              32              32   \n",
              "96189       32.000000        0.000000              32              32   \n",
              "96192       32.000000        0.000000              32              32   \n",
              "\n",
              "       avg:dimm10_temp  ...  max:p1_core21_temp  min:p1_core21_temp  \\\n",
              "index                   ...                                           \n",
              "13218             31.6  ...                 NaN                 NaN   \n",
              "13221             33.0  ...                 NaN                 NaN   \n",
              "13278             31.0  ...                 NaN                 NaN   \n",
              "13281             31.0  ...                 NaN                 NaN   \n",
              "13284             31.0  ...                 NaN                 NaN   \n",
              "...                ...  ...                 ...                 ...   \n",
              "96180             33.0  ...                44.0                43.0   \n",
              "96183             33.0  ...                44.0                43.0   \n",
              "96186             33.0  ...                44.0                42.0   \n",
              "96189             33.0  ...                44.0                43.0   \n",
              "96192             33.0  ...                44.0                43.0   \n",
              "\n",
              "       avg:p1_core6_temp  var:p1_core6_temp  max:p1_core6_temp  \\\n",
              "index                                                            \n",
              "13218                NaN                NaN                NaN   \n",
              "13221                NaN                NaN                NaN   \n",
              "13278                NaN                NaN                NaN   \n",
              "13281                NaN                NaN                NaN   \n",
              "13284                NaN                NaN                NaN   \n",
              "...                  ...                ...                ...   \n",
              "96180          43.200000           0.171429               44.0   \n",
              "96183          43.266667           0.209524               44.0   \n",
              "96186          43.200000           0.171429               44.0   \n",
              "96189          43.333333           0.238095               44.0   \n",
              "96192          43.400000           0.257143               44.0   \n",
              "\n",
              "       min:p1_core6_temp  avg:p1_core7_temp  var:p1_core7_temp  \\\n",
              "index                                                            \n",
              "13218                NaN                NaN                NaN   \n",
              "13221                NaN                NaN                NaN   \n",
              "13278                NaN                NaN                NaN   \n",
              "13281                NaN                NaN                NaN   \n",
              "13284                NaN                NaN                NaN   \n",
              "...                  ...                ...                ...   \n",
              "96180               43.0          43.133333           0.123810   \n",
              "96183               43.0          43.266667           0.209524   \n",
              "96186               43.0          43.133333           0.123810   \n",
              "96189               43.0          43.266667           0.209524   \n",
              "96192               43.0          43.333333           0.238095   \n",
              "\n",
              "       max:p1_core7_temp  min:p1_core7_temp  \n",
              "index                                        \n",
              "13218                NaN                NaN  \n",
              "13221                NaN                NaN  \n",
              "13278                NaN                NaN  \n",
              "13281                NaN                NaN  \n",
              "13284                NaN                NaN  \n",
              "...                  ...                ...  \n",
              "96180               44.0               43.0  \n",
              "96183               44.0               43.0  \n",
              "96186               44.0               43.0  \n",
              "96189               44.0               43.0  \n",
              "96192               44.0               43.0  \n",
              "\n",
              "[36547 rows x 503 columns]"
            ],
            "text/html": [
              "\n",
              "  <div id=\"df-0d2ff1aa-df6e-4cb5-8730-664e994c2439\">\n",
              "    <div class=\"colab-df-container\">\n",
              "      <div>\n",
              "<style scoped>\n",
              "    .dataframe tbody tr th:only-of-type {\n",
              "        vertical-align: middle;\n",
              "    }\n",
              "\n",
              "    .dataframe tbody tr th {\n",
              "        vertical-align: top;\n",
              "    }\n",
              "\n",
              "    .dataframe thead th {\n",
              "        text-align: right;\n",
              "    }\n",
              "</style>\n",
              "<table border=\"1\" class=\"dataframe\">\n",
              "  <thead>\n",
              "    <tr style=\"text-align: right;\">\n",
              "      <th></th>\n",
              "      <th>timestamp</th>\n",
              "      <th>avg:ambient</th>\n",
              "      <th>var:ambient</th>\n",
              "      <th>max:ambient</th>\n",
              "      <th>min:ambient</th>\n",
              "      <th>avg:dimm0_temp</th>\n",
              "      <th>var:dimm0_temp</th>\n",
              "      <th>max:dimm0_temp</th>\n",
              "      <th>min:dimm0_temp</th>\n",
              "      <th>avg:dimm10_temp</th>\n",
              "      <th>...</th>\n",
              "      <th>max:p1_core21_temp</th>\n",
              "      <th>min:p1_core21_temp</th>\n",
              "      <th>avg:p1_core6_temp</th>\n",
              "      <th>var:p1_core6_temp</th>\n",
              "      <th>max:p1_core6_temp</th>\n",
              "      <th>min:p1_core6_temp</th>\n",
              "      <th>avg:p1_core7_temp</th>\n",
              "      <th>var:p1_core7_temp</th>\n",
              "      <th>max:p1_core7_temp</th>\n",
              "      <th>min:p1_core7_temp</th>\n",
              "    </tr>\n",
              "    <tr>\n",
              "      <th>index</th>\n",
              "      <th></th>\n",
              "      <th></th>\n",
              "      <th></th>\n",
              "      <th></th>\n",
              "      <th></th>\n",
              "      <th></th>\n",
              "      <th></th>\n",
              "      <th></th>\n",
              "      <th></th>\n",
              "      <th></th>\n",
              "      <th></th>\n",
              "      <th></th>\n",
              "      <th></th>\n",
              "      <th></th>\n",
              "      <th></th>\n",
              "      <th></th>\n",
              "      <th></th>\n",
              "      <th></th>\n",
              "      <th></th>\n",
              "      <th></th>\n",
              "      <th></th>\n",
              "    </tr>\n",
              "  </thead>\n",
              "  <tbody>\n",
              "    <tr>\n",
              "      <th>13218</th>\n",
              "      <td>2020-07-16 19:30:00</td>\n",
              "      <td>23.493333</td>\n",
              "      <td>0.067810</td>\n",
              "      <td>23.8</td>\n",
              "      <td>23.0</td>\n",
              "      <td>29.133333</td>\n",
              "      <td>0.123810</td>\n",
              "      <td>30</td>\n",
              "      <td>29</td>\n",
              "      <td>31.6</td>\n",
              "      <td>...</td>\n",
              "      <td>NaN</td>\n",
              "      <td>NaN</td>\n",
              "      <td>NaN</td>\n",
              "      <td>NaN</td>\n",
              "      <td>NaN</td>\n",
              "      <td>NaN</td>\n",
              "      <td>NaN</td>\n",
              "      <td>NaN</td>\n",
              "      <td>NaN</td>\n",
              "      <td>NaN</td>\n",
              "    </tr>\n",
              "    <tr>\n",
              "      <th>13221</th>\n",
              "      <td>2020-07-16 19:45:00</td>\n",
              "      <td>25.573333</td>\n",
              "      <td>0.027810</td>\n",
              "      <td>25.8</td>\n",
              "      <td>25.4</td>\n",
              "      <td>30.800000</td>\n",
              "      <td>0.171429</td>\n",
              "      <td>31</td>\n",
              "      <td>30</td>\n",
              "      <td>33.0</td>\n",
              "      <td>...</td>\n",
              "      <td>NaN</td>\n",
              "      <td>NaN</td>\n",
              "      <td>NaN</td>\n",
              "      <td>NaN</td>\n",
              "      <td>NaN</td>\n",
              "      <td>NaN</td>\n",
              "      <td>NaN</td>\n",
              "      <td>NaN</td>\n",
              "      <td>NaN</td>\n",
              "      <td>NaN</td>\n",
              "    </tr>\n",
              "    <tr>\n",
              "      <th>13278</th>\n",
              "      <td>2020-07-17 00:30:00</td>\n",
              "      <td>21.569231</td>\n",
              "      <td>0.018974</td>\n",
              "      <td>21.8</td>\n",
              "      <td>21.4</td>\n",
              "      <td>27.000000</td>\n",
              "      <td>0.000000</td>\n",
              "      <td>27</td>\n",
              "      <td>27</td>\n",
              "      <td>31.0</td>\n",
              "      <td>...</td>\n",
              "      <td>NaN</td>\n",
              "      <td>NaN</td>\n",
              "      <td>NaN</td>\n",
              "      <td>NaN</td>\n",
              "      <td>NaN</td>\n",
              "      <td>NaN</td>\n",
              "      <td>NaN</td>\n",
              "      <td>NaN</td>\n",
              "      <td>NaN</td>\n",
              "      <td>NaN</td>\n",
              "    </tr>\n",
              "    <tr>\n",
              "      <th>13281</th>\n",
              "      <td>2020-07-17 00:45:00</td>\n",
              "      <td>21.600000</td>\n",
              "      <td>0.022857</td>\n",
              "      <td>21.8</td>\n",
              "      <td>21.4</td>\n",
              "      <td>27.000000</td>\n",
              "      <td>0.000000</td>\n",
              "      <td>27</td>\n",
              "      <td>27</td>\n",
              "      <td>31.0</td>\n",
              "      <td>...</td>\n",
              "      <td>NaN</td>\n",
              "      <td>NaN</td>\n",
              "      <td>NaN</td>\n",
              "      <td>NaN</td>\n",
              "      <td>NaN</td>\n",
              "      <td>NaN</td>\n",
              "      <td>NaN</td>\n",
              "      <td>NaN</td>\n",
              "      <td>NaN</td>\n",
              "      <td>NaN</td>\n",
              "    </tr>\n",
              "    <tr>\n",
              "      <th>13284</th>\n",
              "      <td>2020-07-17 01:00:00</td>\n",
              "      <td>21.280000</td>\n",
              "      <td>0.021714</td>\n",
              "      <td>21.4</td>\n",
              "      <td>21.0</td>\n",
              "      <td>27.000000</td>\n",
              "      <td>0.000000</td>\n",
              "      <td>27</td>\n",
              "      <td>27</td>\n",
              "      <td>31.0</td>\n",
              "      <td>...</td>\n",
              "      <td>NaN</td>\n",
              "      <td>NaN</td>\n",
              "      <td>NaN</td>\n",
              "      <td>NaN</td>\n",
              "      <td>NaN</td>\n",
              "      <td>NaN</td>\n",
              "      <td>NaN</td>\n",
              "      <td>NaN</td>\n",
              "      <td>NaN</td>\n",
              "      <td>NaN</td>\n",
              "    </tr>\n",
              "    <tr>\n",
              "      <th>...</th>\n",
              "      <td>...</td>\n",
              "      <td>...</td>\n",
              "      <td>...</td>\n",
              "      <td>...</td>\n",
              "      <td>...</td>\n",
              "      <td>...</td>\n",
              "      <td>...</td>\n",
              "      <td>...</td>\n",
              "      <td>...</td>\n",
              "      <td>...</td>\n",
              "      <td>...</td>\n",
              "      <td>...</td>\n",
              "      <td>...</td>\n",
              "      <td>...</td>\n",
              "      <td>...</td>\n",
              "      <td>...</td>\n",
              "      <td>...</td>\n",
              "      <td>...</td>\n",
              "      <td>...</td>\n",
              "      <td>...</td>\n",
              "      <td>...</td>\n",
              "    </tr>\n",
              "    <tr>\n",
              "      <th>96180</th>\n",
              "      <td>2021-04-30 21:00:00</td>\n",
              "      <td>25.400000</td>\n",
              "      <td>0.000000</td>\n",
              "      <td>25.4</td>\n",
              "      <td>25.4</td>\n",
              "      <td>32.000000</td>\n",
              "      <td>0.000000</td>\n",
              "      <td>32</td>\n",
              "      <td>32</td>\n",
              "      <td>33.0</td>\n",
              "      <td>...</td>\n",
              "      <td>44.0</td>\n",
              "      <td>43.0</td>\n",
              "      <td>43.200000</td>\n",
              "      <td>0.171429</td>\n",
              "      <td>44.0</td>\n",
              "      <td>43.0</td>\n",
              "      <td>43.133333</td>\n",
              "      <td>0.123810</td>\n",
              "      <td>44.0</td>\n",
              "      <td>43.0</td>\n",
              "    </tr>\n",
              "    <tr>\n",
              "      <th>96183</th>\n",
              "      <td>2021-04-30 21:15:00</td>\n",
              "      <td>25.413333</td>\n",
              "      <td>0.002667</td>\n",
              "      <td>25.6</td>\n",
              "      <td>25.4</td>\n",
              "      <td>32.000000</td>\n",
              "      <td>0.000000</td>\n",
              "      <td>32</td>\n",
              "      <td>32</td>\n",
              "      <td>33.0</td>\n",
              "      <td>...</td>\n",
              "      <td>44.0</td>\n",
              "      <td>43.0</td>\n",
              "      <td>43.266667</td>\n",
              "      <td>0.209524</td>\n",
              "      <td>44.0</td>\n",
              "      <td>43.0</td>\n",
              "      <td>43.266667</td>\n",
              "      <td>0.209524</td>\n",
              "      <td>44.0</td>\n",
              "      <td>43.0</td>\n",
              "    </tr>\n",
              "    <tr>\n",
              "      <th>96186</th>\n",
              "      <td>2021-04-30 21:30:00</td>\n",
              "      <td>25.400000</td>\n",
              "      <td>0.000000</td>\n",
              "      <td>25.4</td>\n",
              "      <td>25.4</td>\n",
              "      <td>32.000000</td>\n",
              "      <td>0.000000</td>\n",
              "      <td>32</td>\n",
              "      <td>32</td>\n",
              "      <td>33.0</td>\n",
              "      <td>...</td>\n",
              "      <td>44.0</td>\n",
              "      <td>42.0</td>\n",
              "      <td>43.200000</td>\n",
              "      <td>0.171429</td>\n",
              "      <td>44.0</td>\n",
              "      <td>43.0</td>\n",
              "      <td>43.133333</td>\n",
              "      <td>0.123810</td>\n",
              "      <td>44.0</td>\n",
              "      <td>43.0</td>\n",
              "    </tr>\n",
              "    <tr>\n",
              "      <th>96189</th>\n",
              "      <td>2021-04-30 21:45:00</td>\n",
              "      <td>25.640000</td>\n",
              "      <td>0.006857</td>\n",
              "      <td>25.8</td>\n",
              "      <td>25.6</td>\n",
              "      <td>32.000000</td>\n",
              "      <td>0.000000</td>\n",
              "      <td>32</td>\n",
              "      <td>32</td>\n",
              "      <td>33.0</td>\n",
              "      <td>...</td>\n",
              "      <td>44.0</td>\n",
              "      <td>43.0</td>\n",
              "      <td>43.333333</td>\n",
              "      <td>0.238095</td>\n",
              "      <td>44.0</td>\n",
              "      <td>43.0</td>\n",
              "      <td>43.266667</td>\n",
              "      <td>0.209524</td>\n",
              "      <td>44.0</td>\n",
              "      <td>43.0</td>\n",
              "    </tr>\n",
              "    <tr>\n",
              "      <th>96192</th>\n",
              "      <td>2021-04-30 22:00:00</td>\n",
              "      <td>25.600000</td>\n",
              "      <td>0.000000</td>\n",
              "      <td>25.6</td>\n",
              "      <td>25.6</td>\n",
              "      <td>32.000000</td>\n",
              "      <td>0.000000</td>\n",
              "      <td>32</td>\n",
              "      <td>32</td>\n",
              "      <td>33.0</td>\n",
              "      <td>...</td>\n",
              "      <td>44.0</td>\n",
              "      <td>43.0</td>\n",
              "      <td>43.400000</td>\n",
              "      <td>0.257143</td>\n",
              "      <td>44.0</td>\n",
              "      <td>43.0</td>\n",
              "      <td>43.333333</td>\n",
              "      <td>0.238095</td>\n",
              "      <td>44.0</td>\n",
              "      <td>43.0</td>\n",
              "    </tr>\n",
              "  </tbody>\n",
              "</table>\n",
              "<p>36547 rows × 503 columns</p>\n",
              "</div>\n",
              "      <button class=\"colab-df-convert\" onclick=\"convertToInteractive('df-0d2ff1aa-df6e-4cb5-8730-664e994c2439')\"\n",
              "              title=\"Convert this dataframe to an interactive table.\"\n",
              "              style=\"display:none;\">\n",
              "        \n",
              "  <svg xmlns=\"http://www.w3.org/2000/svg\" height=\"24px\"viewBox=\"0 0 24 24\"\n",
              "       width=\"24px\">\n",
              "    <path d=\"M0 0h24v24H0V0z\" fill=\"none\"/>\n",
              "    <path d=\"M18.56 5.44l.94 2.06.94-2.06 2.06-.94-2.06-.94-.94-2.06-.94 2.06-2.06.94zm-11 1L8.5 8.5l.94-2.06 2.06-.94-2.06-.94L8.5 2.5l-.94 2.06-2.06.94zm10 10l.94 2.06.94-2.06 2.06-.94-2.06-.94-.94-2.06-.94 2.06-2.06.94z\"/><path d=\"M17.41 7.96l-1.37-1.37c-.4-.4-.92-.59-1.43-.59-.52 0-1.04.2-1.43.59L10.3 9.45l-7.72 7.72c-.78.78-.78 2.05 0 2.83L4 21.41c.39.39.9.59 1.41.59.51 0 1.02-.2 1.41-.59l7.78-7.78 2.81-2.81c.8-.78.8-2.07 0-2.86zM5.41 20L4 18.59l7.72-7.72 1.47 1.35L5.41 20z\"/>\n",
              "  </svg>\n",
              "      </button>\n",
              "      \n",
              "  <style>\n",
              "    .colab-df-container {\n",
              "      display:flex;\n",
              "      flex-wrap:wrap;\n",
              "      gap: 12px;\n",
              "    }\n",
              "\n",
              "    .colab-df-convert {\n",
              "      background-color: #E8F0FE;\n",
              "      border: none;\n",
              "      border-radius: 50%;\n",
              "      cursor: pointer;\n",
              "      display: none;\n",
              "      fill: #1967D2;\n",
              "      height: 32px;\n",
              "      padding: 0 0 0 0;\n",
              "      width: 32px;\n",
              "    }\n",
              "\n",
              "    .colab-df-convert:hover {\n",
              "      background-color: #E2EBFA;\n",
              "      box-shadow: 0px 1px 2px rgba(60, 64, 67, 0.3), 0px 1px 3px 1px rgba(60, 64, 67, 0.15);\n",
              "      fill: #174EA6;\n",
              "    }\n",
              "\n",
              "    [theme=dark] .colab-df-convert {\n",
              "      background-color: #3B4455;\n",
              "      fill: #D2E3FC;\n",
              "    }\n",
              "\n",
              "    [theme=dark] .colab-df-convert:hover {\n",
              "      background-color: #434B5C;\n",
              "      box-shadow: 0px 1px 3px 1px rgba(0, 0, 0, 0.15);\n",
              "      filter: drop-shadow(0px 1px 2px rgba(0, 0, 0, 0.3));\n",
              "      fill: #FFFFFF;\n",
              "    }\n",
              "  </style>\n",
              "\n",
              "      <script>\n",
              "        const buttonEl =\n",
              "          document.querySelector('#df-0d2ff1aa-df6e-4cb5-8730-664e994c2439 button.colab-df-convert');\n",
              "        buttonEl.style.display =\n",
              "          google.colab.kernel.accessAllowed ? 'block' : 'none';\n",
              "\n",
              "        async function convertToInteractive(key) {\n",
              "          const element = document.querySelector('#df-0d2ff1aa-df6e-4cb5-8730-664e994c2439');\n",
              "          const dataTable =\n",
              "            await google.colab.kernel.invokeFunction('convertToInteractive',\n",
              "                                                     [key], {});\n",
              "          if (!dataTable) return;\n",
              "\n",
              "          const docLinkHtml = 'Like what you see? Visit the ' +\n",
              "            '<a target=\"_blank\" href=https://colab.research.google.com/notebooks/data_table.ipynb>data table notebook</a>'\n",
              "            + ' to learn more about interactive tables.';\n",
              "          element.innerHTML = '';\n",
              "          dataTable['output_type'] = 'display_data';\n",
              "          await google.colab.output.renderOutput(dataTable, element);\n",
              "          const docLink = document.createElement('div');\n",
              "          docLink.innerHTML = docLinkHtml;\n",
              "          element.appendChild(docLink);\n",
              "        }\n",
              "      </script>\n",
              "    </div>\n",
              "  </div>\n",
              "  "
            ]
          },
          "metadata": {},
          "execution_count": 23
        }
      ]
    },
    {
      "cell_type": "code",
      "source": [
        "full_df.columns"
      ],
      "metadata": {
        "id": "cEYrilbR-JMr",
        "colab": {
          "base_uri": "https://localhost:8080/"
        },
        "outputId": "618b45a0-443f-4110-a983-8f07dce1e994"
      },
      "execution_count": 24,
      "outputs": [
        {
          "output_type": "execute_result",
          "data": {
            "text/plain": [
              "Index(['timestamp', 'avg:ambient', 'var:ambient', 'max:ambient', 'min:ambient',\n",
              "       'avg:dimm0_temp', 'var:dimm0_temp', 'max:dimm0_temp', 'min:dimm0_temp',\n",
              "       'avg:dimm10_temp',\n",
              "       ...\n",
              "       'max:p1_core21_temp', 'min:p1_core21_temp', 'avg:p1_core6_temp',\n",
              "       'var:p1_core6_temp', 'max:p1_core6_temp', 'min:p1_core6_temp',\n",
              "       'avg:p1_core7_temp', 'var:p1_core7_temp', 'max:p1_core7_temp',\n",
              "       'min:p1_core7_temp'],\n",
              "      dtype='object', length=503)"
            ]
          },
          "metadata": {},
          "execution_count": 24
        }
      ]
    },
    {
      "cell_type": "markdown",
      "source": [
        "## Data Analysis"
      ],
      "metadata": {
        "id": "QDpLcHTq3U6y"
      }
    },
    {
      "cell_type": "code",
      "source": [
        "full_df.isnull().values.any()"
      ],
      "metadata": {
        "id": "98RrWoh21yE_",
        "colab": {
          "base_uri": "https://localhost:8080/"
        },
        "outputId": "d2326994-13af-4d00-bff8-eaa24a8cff34"
      },
      "execution_count": 25,
      "outputs": [
        {
          "output_type": "execute_result",
          "data": {
            "text/plain": [
              "True"
            ]
          },
          "metadata": {},
          "execution_count": 25
        }
      ]
    },
    {
      "cell_type": "code",
      "source": [
        "#finding the total missing values\n",
        "\n",
        "missing_values = full_df.isnull().sum()\n",
        "missing_per = (missing_values/full_df.shape[0])*100\n",
        "missing_table = pd.concat([missing_values,missing_per], axis=1, ignore_index=True) \n",
        "missing_table.rename(columns={0:'Total Missing Values',1:'Missing %'}, inplace=True)\n",
        "missing_table"
      ],
      "metadata": {
        "id": "q5kfPrQG2LuT",
        "colab": {
          "base_uri": "https://localhost:8080/",
          "height": 423
        },
        "outputId": "8218cf53-7411-4f65-c857-99535ac79b24"
      },
      "execution_count": 26,
      "outputs": [
        {
          "output_type": "execute_result",
          "data": {
            "text/plain": [
              "                   Total Missing Values  Missing %\n",
              "timestamp                             0   0.000000\n",
              "avg:ambient                           0   0.000000\n",
              "var:ambient                           0   0.000000\n",
              "max:ambient                           0   0.000000\n",
              "min:ambient                           0   0.000000\n",
              "...                                 ...        ...\n",
              "min:p1_core6_temp                  9982  27.312775\n",
              "avg:p1_core7_temp                  9982  27.312775\n",
              "var:p1_core7_temp                  9982  27.312775\n",
              "max:p1_core7_temp                  9982  27.312775\n",
              "min:p1_core7_temp                  9982  27.312775\n",
              "\n",
              "[503 rows x 2 columns]"
            ],
            "text/html": [
              "\n",
              "  <div id=\"df-f9b7ea5c-363f-4bd6-83e6-b13f6eaa6cca\">\n",
              "    <div class=\"colab-df-container\">\n",
              "      <div>\n",
              "<style scoped>\n",
              "    .dataframe tbody tr th:only-of-type {\n",
              "        vertical-align: middle;\n",
              "    }\n",
              "\n",
              "    .dataframe tbody tr th {\n",
              "        vertical-align: top;\n",
              "    }\n",
              "\n",
              "    .dataframe thead th {\n",
              "        text-align: right;\n",
              "    }\n",
              "</style>\n",
              "<table border=\"1\" class=\"dataframe\">\n",
              "  <thead>\n",
              "    <tr style=\"text-align: right;\">\n",
              "      <th></th>\n",
              "      <th>Total Missing Values</th>\n",
              "      <th>Missing %</th>\n",
              "    </tr>\n",
              "  </thead>\n",
              "  <tbody>\n",
              "    <tr>\n",
              "      <th>timestamp</th>\n",
              "      <td>0</td>\n",
              "      <td>0.000000</td>\n",
              "    </tr>\n",
              "    <tr>\n",
              "      <th>avg:ambient</th>\n",
              "      <td>0</td>\n",
              "      <td>0.000000</td>\n",
              "    </tr>\n",
              "    <tr>\n",
              "      <th>var:ambient</th>\n",
              "      <td>0</td>\n",
              "      <td>0.000000</td>\n",
              "    </tr>\n",
              "    <tr>\n",
              "      <th>max:ambient</th>\n",
              "      <td>0</td>\n",
              "      <td>0.000000</td>\n",
              "    </tr>\n",
              "    <tr>\n",
              "      <th>min:ambient</th>\n",
              "      <td>0</td>\n",
              "      <td>0.000000</td>\n",
              "    </tr>\n",
              "    <tr>\n",
              "      <th>...</th>\n",
              "      <td>...</td>\n",
              "      <td>...</td>\n",
              "    </tr>\n",
              "    <tr>\n",
              "      <th>min:p1_core6_temp</th>\n",
              "      <td>9982</td>\n",
              "      <td>27.312775</td>\n",
              "    </tr>\n",
              "    <tr>\n",
              "      <th>avg:p1_core7_temp</th>\n",
              "      <td>9982</td>\n",
              "      <td>27.312775</td>\n",
              "    </tr>\n",
              "    <tr>\n",
              "      <th>var:p1_core7_temp</th>\n",
              "      <td>9982</td>\n",
              "      <td>27.312775</td>\n",
              "    </tr>\n",
              "    <tr>\n",
              "      <th>max:p1_core7_temp</th>\n",
              "      <td>9982</td>\n",
              "      <td>27.312775</td>\n",
              "    </tr>\n",
              "    <tr>\n",
              "      <th>min:p1_core7_temp</th>\n",
              "      <td>9982</td>\n",
              "      <td>27.312775</td>\n",
              "    </tr>\n",
              "  </tbody>\n",
              "</table>\n",
              "<p>503 rows × 2 columns</p>\n",
              "</div>\n",
              "      <button class=\"colab-df-convert\" onclick=\"convertToInteractive('df-f9b7ea5c-363f-4bd6-83e6-b13f6eaa6cca')\"\n",
              "              title=\"Convert this dataframe to an interactive table.\"\n",
              "              style=\"display:none;\">\n",
              "        \n",
              "  <svg xmlns=\"http://www.w3.org/2000/svg\" height=\"24px\"viewBox=\"0 0 24 24\"\n",
              "       width=\"24px\">\n",
              "    <path d=\"M0 0h24v24H0V0z\" fill=\"none\"/>\n",
              "    <path d=\"M18.56 5.44l.94 2.06.94-2.06 2.06-.94-2.06-.94-.94-2.06-.94 2.06-2.06.94zm-11 1L8.5 8.5l.94-2.06 2.06-.94-2.06-.94L8.5 2.5l-.94 2.06-2.06.94zm10 10l.94 2.06.94-2.06 2.06-.94-2.06-.94-.94-2.06-.94 2.06-2.06.94z\"/><path d=\"M17.41 7.96l-1.37-1.37c-.4-.4-.92-.59-1.43-.59-.52 0-1.04.2-1.43.59L10.3 9.45l-7.72 7.72c-.78.78-.78 2.05 0 2.83L4 21.41c.39.39.9.59 1.41.59.51 0 1.02-.2 1.41-.59l7.78-7.78 2.81-2.81c.8-.78.8-2.07 0-2.86zM5.41 20L4 18.59l7.72-7.72 1.47 1.35L5.41 20z\"/>\n",
              "  </svg>\n",
              "      </button>\n",
              "      \n",
              "  <style>\n",
              "    .colab-df-container {\n",
              "      display:flex;\n",
              "      flex-wrap:wrap;\n",
              "      gap: 12px;\n",
              "    }\n",
              "\n",
              "    .colab-df-convert {\n",
              "      background-color: #E8F0FE;\n",
              "      border: none;\n",
              "      border-radius: 50%;\n",
              "      cursor: pointer;\n",
              "      display: none;\n",
              "      fill: #1967D2;\n",
              "      height: 32px;\n",
              "      padding: 0 0 0 0;\n",
              "      width: 32px;\n",
              "    }\n",
              "\n",
              "    .colab-df-convert:hover {\n",
              "      background-color: #E2EBFA;\n",
              "      box-shadow: 0px 1px 2px rgba(60, 64, 67, 0.3), 0px 1px 3px 1px rgba(60, 64, 67, 0.15);\n",
              "      fill: #174EA6;\n",
              "    }\n",
              "\n",
              "    [theme=dark] .colab-df-convert {\n",
              "      background-color: #3B4455;\n",
              "      fill: #D2E3FC;\n",
              "    }\n",
              "\n",
              "    [theme=dark] .colab-df-convert:hover {\n",
              "      background-color: #434B5C;\n",
              "      box-shadow: 0px 1px 3px 1px rgba(0, 0, 0, 0.15);\n",
              "      filter: drop-shadow(0px 1px 2px rgba(0, 0, 0, 0.3));\n",
              "      fill: #FFFFFF;\n",
              "    }\n",
              "  </style>\n",
              "\n",
              "      <script>\n",
              "        const buttonEl =\n",
              "          document.querySelector('#df-f9b7ea5c-363f-4bd6-83e6-b13f6eaa6cca button.colab-df-convert');\n",
              "        buttonEl.style.display =\n",
              "          google.colab.kernel.accessAllowed ? 'block' : 'none';\n",
              "\n",
              "        async function convertToInteractive(key) {\n",
              "          const element = document.querySelector('#df-f9b7ea5c-363f-4bd6-83e6-b13f6eaa6cca');\n",
              "          const dataTable =\n",
              "            await google.colab.kernel.invokeFunction('convertToInteractive',\n",
              "                                                     [key], {});\n",
              "          if (!dataTable) return;\n",
              "\n",
              "          const docLinkHtml = 'Like what you see? Visit the ' +\n",
              "            '<a target=\"_blank\" href=https://colab.research.google.com/notebooks/data_table.ipynb>data table notebook</a>'\n",
              "            + ' to learn more about interactive tables.';\n",
              "          element.innerHTML = '';\n",
              "          dataTable['output_type'] = 'display_data';\n",
              "          await google.colab.output.renderOutput(dataTable, element);\n",
              "          const docLink = document.createElement('div');\n",
              "          docLink.innerHTML = docLinkHtml;\n",
              "          element.appendChild(docLink);\n",
              "        }\n",
              "      </script>\n",
              "    </div>\n",
              "  </div>\n",
              "  "
            ]
          },
          "metadata": {},
          "execution_count": 26
        }
      ]
    },
    {
      "cell_type": "code",
      "source": [
        "full_df"
      ],
      "metadata": {
        "colab": {
          "base_uri": "https://localhost:8080/",
          "height": 865
        },
        "id": "q04URvdXvHxa",
        "outputId": "cc61c8af-cea4-4b3f-f103-983e23d7477a"
      },
      "execution_count": 27,
      "outputs": [
        {
          "output_type": "execute_result",
          "data": {
            "text/plain": [
              "                timestamp  avg:ambient  var:ambient  max:ambient  min:ambient  \\\n",
              "index                                                                           \n",
              "13218 2020-07-16 19:30:00    23.493333     0.067810         23.8         23.0   \n",
              "13221 2020-07-16 19:45:00    25.573333     0.027810         25.8         25.4   \n",
              "13278 2020-07-17 00:30:00    21.569231     0.018974         21.8         21.4   \n",
              "13281 2020-07-17 00:45:00    21.600000     0.022857         21.8         21.4   \n",
              "13284 2020-07-17 01:00:00    21.280000     0.021714         21.4         21.0   \n",
              "...                   ...          ...          ...          ...          ...   \n",
              "96180 2021-04-30 21:00:00    25.400000     0.000000         25.4         25.4   \n",
              "96183 2021-04-30 21:15:00    25.413333     0.002667         25.6         25.4   \n",
              "96186 2021-04-30 21:30:00    25.400000     0.000000         25.4         25.4   \n",
              "96189 2021-04-30 21:45:00    25.640000     0.006857         25.8         25.6   \n",
              "96192 2021-04-30 22:00:00    25.600000     0.000000         25.6         25.6   \n",
              "\n",
              "       avg:dimm0_temp  var:dimm0_temp  max:dimm0_temp  min:dimm0_temp  \\\n",
              "index                                                                   \n",
              "13218       29.133333        0.123810              30              29   \n",
              "13221       30.800000        0.171429              31              30   \n",
              "13278       27.000000        0.000000              27              27   \n",
              "13281       27.000000        0.000000              27              27   \n",
              "13284       27.000000        0.000000              27              27   \n",
              "...               ...             ...             ...             ...   \n",
              "96180       32.000000        0.000000              32              32   \n",
              "96183       32.000000        0.000000              32              32   \n",
              "96186       32.000000        0.000000              32              32   \n",
              "96189       32.000000        0.000000              32              32   \n",
              "96192       32.000000        0.000000              32              32   \n",
              "\n",
              "       avg:dimm10_temp  ...  max:p1_core21_temp  min:p1_core21_temp  \\\n",
              "index                   ...                                           \n",
              "13218             31.6  ...                 NaN                 NaN   \n",
              "13221             33.0  ...                 NaN                 NaN   \n",
              "13278             31.0  ...                 NaN                 NaN   \n",
              "13281             31.0  ...                 NaN                 NaN   \n",
              "13284             31.0  ...                 NaN                 NaN   \n",
              "...                ...  ...                 ...                 ...   \n",
              "96180             33.0  ...                44.0                43.0   \n",
              "96183             33.0  ...                44.0                43.0   \n",
              "96186             33.0  ...                44.0                42.0   \n",
              "96189             33.0  ...                44.0                43.0   \n",
              "96192             33.0  ...                44.0                43.0   \n",
              "\n",
              "       avg:p1_core6_temp  var:p1_core6_temp  max:p1_core6_temp  \\\n",
              "index                                                            \n",
              "13218                NaN                NaN                NaN   \n",
              "13221                NaN                NaN                NaN   \n",
              "13278                NaN                NaN                NaN   \n",
              "13281                NaN                NaN                NaN   \n",
              "13284                NaN                NaN                NaN   \n",
              "...                  ...                ...                ...   \n",
              "96180          43.200000           0.171429               44.0   \n",
              "96183          43.266667           0.209524               44.0   \n",
              "96186          43.200000           0.171429               44.0   \n",
              "96189          43.333333           0.238095               44.0   \n",
              "96192          43.400000           0.257143               44.0   \n",
              "\n",
              "       min:p1_core6_temp  avg:p1_core7_temp  var:p1_core7_temp  \\\n",
              "index                                                            \n",
              "13218                NaN                NaN                NaN   \n",
              "13221                NaN                NaN                NaN   \n",
              "13278                NaN                NaN                NaN   \n",
              "13281                NaN                NaN                NaN   \n",
              "13284                NaN                NaN                NaN   \n",
              "...                  ...                ...                ...   \n",
              "96180               43.0          43.133333           0.123810   \n",
              "96183               43.0          43.266667           0.209524   \n",
              "96186               43.0          43.133333           0.123810   \n",
              "96189               43.0          43.266667           0.209524   \n",
              "96192               43.0          43.333333           0.238095   \n",
              "\n",
              "       max:p1_core7_temp  min:p1_core7_temp  \n",
              "index                                        \n",
              "13218                NaN                NaN  \n",
              "13221                NaN                NaN  \n",
              "13278                NaN                NaN  \n",
              "13281                NaN                NaN  \n",
              "13284                NaN                NaN  \n",
              "...                  ...                ...  \n",
              "96180               44.0               43.0  \n",
              "96183               44.0               43.0  \n",
              "96186               44.0               43.0  \n",
              "96189               44.0               43.0  \n",
              "96192               44.0               43.0  \n",
              "\n",
              "[36547 rows x 503 columns]"
            ],
            "text/html": [
              "\n",
              "  <div id=\"df-3ed919b5-4c07-4f3e-8576-9d070ffc1a9c\">\n",
              "    <div class=\"colab-df-container\">\n",
              "      <div>\n",
              "<style scoped>\n",
              "    .dataframe tbody tr th:only-of-type {\n",
              "        vertical-align: middle;\n",
              "    }\n",
              "\n",
              "    .dataframe tbody tr th {\n",
              "        vertical-align: top;\n",
              "    }\n",
              "\n",
              "    .dataframe thead th {\n",
              "        text-align: right;\n",
              "    }\n",
              "</style>\n",
              "<table border=\"1\" class=\"dataframe\">\n",
              "  <thead>\n",
              "    <tr style=\"text-align: right;\">\n",
              "      <th></th>\n",
              "      <th>timestamp</th>\n",
              "      <th>avg:ambient</th>\n",
              "      <th>var:ambient</th>\n",
              "      <th>max:ambient</th>\n",
              "      <th>min:ambient</th>\n",
              "      <th>avg:dimm0_temp</th>\n",
              "      <th>var:dimm0_temp</th>\n",
              "      <th>max:dimm0_temp</th>\n",
              "      <th>min:dimm0_temp</th>\n",
              "      <th>avg:dimm10_temp</th>\n",
              "      <th>...</th>\n",
              "      <th>max:p1_core21_temp</th>\n",
              "      <th>min:p1_core21_temp</th>\n",
              "      <th>avg:p1_core6_temp</th>\n",
              "      <th>var:p1_core6_temp</th>\n",
              "      <th>max:p1_core6_temp</th>\n",
              "      <th>min:p1_core6_temp</th>\n",
              "      <th>avg:p1_core7_temp</th>\n",
              "      <th>var:p1_core7_temp</th>\n",
              "      <th>max:p1_core7_temp</th>\n",
              "      <th>min:p1_core7_temp</th>\n",
              "    </tr>\n",
              "    <tr>\n",
              "      <th>index</th>\n",
              "      <th></th>\n",
              "      <th></th>\n",
              "      <th></th>\n",
              "      <th></th>\n",
              "      <th></th>\n",
              "      <th></th>\n",
              "      <th></th>\n",
              "      <th></th>\n",
              "      <th></th>\n",
              "      <th></th>\n",
              "      <th></th>\n",
              "      <th></th>\n",
              "      <th></th>\n",
              "      <th></th>\n",
              "      <th></th>\n",
              "      <th></th>\n",
              "      <th></th>\n",
              "      <th></th>\n",
              "      <th></th>\n",
              "      <th></th>\n",
              "      <th></th>\n",
              "    </tr>\n",
              "  </thead>\n",
              "  <tbody>\n",
              "    <tr>\n",
              "      <th>13218</th>\n",
              "      <td>2020-07-16 19:30:00</td>\n",
              "      <td>23.493333</td>\n",
              "      <td>0.067810</td>\n",
              "      <td>23.8</td>\n",
              "      <td>23.0</td>\n",
              "      <td>29.133333</td>\n",
              "      <td>0.123810</td>\n",
              "      <td>30</td>\n",
              "      <td>29</td>\n",
              "      <td>31.6</td>\n",
              "      <td>...</td>\n",
              "      <td>NaN</td>\n",
              "      <td>NaN</td>\n",
              "      <td>NaN</td>\n",
              "      <td>NaN</td>\n",
              "      <td>NaN</td>\n",
              "      <td>NaN</td>\n",
              "      <td>NaN</td>\n",
              "      <td>NaN</td>\n",
              "      <td>NaN</td>\n",
              "      <td>NaN</td>\n",
              "    </tr>\n",
              "    <tr>\n",
              "      <th>13221</th>\n",
              "      <td>2020-07-16 19:45:00</td>\n",
              "      <td>25.573333</td>\n",
              "      <td>0.027810</td>\n",
              "      <td>25.8</td>\n",
              "      <td>25.4</td>\n",
              "      <td>30.800000</td>\n",
              "      <td>0.171429</td>\n",
              "      <td>31</td>\n",
              "      <td>30</td>\n",
              "      <td>33.0</td>\n",
              "      <td>...</td>\n",
              "      <td>NaN</td>\n",
              "      <td>NaN</td>\n",
              "      <td>NaN</td>\n",
              "      <td>NaN</td>\n",
              "      <td>NaN</td>\n",
              "      <td>NaN</td>\n",
              "      <td>NaN</td>\n",
              "      <td>NaN</td>\n",
              "      <td>NaN</td>\n",
              "      <td>NaN</td>\n",
              "    </tr>\n",
              "    <tr>\n",
              "      <th>13278</th>\n",
              "      <td>2020-07-17 00:30:00</td>\n",
              "      <td>21.569231</td>\n",
              "      <td>0.018974</td>\n",
              "      <td>21.8</td>\n",
              "      <td>21.4</td>\n",
              "      <td>27.000000</td>\n",
              "      <td>0.000000</td>\n",
              "      <td>27</td>\n",
              "      <td>27</td>\n",
              "      <td>31.0</td>\n",
              "      <td>...</td>\n",
              "      <td>NaN</td>\n",
              "      <td>NaN</td>\n",
              "      <td>NaN</td>\n",
              "      <td>NaN</td>\n",
              "      <td>NaN</td>\n",
              "      <td>NaN</td>\n",
              "      <td>NaN</td>\n",
              "      <td>NaN</td>\n",
              "      <td>NaN</td>\n",
              "      <td>NaN</td>\n",
              "    </tr>\n",
              "    <tr>\n",
              "      <th>13281</th>\n",
              "      <td>2020-07-17 00:45:00</td>\n",
              "      <td>21.600000</td>\n",
              "      <td>0.022857</td>\n",
              "      <td>21.8</td>\n",
              "      <td>21.4</td>\n",
              "      <td>27.000000</td>\n",
              "      <td>0.000000</td>\n",
              "      <td>27</td>\n",
              "      <td>27</td>\n",
              "      <td>31.0</td>\n",
              "      <td>...</td>\n",
              "      <td>NaN</td>\n",
              "      <td>NaN</td>\n",
              "      <td>NaN</td>\n",
              "      <td>NaN</td>\n",
              "      <td>NaN</td>\n",
              "      <td>NaN</td>\n",
              "      <td>NaN</td>\n",
              "      <td>NaN</td>\n",
              "      <td>NaN</td>\n",
              "      <td>NaN</td>\n",
              "    </tr>\n",
              "    <tr>\n",
              "      <th>13284</th>\n",
              "      <td>2020-07-17 01:00:00</td>\n",
              "      <td>21.280000</td>\n",
              "      <td>0.021714</td>\n",
              "      <td>21.4</td>\n",
              "      <td>21.0</td>\n",
              "      <td>27.000000</td>\n",
              "      <td>0.000000</td>\n",
              "      <td>27</td>\n",
              "      <td>27</td>\n",
              "      <td>31.0</td>\n",
              "      <td>...</td>\n",
              "      <td>NaN</td>\n",
              "      <td>NaN</td>\n",
              "      <td>NaN</td>\n",
              "      <td>NaN</td>\n",
              "      <td>NaN</td>\n",
              "      <td>NaN</td>\n",
              "      <td>NaN</td>\n",
              "      <td>NaN</td>\n",
              "      <td>NaN</td>\n",
              "      <td>NaN</td>\n",
              "    </tr>\n",
              "    <tr>\n",
              "      <th>...</th>\n",
              "      <td>...</td>\n",
              "      <td>...</td>\n",
              "      <td>...</td>\n",
              "      <td>...</td>\n",
              "      <td>...</td>\n",
              "      <td>...</td>\n",
              "      <td>...</td>\n",
              "      <td>...</td>\n",
              "      <td>...</td>\n",
              "      <td>...</td>\n",
              "      <td>...</td>\n",
              "      <td>...</td>\n",
              "      <td>...</td>\n",
              "      <td>...</td>\n",
              "      <td>...</td>\n",
              "      <td>...</td>\n",
              "      <td>...</td>\n",
              "      <td>...</td>\n",
              "      <td>...</td>\n",
              "      <td>...</td>\n",
              "      <td>...</td>\n",
              "    </tr>\n",
              "    <tr>\n",
              "      <th>96180</th>\n",
              "      <td>2021-04-30 21:00:00</td>\n",
              "      <td>25.400000</td>\n",
              "      <td>0.000000</td>\n",
              "      <td>25.4</td>\n",
              "      <td>25.4</td>\n",
              "      <td>32.000000</td>\n",
              "      <td>0.000000</td>\n",
              "      <td>32</td>\n",
              "      <td>32</td>\n",
              "      <td>33.0</td>\n",
              "      <td>...</td>\n",
              "      <td>44.0</td>\n",
              "      <td>43.0</td>\n",
              "      <td>43.200000</td>\n",
              "      <td>0.171429</td>\n",
              "      <td>44.0</td>\n",
              "      <td>43.0</td>\n",
              "      <td>43.133333</td>\n",
              "      <td>0.123810</td>\n",
              "      <td>44.0</td>\n",
              "      <td>43.0</td>\n",
              "    </tr>\n",
              "    <tr>\n",
              "      <th>96183</th>\n",
              "      <td>2021-04-30 21:15:00</td>\n",
              "      <td>25.413333</td>\n",
              "      <td>0.002667</td>\n",
              "      <td>25.6</td>\n",
              "      <td>25.4</td>\n",
              "      <td>32.000000</td>\n",
              "      <td>0.000000</td>\n",
              "      <td>32</td>\n",
              "      <td>32</td>\n",
              "      <td>33.0</td>\n",
              "      <td>...</td>\n",
              "      <td>44.0</td>\n",
              "      <td>43.0</td>\n",
              "      <td>43.266667</td>\n",
              "      <td>0.209524</td>\n",
              "      <td>44.0</td>\n",
              "      <td>43.0</td>\n",
              "      <td>43.266667</td>\n",
              "      <td>0.209524</td>\n",
              "      <td>44.0</td>\n",
              "      <td>43.0</td>\n",
              "    </tr>\n",
              "    <tr>\n",
              "      <th>96186</th>\n",
              "      <td>2021-04-30 21:30:00</td>\n",
              "      <td>25.400000</td>\n",
              "      <td>0.000000</td>\n",
              "      <td>25.4</td>\n",
              "      <td>25.4</td>\n",
              "      <td>32.000000</td>\n",
              "      <td>0.000000</td>\n",
              "      <td>32</td>\n",
              "      <td>32</td>\n",
              "      <td>33.0</td>\n",
              "      <td>...</td>\n",
              "      <td>44.0</td>\n",
              "      <td>42.0</td>\n",
              "      <td>43.200000</td>\n",
              "      <td>0.171429</td>\n",
              "      <td>44.0</td>\n",
              "      <td>43.0</td>\n",
              "      <td>43.133333</td>\n",
              "      <td>0.123810</td>\n",
              "      <td>44.0</td>\n",
              "      <td>43.0</td>\n",
              "    </tr>\n",
              "    <tr>\n",
              "      <th>96189</th>\n",
              "      <td>2021-04-30 21:45:00</td>\n",
              "      <td>25.640000</td>\n",
              "      <td>0.006857</td>\n",
              "      <td>25.8</td>\n",
              "      <td>25.6</td>\n",
              "      <td>32.000000</td>\n",
              "      <td>0.000000</td>\n",
              "      <td>32</td>\n",
              "      <td>32</td>\n",
              "      <td>33.0</td>\n",
              "      <td>...</td>\n",
              "      <td>44.0</td>\n",
              "      <td>43.0</td>\n",
              "      <td>43.333333</td>\n",
              "      <td>0.238095</td>\n",
              "      <td>44.0</td>\n",
              "      <td>43.0</td>\n",
              "      <td>43.266667</td>\n",
              "      <td>0.209524</td>\n",
              "      <td>44.0</td>\n",
              "      <td>43.0</td>\n",
              "    </tr>\n",
              "    <tr>\n",
              "      <th>96192</th>\n",
              "      <td>2021-04-30 22:00:00</td>\n",
              "      <td>25.600000</td>\n",
              "      <td>0.000000</td>\n",
              "      <td>25.6</td>\n",
              "      <td>25.6</td>\n",
              "      <td>32.000000</td>\n",
              "      <td>0.000000</td>\n",
              "      <td>32</td>\n",
              "      <td>32</td>\n",
              "      <td>33.0</td>\n",
              "      <td>...</td>\n",
              "      <td>44.0</td>\n",
              "      <td>43.0</td>\n",
              "      <td>43.400000</td>\n",
              "      <td>0.257143</td>\n",
              "      <td>44.0</td>\n",
              "      <td>43.0</td>\n",
              "      <td>43.333333</td>\n",
              "      <td>0.238095</td>\n",
              "      <td>44.0</td>\n",
              "      <td>43.0</td>\n",
              "    </tr>\n",
              "  </tbody>\n",
              "</table>\n",
              "<p>36547 rows × 503 columns</p>\n",
              "</div>\n",
              "      <button class=\"colab-df-convert\" onclick=\"convertToInteractive('df-3ed919b5-4c07-4f3e-8576-9d070ffc1a9c')\"\n",
              "              title=\"Convert this dataframe to an interactive table.\"\n",
              "              style=\"display:none;\">\n",
              "        \n",
              "  <svg xmlns=\"http://www.w3.org/2000/svg\" height=\"24px\"viewBox=\"0 0 24 24\"\n",
              "       width=\"24px\">\n",
              "    <path d=\"M0 0h24v24H0V0z\" fill=\"none\"/>\n",
              "    <path d=\"M18.56 5.44l.94 2.06.94-2.06 2.06-.94-2.06-.94-.94-2.06-.94 2.06-2.06.94zm-11 1L8.5 8.5l.94-2.06 2.06-.94-2.06-.94L8.5 2.5l-.94 2.06-2.06.94zm10 10l.94 2.06.94-2.06 2.06-.94-2.06-.94-.94-2.06-.94 2.06-2.06.94z\"/><path d=\"M17.41 7.96l-1.37-1.37c-.4-.4-.92-.59-1.43-.59-.52 0-1.04.2-1.43.59L10.3 9.45l-7.72 7.72c-.78.78-.78 2.05 0 2.83L4 21.41c.39.39.9.59 1.41.59.51 0 1.02-.2 1.41-.59l7.78-7.78 2.81-2.81c.8-.78.8-2.07 0-2.86zM5.41 20L4 18.59l7.72-7.72 1.47 1.35L5.41 20z\"/>\n",
              "  </svg>\n",
              "      </button>\n",
              "      \n",
              "  <style>\n",
              "    .colab-df-container {\n",
              "      display:flex;\n",
              "      flex-wrap:wrap;\n",
              "      gap: 12px;\n",
              "    }\n",
              "\n",
              "    .colab-df-convert {\n",
              "      background-color: #E8F0FE;\n",
              "      border: none;\n",
              "      border-radius: 50%;\n",
              "      cursor: pointer;\n",
              "      display: none;\n",
              "      fill: #1967D2;\n",
              "      height: 32px;\n",
              "      padding: 0 0 0 0;\n",
              "      width: 32px;\n",
              "    }\n",
              "\n",
              "    .colab-df-convert:hover {\n",
              "      background-color: #E2EBFA;\n",
              "      box-shadow: 0px 1px 2px rgba(60, 64, 67, 0.3), 0px 1px 3px 1px rgba(60, 64, 67, 0.15);\n",
              "      fill: #174EA6;\n",
              "    }\n",
              "\n",
              "    [theme=dark] .colab-df-convert {\n",
              "      background-color: #3B4455;\n",
              "      fill: #D2E3FC;\n",
              "    }\n",
              "\n",
              "    [theme=dark] .colab-df-convert:hover {\n",
              "      background-color: #434B5C;\n",
              "      box-shadow: 0px 1px 3px 1px rgba(0, 0, 0, 0.15);\n",
              "      filter: drop-shadow(0px 1px 2px rgba(0, 0, 0, 0.3));\n",
              "      fill: #FFFFFF;\n",
              "    }\n",
              "  </style>\n",
              "\n",
              "      <script>\n",
              "        const buttonEl =\n",
              "          document.querySelector('#df-3ed919b5-4c07-4f3e-8576-9d070ffc1a9c button.colab-df-convert');\n",
              "        buttonEl.style.display =\n",
              "          google.colab.kernel.accessAllowed ? 'block' : 'none';\n",
              "\n",
              "        async function convertToInteractive(key) {\n",
              "          const element = document.querySelector('#df-3ed919b5-4c07-4f3e-8576-9d070ffc1a9c');\n",
              "          const dataTable =\n",
              "            await google.colab.kernel.invokeFunction('convertToInteractive',\n",
              "                                                     [key], {});\n",
              "          if (!dataTable) return;\n",
              "\n",
              "          const docLinkHtml = 'Like what you see? Visit the ' +\n",
              "            '<a target=\"_blank\" href=https://colab.research.google.com/notebooks/data_table.ipynb>data table notebook</a>'\n",
              "            + ' to learn more about interactive tables.';\n",
              "          element.innerHTML = '';\n",
              "          dataTable['output_type'] = 'display_data';\n",
              "          await google.colab.output.renderOutput(dataTable, element);\n",
              "          const docLink = document.createElement('div');\n",
              "          docLink.innerHTML = docLinkHtml;\n",
              "          element.appendChild(docLink);\n",
              "        }\n",
              "      </script>\n",
              "    </div>\n",
              "  </div>\n",
              "  "
            ]
          },
          "metadata": {},
          "execution_count": 27
        }
      ]
    },
    {
      "cell_type": "code",
      "source": [
        "data=full_df"
      ],
      "metadata": {
        "id": "AbpdykzDVHbb"
      },
      "execution_count": 28,
      "outputs": []
    },
    {
      "cell_type": "code",
      "source": [
        "# drop the columns which contain at least one NaN value\n",
        "\n",
        "data = full_df.dropna(axis='columns')"
      ],
      "metadata": {
        "id": "s3jG6XY6YHFl"
      },
      "execution_count": 29,
      "outputs": []
    },
    {
      "cell_type": "code",
      "source": [
        "#finding the total missing values in the column\n",
        "\n",
        "missing_values = data.isnull().sum()\n",
        "missing_per = (missing_values/data.shape[0])*100\n",
        "missing_table = pd.concat([missing_values,missing_per], axis=1, ignore_index=True) \n",
        "missing_table.rename(columns={0:'Total Missing Values',1:'Missing %'}, inplace=True)\n",
        "missing_table"
      ],
      "metadata": {
        "colab": {
          "base_uri": "https://localhost:8080/",
          "height": 423
        },
        "id": "lZ6wx1J-XYFm",
        "outputId": "4d5be0d7-8bc9-4c98-fe4d-17fcf93bdb12"
      },
      "execution_count": 30,
      "outputs": [
        {
          "output_type": "execute_result",
          "data": {
            "text/plain": [
              "                Total Missing Values  Missing %\n",
              "timestamp                          0        0.0\n",
              "avg:ambient                        0        0.0\n",
              "var:ambient                        0        0.0\n",
              "max:ambient                        0        0.0\n",
              "min:ambient                        0        0.0\n",
              "...                              ...        ...\n",
              "var:swap_total                     0        0.0\n",
              "max:swap_total                     0        0.0\n",
              "min:swap_total                     0        0.0\n",
              "label                              0        0.0\n",
              "New_label                          0        0.0\n",
              "\n",
              "[407 rows x 2 columns]"
            ],
            "text/html": [
              "\n",
              "  <div id=\"df-adad469c-e07b-42cf-9c18-bed179486148\">\n",
              "    <div class=\"colab-df-container\">\n",
              "      <div>\n",
              "<style scoped>\n",
              "    .dataframe tbody tr th:only-of-type {\n",
              "        vertical-align: middle;\n",
              "    }\n",
              "\n",
              "    .dataframe tbody tr th {\n",
              "        vertical-align: top;\n",
              "    }\n",
              "\n",
              "    .dataframe thead th {\n",
              "        text-align: right;\n",
              "    }\n",
              "</style>\n",
              "<table border=\"1\" class=\"dataframe\">\n",
              "  <thead>\n",
              "    <tr style=\"text-align: right;\">\n",
              "      <th></th>\n",
              "      <th>Total Missing Values</th>\n",
              "      <th>Missing %</th>\n",
              "    </tr>\n",
              "  </thead>\n",
              "  <tbody>\n",
              "    <tr>\n",
              "      <th>timestamp</th>\n",
              "      <td>0</td>\n",
              "      <td>0.0</td>\n",
              "    </tr>\n",
              "    <tr>\n",
              "      <th>avg:ambient</th>\n",
              "      <td>0</td>\n",
              "      <td>0.0</td>\n",
              "    </tr>\n",
              "    <tr>\n",
              "      <th>var:ambient</th>\n",
              "      <td>0</td>\n",
              "      <td>0.0</td>\n",
              "    </tr>\n",
              "    <tr>\n",
              "      <th>max:ambient</th>\n",
              "      <td>0</td>\n",
              "      <td>0.0</td>\n",
              "    </tr>\n",
              "    <tr>\n",
              "      <th>min:ambient</th>\n",
              "      <td>0</td>\n",
              "      <td>0.0</td>\n",
              "    </tr>\n",
              "    <tr>\n",
              "      <th>...</th>\n",
              "      <td>...</td>\n",
              "      <td>...</td>\n",
              "    </tr>\n",
              "    <tr>\n",
              "      <th>var:swap_total</th>\n",
              "      <td>0</td>\n",
              "      <td>0.0</td>\n",
              "    </tr>\n",
              "    <tr>\n",
              "      <th>max:swap_total</th>\n",
              "      <td>0</td>\n",
              "      <td>0.0</td>\n",
              "    </tr>\n",
              "    <tr>\n",
              "      <th>min:swap_total</th>\n",
              "      <td>0</td>\n",
              "      <td>0.0</td>\n",
              "    </tr>\n",
              "    <tr>\n",
              "      <th>label</th>\n",
              "      <td>0</td>\n",
              "      <td>0.0</td>\n",
              "    </tr>\n",
              "    <tr>\n",
              "      <th>New_label</th>\n",
              "      <td>0</td>\n",
              "      <td>0.0</td>\n",
              "    </tr>\n",
              "  </tbody>\n",
              "</table>\n",
              "<p>407 rows × 2 columns</p>\n",
              "</div>\n",
              "      <button class=\"colab-df-convert\" onclick=\"convertToInteractive('df-adad469c-e07b-42cf-9c18-bed179486148')\"\n",
              "              title=\"Convert this dataframe to an interactive table.\"\n",
              "              style=\"display:none;\">\n",
              "        \n",
              "  <svg xmlns=\"http://www.w3.org/2000/svg\" height=\"24px\"viewBox=\"0 0 24 24\"\n",
              "       width=\"24px\">\n",
              "    <path d=\"M0 0h24v24H0V0z\" fill=\"none\"/>\n",
              "    <path d=\"M18.56 5.44l.94 2.06.94-2.06 2.06-.94-2.06-.94-.94-2.06-.94 2.06-2.06.94zm-11 1L8.5 8.5l.94-2.06 2.06-.94-2.06-.94L8.5 2.5l-.94 2.06-2.06.94zm10 10l.94 2.06.94-2.06 2.06-.94-2.06-.94-.94-2.06-.94 2.06-2.06.94z\"/><path d=\"M17.41 7.96l-1.37-1.37c-.4-.4-.92-.59-1.43-.59-.52 0-1.04.2-1.43.59L10.3 9.45l-7.72 7.72c-.78.78-.78 2.05 0 2.83L4 21.41c.39.39.9.59 1.41.59.51 0 1.02-.2 1.41-.59l7.78-7.78 2.81-2.81c.8-.78.8-2.07 0-2.86zM5.41 20L4 18.59l7.72-7.72 1.47 1.35L5.41 20z\"/>\n",
              "  </svg>\n",
              "      </button>\n",
              "      \n",
              "  <style>\n",
              "    .colab-df-container {\n",
              "      display:flex;\n",
              "      flex-wrap:wrap;\n",
              "      gap: 12px;\n",
              "    }\n",
              "\n",
              "    .colab-df-convert {\n",
              "      background-color: #E8F0FE;\n",
              "      border: none;\n",
              "      border-radius: 50%;\n",
              "      cursor: pointer;\n",
              "      display: none;\n",
              "      fill: #1967D2;\n",
              "      height: 32px;\n",
              "      padding: 0 0 0 0;\n",
              "      width: 32px;\n",
              "    }\n",
              "\n",
              "    .colab-df-convert:hover {\n",
              "      background-color: #E2EBFA;\n",
              "      box-shadow: 0px 1px 2px rgba(60, 64, 67, 0.3), 0px 1px 3px 1px rgba(60, 64, 67, 0.15);\n",
              "      fill: #174EA6;\n",
              "    }\n",
              "\n",
              "    [theme=dark] .colab-df-convert {\n",
              "      background-color: #3B4455;\n",
              "      fill: #D2E3FC;\n",
              "    }\n",
              "\n",
              "    [theme=dark] .colab-df-convert:hover {\n",
              "      background-color: #434B5C;\n",
              "      box-shadow: 0px 1px 3px 1px rgba(0, 0, 0, 0.15);\n",
              "      filter: drop-shadow(0px 1px 2px rgba(0, 0, 0, 0.3));\n",
              "      fill: #FFFFFF;\n",
              "    }\n",
              "  </style>\n",
              "\n",
              "      <script>\n",
              "        const buttonEl =\n",
              "          document.querySelector('#df-adad469c-e07b-42cf-9c18-bed179486148 button.colab-df-convert');\n",
              "        buttonEl.style.display =\n",
              "          google.colab.kernel.accessAllowed ? 'block' : 'none';\n",
              "\n",
              "        async function convertToInteractive(key) {\n",
              "          const element = document.querySelector('#df-adad469c-e07b-42cf-9c18-bed179486148');\n",
              "          const dataTable =\n",
              "            await google.colab.kernel.invokeFunction('convertToInteractive',\n",
              "                                                     [key], {});\n",
              "          if (!dataTable) return;\n",
              "\n",
              "          const docLinkHtml = 'Like what you see? Visit the ' +\n",
              "            '<a target=\"_blank\" href=https://colab.research.google.com/notebooks/data_table.ipynb>data table notebook</a>'\n",
              "            + ' to learn more about interactive tables.';\n",
              "          element.innerHTML = '';\n",
              "          dataTable['output_type'] = 'display_data';\n",
              "          await google.colab.output.renderOutput(dataTable, element);\n",
              "          const docLink = document.createElement('div');\n",
              "          docLink.innerHTML = docLinkHtml;\n",
              "          element.appendChild(docLink);\n",
              "        }\n",
              "      </script>\n",
              "    </div>\n",
              "  </div>\n",
              "  "
            ]
          },
          "metadata": {},
          "execution_count": 30
        }
      ]
    },
    {
      "cell_type": "code",
      "source": [
        "df=data\n",
        "print(df.shape)\n",
        "\n",
        "#check the total missing rows\n",
        "print(df.isnull().any(axis=1).sum())\n",
        "\n",
        "#drop the rows which contain at least NaN values\n",
        "df.dropna( axis=0,  how='any',inplace=True)\n",
        "\n",
        "#check if any NaNs after removing\n",
        "print(df.isnull().values.any())\n",
        "df.shape"
      ],
      "metadata": {
        "colab": {
          "base_uri": "https://localhost:8080/"
        },
        "id": "f7SOgA8K7V94",
        "outputId": "02caf683-3685-4deb-bdcc-0d1ec8851187"
      },
      "execution_count": 31,
      "outputs": [
        {
          "output_type": "stream",
          "name": "stdout",
          "text": [
            "(36547, 407)\n",
            "0\n",
            "False\n"
          ]
        },
        {
          "output_type": "stream",
          "name": "stderr",
          "text": [
            "/usr/local/lib/python3.7/dist-packages/pandas/util/_decorators.py:311: SettingWithCopyWarning: \n",
            "A value is trying to be set on a copy of a slice from a DataFrame\n",
            "\n",
            "See the caveats in the documentation: https://pandas.pydata.org/pandas-docs/stable/user_guide/indexing.html#returning-a-view-versus-a-copy\n",
            "  return func(*args, **kwargs)\n"
          ]
        },
        {
          "output_type": "execute_result",
          "data": {
            "text/plain": [
              "(36547, 407)"
            ]
          },
          "metadata": {},
          "execution_count": 31
        }
      ]
    },
    {
      "cell_type": "code",
      "source": [
        "#finding the unique number of labels in the dataset\n",
        "\n",
        "print(\"No. of unique labels \", len(df['New_label'].unique()))\n",
        "print(\"Label values \",df.New_label.unique())"
      ],
      "metadata": {
        "colab": {
          "base_uri": "https://localhost:8080/"
        },
        "id": "H26YYTx72A9q",
        "outputId": "20764f24-3005-4d4e-b4f2-3e4888020a9b"
      },
      "execution_count": 32,
      "outputs": [
        {
          "output_type": "stream",
          "name": "stdout",
          "text": [
            "No. of unique labels  2\n",
            "Label values  [2 0]\n"
          ]
        }
      ]
    },
    {
      "cell_type": "code",
      "source": [
        "#finding the count & percentage for each label \n",
        "\n",
        "data = df['New_label'].value_counts().to_frame().reset_index()\n",
        "data['percent'] = data[\"New_label\"].apply(lambda x : round(100*float(x) / len(df), 2))\n",
        "data = data.rename(columns = {\"index\" : \"Target\", \"New_label\" : \"Count\"})\n",
        "data"
      ],
      "metadata": {
        "colab": {
          "base_uri": "https://localhost:8080/",
          "height": 112
        },
        "id": "jT9uIx14dTFv",
        "outputId": "ffc7f68f-83d1-4741-8ff7-e87a9aa49427"
      },
      "execution_count": 34,
      "outputs": [
        {
          "output_type": "execute_result",
          "data": {
            "text/plain": [
              "   Target  Count  percent\n",
              "0       0  35231     96.4\n",
              "1       2   1316      3.6"
            ],
            "text/html": [
              "\n",
              "  <div id=\"df-a2ea9ede-2b2e-4e95-ad17-d4dddc6f66f0\">\n",
              "    <div class=\"colab-df-container\">\n",
              "      <div>\n",
              "<style scoped>\n",
              "    .dataframe tbody tr th:only-of-type {\n",
              "        vertical-align: middle;\n",
              "    }\n",
              "\n",
              "    .dataframe tbody tr th {\n",
              "        vertical-align: top;\n",
              "    }\n",
              "\n",
              "    .dataframe thead th {\n",
              "        text-align: right;\n",
              "    }\n",
              "</style>\n",
              "<table border=\"1\" class=\"dataframe\">\n",
              "  <thead>\n",
              "    <tr style=\"text-align: right;\">\n",
              "      <th></th>\n",
              "      <th>Target</th>\n",
              "      <th>Count</th>\n",
              "      <th>percent</th>\n",
              "    </tr>\n",
              "  </thead>\n",
              "  <tbody>\n",
              "    <tr>\n",
              "      <th>0</th>\n",
              "      <td>0</td>\n",
              "      <td>35231</td>\n",
              "      <td>96.4</td>\n",
              "    </tr>\n",
              "    <tr>\n",
              "      <th>1</th>\n",
              "      <td>2</td>\n",
              "      <td>1316</td>\n",
              "      <td>3.6</td>\n",
              "    </tr>\n",
              "  </tbody>\n",
              "</table>\n",
              "</div>\n",
              "      <button class=\"colab-df-convert\" onclick=\"convertToInteractive('df-a2ea9ede-2b2e-4e95-ad17-d4dddc6f66f0')\"\n",
              "              title=\"Convert this dataframe to an interactive table.\"\n",
              "              style=\"display:none;\">\n",
              "        \n",
              "  <svg xmlns=\"http://www.w3.org/2000/svg\" height=\"24px\"viewBox=\"0 0 24 24\"\n",
              "       width=\"24px\">\n",
              "    <path d=\"M0 0h24v24H0V0z\" fill=\"none\"/>\n",
              "    <path d=\"M18.56 5.44l.94 2.06.94-2.06 2.06-.94-2.06-.94-.94-2.06-.94 2.06-2.06.94zm-11 1L8.5 8.5l.94-2.06 2.06-.94-2.06-.94L8.5 2.5l-.94 2.06-2.06.94zm10 10l.94 2.06.94-2.06 2.06-.94-2.06-.94-.94-2.06-.94 2.06-2.06.94z\"/><path d=\"M17.41 7.96l-1.37-1.37c-.4-.4-.92-.59-1.43-.59-.52 0-1.04.2-1.43.59L10.3 9.45l-7.72 7.72c-.78.78-.78 2.05 0 2.83L4 21.41c.39.39.9.59 1.41.59.51 0 1.02-.2 1.41-.59l7.78-7.78 2.81-2.81c.8-.78.8-2.07 0-2.86zM5.41 20L4 18.59l7.72-7.72 1.47 1.35L5.41 20z\"/>\n",
              "  </svg>\n",
              "      </button>\n",
              "      \n",
              "  <style>\n",
              "    .colab-df-container {\n",
              "      display:flex;\n",
              "      flex-wrap:wrap;\n",
              "      gap: 12px;\n",
              "    }\n",
              "\n",
              "    .colab-df-convert {\n",
              "      background-color: #E8F0FE;\n",
              "      border: none;\n",
              "      border-radius: 50%;\n",
              "      cursor: pointer;\n",
              "      display: none;\n",
              "      fill: #1967D2;\n",
              "      height: 32px;\n",
              "      padding: 0 0 0 0;\n",
              "      width: 32px;\n",
              "    }\n",
              "\n",
              "    .colab-df-convert:hover {\n",
              "      background-color: #E2EBFA;\n",
              "      box-shadow: 0px 1px 2px rgba(60, 64, 67, 0.3), 0px 1px 3px 1px rgba(60, 64, 67, 0.15);\n",
              "      fill: #174EA6;\n",
              "    }\n",
              "\n",
              "    [theme=dark] .colab-df-convert {\n",
              "      background-color: #3B4455;\n",
              "      fill: #D2E3FC;\n",
              "    }\n",
              "\n",
              "    [theme=dark] .colab-df-convert:hover {\n",
              "      background-color: #434B5C;\n",
              "      box-shadow: 0px 1px 3px 1px rgba(0, 0, 0, 0.15);\n",
              "      filter: drop-shadow(0px 1px 2px rgba(0, 0, 0, 0.3));\n",
              "      fill: #FFFFFF;\n",
              "    }\n",
              "  </style>\n",
              "\n",
              "      <script>\n",
              "        const buttonEl =\n",
              "          document.querySelector('#df-a2ea9ede-2b2e-4e95-ad17-d4dddc6f66f0 button.colab-df-convert');\n",
              "        buttonEl.style.display =\n",
              "          google.colab.kernel.accessAllowed ? 'block' : 'none';\n",
              "\n",
              "        async function convertToInteractive(key) {\n",
              "          const element = document.querySelector('#df-a2ea9ede-2b2e-4e95-ad17-d4dddc6f66f0');\n",
              "          const dataTable =\n",
              "            await google.colab.kernel.invokeFunction('convertToInteractive',\n",
              "                                                     [key], {});\n",
              "          if (!dataTable) return;\n",
              "\n",
              "          const docLinkHtml = 'Like what you see? Visit the ' +\n",
              "            '<a target=\"_blank\" href=https://colab.research.google.com/notebooks/data_table.ipynb>data table notebook</a>'\n",
              "            + ' to learn more about interactive tables.';\n",
              "          element.innerHTML = '';\n",
              "          dataTable['output_type'] = 'display_data';\n",
              "          await google.colab.output.renderOutput(dataTable, element);\n",
              "          const docLink = document.createElement('div');\n",
              "          docLink.innerHTML = docLinkHtml;\n",
              "          element.appendChild(docLink);\n",
              "        }\n",
              "      </script>\n",
              "    </div>\n",
              "  </div>\n",
              "  "
            ]
          },
          "metadata": {},
          "execution_count": 34
        }
      ]
    },
    {
      "cell_type": "markdown",
      "source": [
        "## Imabalanced dataset"
      ],
      "metadata": {
        "id": "_9pbzwmG3YPT"
      }
    },
    {
      "cell_type": "code",
      "source": [
        "#visualizing both the New_label classes\n",
        "\n",
        "countSet = df['New_label'].value_counts()\n",
        "countSet\n",
        "\n",
        "plt.figure(figsize=(12,8))\n",
        "sns.barplot(countSet.index,countSet.values,)\n",
        "plt.ylabel('Number of observations')\n",
        "plt.xlabel('New_labels')\n",
        "plt.title('Frequency by observation number')\n",
        "plt.xticks(rotation='vertical')\n",
        "plt.show()"
      ],
      "metadata": {
        "colab": {
          "base_uri": "https://localhost:8080/",
          "height": 565
        },
        "id": "nhExNlak2Go2",
        "outputId": "e1b70dc1-e2d3-4bd0-9a8a-3046f28ce7cf"
      },
      "execution_count": 35,
      "outputs": [
        {
          "output_type": "stream",
          "name": "stderr",
          "text": [
            "/usr/local/lib/python3.7/dist-packages/seaborn/_decorators.py:43: FutureWarning: Pass the following variables as keyword args: x, y. From version 0.12, the only valid positional argument will be `data`, and passing other arguments without an explicit keyword will result in an error or misinterpretation.\n",
            "  FutureWarning\n"
          ]
        },
        {
          "output_type": "display_data",
          "data": {
            "text/plain": [
              "<Figure size 864x576 with 1 Axes>"
            ],
            "image/png": "[encoded data removed]"
          },
          "metadata": {
            "needs_background": "light"
          }
        }
      ]
    },
    {
      "cell_type": "code",
      "source": [
        "Normal = df[df['New_label']==0]\n",
        "Anomly = df[df['New_label']==2]\n",
        "outlier_fraction = len(Anomly)/float(len(Normal))\n",
        "print(outlier_fraction)"
      ],
      "metadata": {
        "colab": {
          "base_uri": "https://localhost:8080/"
        },
        "id": "501vjj6eNjA9",
        "outputId": "5e6e678d-4ca8-4042-c8d8-366a5e8ce892"
      },
      "execution_count": 36,
      "outputs": [
        {
          "output_type": "stream",
          "name": "stdout",
          "text": [
            "0.03735346711702762\n"
          ]
        }
      ]
    },
    {
      "cell_type": "code",
      "source": [
        "#drop the label and timestamp as they are not required\n",
        "\n",
        "df.drop('label', axis=1, inplace=True)\n",
        "df.drop('timestamp', axis=1, inplace=True)"
      ],
      "metadata": {
        "id": "HNs3lh3n4LW9",
        "colab": {
          "base_uri": "https://localhost:8080/"
        },
        "outputId": "23abe3fb-13d6-42e8-bc9f-2c4d6426d1c7"
      },
      "execution_count": 37,
      "outputs": [
        {
          "output_type": "stream",
          "name": "stderr",
          "text": [
            "/usr/local/lib/python3.7/dist-packages/pandas/core/frame.py:4913: SettingWithCopyWarning: \n",
            "A value is trying to be set on a copy of a slice from a DataFrame\n",
            "\n",
            "See the caveats in the documentation: https://pandas.pydata.org/pandas-docs/stable/user_guide/indexing.html#returning-a-view-versus-a-copy\n",
            "  errors=errors,\n"
          ]
        }
      ]
    },
    {
      "cell_type": "code",
      "source": [
        "df1=df"
      ],
      "metadata": {
        "id": "_x75AoWKGFbS"
      },
      "execution_count": 38,
      "outputs": []
    },
    {
      "cell_type": "code",
      "source": [
        "df.shape"
      ],
      "metadata": {
        "colab": {
          "base_uri": "https://localhost:8080/"
        },
        "id": "YeGx042E8_h1",
        "outputId": "f543c8a2-0f9e-40ae-fc52-81d69732f955"
      },
      "execution_count": 39,
      "outputs": [
        {
          "output_type": "execute_result",
          "data": {
            "text/plain": [
              "(36547, 405)"
            ]
          },
          "metadata": {},
          "execution_count": 39
        }
      ]
    },
    {
      "cell_type": "markdown",
      "source": [
        "##Train Test Split"
      ],
      "metadata": {
        "id": "c53Ny6VSd1i2"
      }
    },
    {
      "cell_type": "code",
      "source": [
        "#train test split with 80% training and 20% testing\n",
        "\n",
        "X_train, X_test = train_test_split(df,test_size = 0.2,random_state=2022)"
      ],
      "metadata": {
        "id": "YMAeJUhpdz3P"
      },
      "execution_count": 40,
      "outputs": []
    },
    {
      "cell_type": "code",
      "source": [
        "#training the model with only Normal dataset so keeping only the normal data during the training and removing anomolies from the training dataset\n",
        "\n",
        "X_train=X_train[X_train.New_label==0]\n",
        "X_train = X_train.drop(['New_label'], axis=1) \n",
        "y_test = X_test['New_label']\n",
        "X_test = X_test.drop(['New_label'], axis=1)"
      ],
      "metadata": {
        "id": "A8PC2CeJeAkK"
      },
      "execution_count": 41,
      "outputs": []
    },
    {
      "cell_type": "code",
      "source": [
        "X_test"
      ],
      "metadata": {
        "colab": {
          "base_uri": "https://localhost:8080/",
          "height": 519
        },
        "id": "jlfeoNwcecnj",
        "outputId": "b66573c8-2c83-41f5-e024-d27e072adfaf"
      },
      "execution_count": 42,
      "outputs": [
        {
          "output_type": "execute_result",
          "data": {
            "text/plain": [
              "       avg:ambient  var:ambient  max:ambient  min:ambient  avg:dimm0_temp  \\\n",
              "index                                                                       \n",
              "77667    24.573333     0.004952         24.6         24.4       31.000000   \n",
              "61686    24.400000     0.000000         24.4         24.4       32.000000   \n",
              "78582    23.640000     0.006857         23.8         23.6       31.000000   \n",
              "78696    23.600000     0.000000         23.6         23.6       31.000000   \n",
              "92568    24.000000     0.000000         24.0         24.0       31.000000   \n",
              "...            ...          ...          ...          ...             ...   \n",
              "1977     20.866667     0.009524         21.0         20.8       28.000000   \n",
              "64953    24.773333     0.004952         24.8         24.6       32.000000   \n",
              "48534    23.400000     0.000000         23.4         23.4       30.933333   \n",
              "13815    26.520000     0.010286         26.6         26.4       32.000000   \n",
              "14076    24.053333     0.025524         24.2         23.8       30.866667   \n",
              "\n",
              "       var:dimm0_temp  max:dimm0_temp  min:dimm0_temp  avg:dimm10_temp  \\\n",
              "index                                                                    \n",
              "77667        0.000000              31              31             33.0   \n",
              "61686        0.000000              32              32             33.0   \n",
              "78582        0.000000              31              31             32.0   \n",
              "78696        0.000000              31              31             32.0   \n",
              "92568        0.000000              31              31             32.0   \n",
              "...               ...             ...             ...              ...   \n",
              "1977         0.000000              28              28             30.0   \n",
              "64953        0.000000              32              32             33.0   \n",
              "48534        0.066667              31              30             32.0   \n",
              "13815        0.000000              32              32             34.0   \n",
              "14076        0.123810              31              30             33.0   \n",
              "\n",
              "       var:dimm10_temp  ...  max:proc_total  min:proc_total  avg:swap_free  \\\n",
              "index                   ...                                                  \n",
              "77667              0.0  ...            2027            2025   3.749504e+06   \n",
              "61686              0.0  ...            1764            1758   3.736384e+06   \n",
              "78582              0.0  ...            2032            2028   3.749504e+06   \n",
              "78696              0.0  ...            2033            2026   3.749504e+06   \n",
              "92568              0.0  ...            1739            1732   4.194240e+06   \n",
              "...                ...  ...             ...             ...            ...   \n",
              "1977               0.0  ...            1885            1882   4.194240e+06   \n",
              "64953              0.0  ...            1761            1760   3.736768e+06   \n",
              "48534              0.0  ...            1723            1721   3.593419e+06   \n",
              "13815              0.0  ...            1635            1633   4.194240e+06   \n",
              "14076              0.0  ...            1662            1656   4.194240e+06   \n",
              "\n",
              "       var:swap_free  max:swap_free  min:swap_free  avg:swap_total  \\\n",
              "index                                                                \n",
              "77667       0.000000        3749504        3749504         4194240   \n",
              "61686       0.000000        3736384        3736384         4194240   \n",
              "78582       0.000000        3749504        3749504         4194240   \n",
              "78696       0.000000        3749504        3749504         4194240   \n",
              "92568       0.000000        4194240        4194240         4194240   \n",
              "...              ...            ...            ...             ...   \n",
              "1977        0.000000        4194240        4194240         4194240   \n",
              "64953       0.000000        3736768        3736768         4194240   \n",
              "48534     682.666667        3593472        3593408         4194240   \n",
              "13815       0.000000        4194240        4194240         4194240   \n",
              "14076       0.000000        4194240        4194240         4194240   \n",
              "\n",
              "       var:swap_total  max:swap_total  min:swap_total  \n",
              "index                                                  \n",
              "77667             0.0         4194240         4194240  \n",
              "61686             0.0         4194240         4194240  \n",
              "78582             0.0         4194240         4194240  \n",
              "78696             0.0         4194240         4194240  \n",
              "92568             0.0         4194240         4194240  \n",
              "...               ...             ...             ...  \n",
              "1977              0.0         4194240         4194240  \n",
              "64953             0.0         4194240         4194240  \n",
              "48534             0.0         4194240         4194240  \n",
              "13815             0.0         4194240         4194240  \n",
              "14076             0.0         4194240         4194240  \n",
              "\n",
              "[7310 rows x 404 columns]"
            ],
            "text/html": [
              "\n",
              "  <div id=\"df-5a26f49a-2898-424f-9d6a-153ee19bd951\">\n",
              "    <div class=\"colab-df-container\">\n",
              "      <div>\n",
              "<style scoped>\n",
              "    .dataframe tbody tr th:only-of-type {\n",
              "        vertical-align: middle;\n",
              "    }\n",
              "\n",
              "    .dataframe tbody tr th {\n",
              "        vertical-align: top;\n",
              "    }\n",
              "\n",
              "    .dataframe thead th {\n",
              "        text-align: right;\n",
              "    }\n",
              "</style>\n",
              "<table border=\"1\" class=\"dataframe\">\n",
              "  <thead>\n",
              "    <tr style=\"text-align: right;\">\n",
              "      <th></th>\n",
              "      <th>avg:ambient</th>\n",
              "      <th>var:ambient</th>\n",
              "      <th>max:ambient</th>\n",
              "      <th>min:ambient</th>\n",
              "      <th>avg:dimm0_temp</th>\n",
              "      <th>var:dimm0_temp</th>\n",
              "      <th>max:dimm0_temp</th>\n",
              "      <th>min:dimm0_temp</th>\n",
              "      <th>avg:dimm10_temp</th>\n",
              "      <th>var:dimm10_temp</th>\n",
              "      <th>...</th>\n",
              "      <th>max:proc_total</th>\n",
              "      <th>min:proc_total</th>\n",
              "      <th>avg:swap_free</th>\n",
              "      <th>var:swap_free</th>\n",
              "      <th>max:swap_free</th>\n",
              "      <th>min:swap_free</th>\n",
              "      <th>avg:swap_total</th>\n",
              "      <th>var:swap_total</th>\n",
              "      <th>max:swap_total</th>\n",
              "      <th>min:swap_total</th>\n",
              "    </tr>\n",
              "    <tr>\n",
              "      <th>index</th>\n",
              "      <th></th>\n",
              "      <th></th>\n",
              "      <th></th>\n",
              "      <th></th>\n",
              "      <th></th>\n",
              "      <th></th>\n",
              "      <th></th>\n",
              "      <th></th>\n",
              "      <th></th>\n",
              "      <th></th>\n",
              "      <th></th>\n",
              "      <th></th>\n",
              "      <th></th>\n",
              "      <th></th>\n",
              "      <th></th>\n",
              "      <th></th>\n",
              "      <th></th>\n",
              "      <th></th>\n",
              "      <th></th>\n",
              "      <th></th>\n",
              "      <th></th>\n",
              "    </tr>\n",
              "  </thead>\n",
              "  <tbody>\n",
              "    <tr>\n",
              "      <th>77667</th>\n",
              "      <td>24.573333</td>\n",
              "      <td>0.004952</td>\n",
              "      <td>24.6</td>\n",
              "      <td>24.4</td>\n",
              "      <td>31.000000</td>\n",
              "      <td>0.000000</td>\n",
              "      <td>31</td>\n",
              "      <td>31</td>\n",
              "      <td>33.0</td>\n",
              "      <td>0.0</td>\n",
              "      <td>...</td>\n",
              "      <td>2027</td>\n",
              "      <td>2025</td>\n",
              "      <td>3.749504e+06</td>\n",
              "      <td>0.000000</td>\n",
              "      <td>3749504</td>\n",
              "      <td>3749504</td>\n",
              "      <td>4194240</td>\n",
              "      <td>0.0</td>\n",
              "      <td>4194240</td>\n",
              "      <td>4194240</td>\n",
              "    </tr>\n",
              "    <tr>\n",
              "      <th>61686</th>\n",
              "      <td>24.400000</td>\n",
              "      <td>0.000000</td>\n",
              "      <td>24.4</td>\n",
              "      <td>24.4</td>\n",
              "      <td>32.000000</td>\n",
              "      <td>0.000000</td>\n",
              "      <td>32</td>\n",
              "      <td>32</td>\n",
              "      <td>33.0</td>\n",
              "      <td>0.0</td>\n",
              "      <td>...</td>\n",
              "      <td>1764</td>\n",
              "      <td>1758</td>\n",
              "      <td>3.736384e+06</td>\n",
              "      <td>0.000000</td>\n",
              "      <td>3736384</td>\n",
              "      <td>3736384</td>\n",
              "      <td>4194240</td>\n",
              "      <td>0.0</td>\n",
              "      <td>4194240</td>\n",
              "      <td>4194240</td>\n",
              "    </tr>\n",
              "    <tr>\n",
              "      <th>78582</th>\n",
              "      <td>23.640000</td>\n",
              "      <td>0.006857</td>\n",
              "      <td>23.8</td>\n",
              "      <td>23.6</td>\n",
              "      <td>31.000000</td>\n",
              "      <td>0.000000</td>\n",
              "      <td>31</td>\n",
              "      <td>31</td>\n",
              "      <td>32.0</td>\n",
              "      <td>0.0</td>\n",
              "      <td>...</td>\n",
              "      <td>2032</td>\n",
              "      <td>2028</td>\n",
              "      <td>3.749504e+06</td>\n",
              "      <td>0.000000</td>\n",
              "      <td>3749504</td>\n",
              "      <td>3749504</td>\n",
              "      <td>4194240</td>\n",
              "      <td>0.0</td>\n",
              "      <td>4194240</td>\n",
              "      <td>4194240</td>\n",
              "    </tr>\n",
              "    <tr>\n",
              "      <th>78696</th>\n",
              "      <td>23.600000</td>\n",
              "      <td>0.000000</td>\n",
              "      <td>23.6</td>\n",
              "      <td>23.6</td>\n",
              "      <td>31.000000</td>\n",
              "      <td>0.000000</td>\n",
              "      <td>31</td>\n",
              "      <td>31</td>\n",
              "      <td>32.0</td>\n",
              "      <td>0.0</td>\n",
              "      <td>...</td>\n",
              "      <td>2033</td>\n",
              "      <td>2026</td>\n",
              "      <td>3.749504e+06</td>\n",
              "      <td>0.000000</td>\n",
              "      <td>3749504</td>\n",
              "      <td>3749504</td>\n",
              "      <td>4194240</td>\n",
              "      <td>0.0</td>\n",
              "      <td>4194240</td>\n",
              "      <td>4194240</td>\n",
              "    </tr>\n",
              "    <tr>\n",
              "      <th>92568</th>\n",
              "      <td>24.000000</td>\n",
              "      <td>0.000000</td>\n",
              "      <td>24.0</td>\n",
              "      <td>24.0</td>\n",
              "      <td>31.000000</td>\n",
              "      <td>0.000000</td>\n",
              "      <td>31</td>\n",
              "      <td>31</td>\n",
              "      <td>32.0</td>\n",
              "      <td>0.0</td>\n",
              "      <td>...</td>\n",
              "      <td>1739</td>\n",
              "      <td>1732</td>\n",
              "      <td>4.194240e+06</td>\n",
              "      <td>0.000000</td>\n",
              "      <td>4194240</td>\n",
              "      <td>4194240</td>\n",
              "      <td>4194240</td>\n",
              "      <td>0.0</td>\n",
              "      <td>4194240</td>\n",
              "      <td>4194240</td>\n",
              "    </tr>\n",
              "    <tr>\n",
              "      <th>...</th>\n",
              "      <td>...</td>\n",
              "      <td>...</td>\n",
              "      <td>...</td>\n",
              "      <td>...</td>\n",
              "      <td>...</td>\n",
              "      <td>...</td>\n",
              "      <td>...</td>\n",
              "      <td>...</td>\n",
              "      <td>...</td>\n",
              "      <td>...</td>\n",
              "      <td>...</td>\n",
              "      <td>...</td>\n",
              "      <td>...</td>\n",
              "      <td>...</td>\n",
              "      <td>...</td>\n",
              "      <td>...</td>\n",
              "      <td>...</td>\n",
              "      <td>...</td>\n",
              "      <td>...</td>\n",
              "      <td>...</td>\n",
              "      <td>...</td>\n",
              "    </tr>\n",
              "    <tr>\n",
              "      <th>1977</th>\n",
              "      <td>20.866667</td>\n",
              "      <td>0.009524</td>\n",
              "      <td>21.0</td>\n",
              "      <td>20.8</td>\n",
              "      <td>28.000000</td>\n",
              "      <td>0.000000</td>\n",
              "      <td>28</td>\n",
              "      <td>28</td>\n",
              "      <td>30.0</td>\n",
              "      <td>0.0</td>\n",
              "      <td>...</td>\n",
              "      <td>1885</td>\n",
              "      <td>1882</td>\n",
              "      <td>4.194240e+06</td>\n",
              "      <td>0.000000</td>\n",
              "      <td>4194240</td>\n",
              "      <td>4194240</td>\n",
              "      <td>4194240</td>\n",
              "      <td>0.0</td>\n",
              "      <td>4194240</td>\n",
              "      <td>4194240</td>\n",
              "    </tr>\n",
              "    <tr>\n",
              "      <th>64953</th>\n",
              "      <td>24.773333</td>\n",
              "      <td>0.004952</td>\n",
              "      <td>24.8</td>\n",
              "      <td>24.6</td>\n",
              "      <td>32.000000</td>\n",
              "      <td>0.000000</td>\n",
              "      <td>32</td>\n",
              "      <td>32</td>\n",
              "      <td>33.0</td>\n",
              "      <td>0.0</td>\n",
              "      <td>...</td>\n",
              "      <td>1761</td>\n",
              "      <td>1760</td>\n",
              "      <td>3.736768e+06</td>\n",
              "      <td>0.000000</td>\n",
              "      <td>3736768</td>\n",
              "      <td>3736768</td>\n",
              "      <td>4194240</td>\n",
              "      <td>0.0</td>\n",
              "      <td>4194240</td>\n",
              "      <td>4194240</td>\n",
              "    </tr>\n",
              "    <tr>\n",
              "      <th>48534</th>\n",
              "      <td>23.400000</td>\n",
              "      <td>0.000000</td>\n",
              "      <td>23.4</td>\n",
              "      <td>23.4</td>\n",
              "      <td>30.933333</td>\n",
              "      <td>0.066667</td>\n",
              "      <td>31</td>\n",
              "      <td>30</td>\n",
              "      <td>32.0</td>\n",
              "      <td>0.0</td>\n",
              "      <td>...</td>\n",
              "      <td>1723</td>\n",
              "      <td>1721</td>\n",
              "      <td>3.593419e+06</td>\n",
              "      <td>682.666667</td>\n",
              "      <td>3593472</td>\n",
              "      <td>3593408</td>\n",
              "      <td>4194240</td>\n",
              "      <td>0.0</td>\n",
              "      <td>4194240</td>\n",
              "      <td>4194240</td>\n",
              "    </tr>\n",
              "    <tr>\n",
              "      <th>13815</th>\n",
              "      <td>26.520000</td>\n",
              "      <td>0.010286</td>\n",
              "      <td>26.6</td>\n",
              "      <td>26.4</td>\n",
              "      <td>32.000000</td>\n",
              "      <td>0.000000</td>\n",
              "      <td>32</td>\n",
              "      <td>32</td>\n",
              "      <td>34.0</td>\n",
              "      <td>0.0</td>\n",
              "      <td>...</td>\n",
              "      <td>1635</td>\n",
              "      <td>1633</td>\n",
              "      <td>4.194240e+06</td>\n",
              "      <td>0.000000</td>\n",
              "      <td>4194240</td>\n",
              "      <td>4194240</td>\n",
              "      <td>4194240</td>\n",
              "      <td>0.0</td>\n",
              "      <td>4194240</td>\n",
              "      <td>4194240</td>\n",
              "    </tr>\n",
              "    <tr>\n",
              "      <th>14076</th>\n",
              "      <td>24.053333</td>\n",
              "      <td>0.025524</td>\n",
              "      <td>24.2</td>\n",
              "      <td>23.8</td>\n",
              "      <td>30.866667</td>\n",
              "      <td>0.123810</td>\n",
              "      <td>31</td>\n",
              "      <td>30</td>\n",
              "      <td>33.0</td>\n",
              "      <td>0.0</td>\n",
              "      <td>...</td>\n",
              "      <td>1662</td>\n",
              "      <td>1656</td>\n",
              "      <td>4.194240e+06</td>\n",
              "      <td>0.000000</td>\n",
              "      <td>4194240</td>\n",
              "      <td>4194240</td>\n",
              "      <td>4194240</td>\n",
              "      <td>0.0</td>\n",
              "      <td>4194240</td>\n",
              "      <td>4194240</td>\n",
              "    </tr>\n",
              "  </tbody>\n",
              "</table>\n",
              "<p>7310 rows × 404 columns</p>\n",
              "</div>\n",
              "      <button class=\"colab-df-convert\" onclick=\"convertToInteractive('df-5a26f49a-2898-424f-9d6a-153ee19bd951')\"\n",
              "              title=\"Convert this dataframe to an interactive table.\"\n",
              "              style=\"display:none;\">\n",
              "        \n",
              "  <svg xmlns=\"http://www.w3.org/2000/svg\" height=\"24px\"viewBox=\"0 0 24 24\"\n",
              "       width=\"24px\">\n",
              "    <path d=\"M0 0h24v24H0V0z\" fill=\"none\"/>\n",
              "    <path d=\"M18.56 5.44l.94 2.06.94-2.06 2.06-.94-2.06-.94-.94-2.06-.94 2.06-2.06.94zm-11 1L8.5 8.5l.94-2.06 2.06-.94-2.06-.94L8.5 2.5l-.94 2.06-2.06.94zm10 10l.94 2.06.94-2.06 2.06-.94-2.06-.94-.94-2.06-.94 2.06-2.06.94z\"/><path d=\"M17.41 7.96l-1.37-1.37c-.4-.4-.92-.59-1.43-.59-.52 0-1.04.2-1.43.59L10.3 9.45l-7.72 7.72c-.78.78-.78 2.05 0 2.83L4 21.41c.39.39.9.59 1.41.59.51 0 1.02-.2 1.41-.59l7.78-7.78 2.81-2.81c.8-.78.8-2.07 0-2.86zM5.41 20L4 18.59l7.72-7.72 1.47 1.35L5.41 20z\"/>\n",
              "  </svg>\n",
              "      </button>\n",
              "      \n",
              "  <style>\n",
              "    .colab-df-container {\n",
              "      display:flex;\n",
              "      flex-wrap:wrap;\n",
              "      gap: 12px;\n",
              "    }\n",
              "\n",
              "    .colab-df-convert {\n",
              "      background-color: #E8F0FE;\n",
              "      border: none;\n",
              "      border-radius: 50%;\n",
              "      cursor: pointer;\n",
              "      display: none;\n",
              "      fill: #1967D2;\n",
              "      height: 32px;\n",
              "      padding: 0 0 0 0;\n",
              "      width: 32px;\n",
              "    }\n",
              "\n",
              "    .colab-df-convert:hover {\n",
              "      background-color: #E2EBFA;\n",
              "      box-shadow: 0px 1px 2px rgba(60, 64, 67, 0.3), 0px 1px 3px 1px rgba(60, 64, 67, 0.15);\n",
              "      fill: #174EA6;\n",
              "    }\n",
              "\n",
              "    [theme=dark] .colab-df-convert {\n",
              "      background-color: #3B4455;\n",
              "      fill: #D2E3FC;\n",
              "    }\n",
              "\n",
              "    [theme=dark] .colab-df-convert:hover {\n",
              "      background-color: #434B5C;\n",
              "      box-shadow: 0px 1px 3px 1px rgba(0, 0, 0, 0.15);\n",
              "      filter: drop-shadow(0px 1px 2px rgba(0, 0, 0, 0.3));\n",
              "      fill: #FFFFFF;\n",
              "    }\n",
              "  </style>\n",
              "\n",
              "      <script>\n",
              "        const buttonEl =\n",
              "          document.querySelector('#df-5a26f49a-2898-424f-9d6a-153ee19bd951 button.colab-df-convert');\n",
              "        buttonEl.style.display =\n",
              "          google.colab.kernel.accessAllowed ? 'block' : 'none';\n",
              "\n",
              "        async function convertToInteractive(key) {\n",
              "          const element = document.querySelector('#df-5a26f49a-2898-424f-9d6a-153ee19bd951');\n",
              "          const dataTable =\n",
              "            await google.colab.kernel.invokeFunction('convertToInteractive',\n",
              "                                                     [key], {});\n",
              "          if (!dataTable) return;\n",
              "\n",
              "          const docLinkHtml = 'Like what you see? Visit the ' +\n",
              "            '<a target=\"_blank\" href=https://colab.research.google.com/notebooks/data_table.ipynb>data table notebook</a>'\n",
              "            + ' to learn more about interactive tables.';\n",
              "          element.innerHTML = '';\n",
              "          dataTable['output_type'] = 'display_data';\n",
              "          await google.colab.output.renderOutput(dataTable, element);\n",
              "          const docLink = document.createElement('div');\n",
              "          docLink.innerHTML = docLinkHtml;\n",
              "          element.appendChild(docLink);\n",
              "        }\n",
              "      </script>\n",
              "    </div>\n",
              "  </div>\n",
              "  "
            ]
          },
          "metadata": {},
          "execution_count": 42
        }
      ]
    },
    {
      "cell_type": "markdown",
      "source": [
        "##Minmax Scaling"
      ],
      "metadata": {
        "id": "BWe1g24Yeyiv"
      }
    },
    {
      "cell_type": "code",
      "source": [
        "#performing minmax scaling on dataframe X_train,X_test & y_test\n",
        "\n",
        "normalizer = preprocessing.MinMaxScaler(feature_range=(0, 1))\n",
        "normalized_train_X = pd.DataFrame(normalizer.fit_transform(X_train),  columns = X_train.columns)\n",
        "normalized_test_X = pd.DataFrame(normalizer.fit_transform(X_test),  columns = X_test.columns)\n",
        "normalized_test_y=normalizer.fit_transform(y_test.values.reshape(-1,1))\n",
        "\n",
        "#converting the 2d array to 1d flattened array\n",
        "y_test_=normalized_test_y.ravel()"
      ],
      "metadata": {
        "id": "-OwbTVv8e055"
      },
      "execution_count": 43,
      "outputs": []
    },
    {
      "cell_type": "code",
      "source": [
        "normalized_test_y.shape"
      ],
      "metadata": {
        "colab": {
          "base_uri": "https://localhost:8080/"
        },
        "id": "UxsscaYKjpqj",
        "outputId": "6527a24a-cf3d-4600-b8fa-9c955fc767af"
      },
      "execution_count": 44,
      "outputs": [
        {
          "output_type": "execute_result",
          "data": {
            "text/plain": [
              "(7310, 1)"
            ]
          },
          "metadata": {},
          "execution_count": 44
        }
      ]
    },
    {
      "cell_type": "code",
      "source": [
        "normalized_test_X.shape"
      ],
      "metadata": {
        "colab": {
          "base_uri": "https://localhost:8080/"
        },
        "id": "yzEbL3uNAzTG",
        "outputId": "c5fef3c6-1a65-467c-863f-cecf33501be1"
      },
      "execution_count": 45,
      "outputs": [
        {
          "output_type": "execute_result",
          "data": {
            "text/plain": [
              "(7310, 404)"
            ]
          },
          "metadata": {},
          "execution_count": 45
        }
      ]
    },
    {
      "cell_type": "markdown",
      "source": [
        "## Semi Supervised Algorithm: Autoencoder"
      ],
      "metadata": {
        "id": "82DYlnM3fIn4"
      }
    },
    {
      "cell_type": "code",
      "source": [
        "#providing the parameters for the autoencoder model\n",
        "\n",
        "input_dim=normalized_train_X.shape[1]\n",
        "print('input_dim',input_dim)\n",
        "encoding_dim=230\n",
        "print('encoding_dim',encoding_dim)\n",
        "hidden_dim_1 = int(encoding_dim / 2)\n",
        "print('hidden_dim_1',hidden_dim_1)\n",
        "hidden_dim_2=60\n",
        "print('hidden_dim_2',hidden_dim_2)\n",
        "epoch=100\n",
        "batch_size=32\n",
        "learning_rate = 1e-5"
      ],
      "metadata": {
        "colab": {
          "base_uri": "https://localhost:8080/"
        },
        "id": "zWJrjq_6fKkL",
        "outputId": "15c0dd46-9812-44bd-ffcb-a3691026ada5"
      },
      "execution_count": 46,
      "outputs": [
        {
          "output_type": "stream",
          "name": "stdout",
          "text": [
            "input_dim 404\n",
            "encoding_dim 230\n",
            "hidden_dim_1 115\n",
            "hidden_dim_2 60\n"
          ]
        }
      ]
    },
    {
      "cell_type": "code",
      "source": [
        "#Implementation of autoencoder model\n",
        "\n",
        "input_layer = Input(shape=(input_dim, ))\n",
        "encoder = Dense(encoding_dim, activation=\"tanh\", activity_regularizer=regularizers.l2(learning_rate))(input_layer)\n",
        "encoder=Dropout(0.2)(encoder)\n",
        "encoder =Dense(hidden_dim_1, activation='relu')(encoder)\n",
        "# encoder=Dropout(0.2)(encoder)\n",
        "encoder = Dense(hidden_dim_2, activation=\"tanh\")(encoder)\n",
        "\n",
        "\n",
        "decoder = Dense(hidden_dim_1, activation='relu')(encoder)\n",
        "decoder=Dropout(0.2)(decoder)\n",
        "decoder = Dense(encoding_dim, activation='tanh')(decoder)\n",
        "# decoder=Dropout(0.2)(decoder)\n",
        "decoder = Dense(input_dim, activation='tanh')(decoder)\n",
        "\n",
        "autoencoder = Model(inputs=input_layer, outputs=decoder)\n",
        "autoencoder.summary()"
      ],
      "metadata": {
        "colab": {
          "base_uri": "https://localhost:8080/"
        },
        "id": "EuNg9trpfPFc",
        "outputId": "71da0a6e-933e-4bf0-d4e0-274c56f646b1"
      },
      "execution_count": 47,
      "outputs": [
        {
          "output_type": "stream",
          "name": "stdout",
          "text": [
            "Model: \"model\"\n",
            "_________________________________________________________________\n",
            " Layer (type)                Output Shape              Param #   \n",
            "=================================================================\n",
            " input_1 (InputLayer)        [(None, 404)]             0         \n",
            "                                                                 \n",
            " dense (Dense)               (None, 230)               93150     \n",
            "                                                                 \n",
            " dropout (Dropout)           (None, 230)               0         \n",
            "                                                                 \n",
            " dense_1 (Dense)             (None, 115)               26565     \n",
            "                                                                 \n",
            " dense_2 (Dense)             (None, 60)                6960      \n",
            "                                                                 \n",
            " dense_3 (Dense)             (None, 115)               7015      \n",
            "                                                                 \n",
            " dropout_1 (Dropout)         (None, 115)               0         \n",
            "                                                                 \n",
            " dense_4 (Dense)             (None, 230)               26680     \n",
            "                                                                 \n",
            " dense_5 (Dense)             (None, 404)               93324     \n",
            "                                                                 \n",
            "=================================================================\n",
            "Total params: 253,694\n",
            "Trainable params: 253,694\n",
            "Non-trainable params: 0\n",
            "_________________________________________________________________\n"
          ]
        }
      ]
    },
    {
      "cell_type": "code",
      "source": [
        "#Early stopping\n",
        "# early_stop = EarlyStopping(monitor='val_loss',min_delta=0.0001,patience=10,verbose=1, mode='min',restore_best_weights=True)\n",
        "autoencoder.compile(loss='mean_squared_error', optimizer='SGD')\n",
        "\n",
        "# start_time = time.time()\n",
        "history = autoencoder.fit(normalized_train_X, normalized_train_X, epochs=epoch, batch_size=batch_size,shuffle=True,validation_data=(normalized_test_X, normalized_test_X),verbose=1).history\n",
        "# end_time = time.time()\n",
        "# print('Time Taken',end_time-start_time)"
      ],
      "metadata": {
        "colab": {
          "base_uri": "https://localhost:8080/"
        },
        "id": "JsMXEA-Pgu1g",
        "outputId": "a0262460-4a4e-4b00-d1cc-6305cbd57a30"
      },
      "execution_count": 48,
      "outputs": [
        {
          "output_type": "stream",
          "name": "stdout",
          "text": [
            "Epoch 1/100\n",
            "881/881 [==============================] - 10s 11ms/step - loss: 0.1076 - val_loss: 0.0735\n",
            "Epoch 2/100\n",
            "881/881 [==============================] - 9s 11ms/step - loss: 0.0489 - val_loss: 0.0263\n",
            "Epoch 3/100\n",
            "881/881 [==============================] - 8s 9ms/step - loss: 0.0257 - val_loss: 0.0165\n",
            "Epoch 4/100\n",
            "881/881 [==============================] - 6s 6ms/step - loss: 0.0199 - val_loss: 0.0144\n",
            "Epoch 5/100\n",
            "881/881 [==============================] - 6s 6ms/step - loss: 0.0176 - val_loss: 0.0137\n",
            "Epoch 6/100\n",
            "881/881 [==============================] - 6s 6ms/step - loss: 0.0162 - val_loss: 0.0133\n",
            "Epoch 7/100\n",
            "881/881 [==============================] - 5s 6ms/step - loss: 0.0152 - val_loss: 0.0131\n",
            "Epoch 8/100\n",
            "881/881 [==============================] - 5s 6ms/step - loss: 0.0145 - val_loss: 0.0129\n",
            "Epoch 9/100\n",
            "881/881 [==============================] - 6s 6ms/step - loss: 0.0139 - val_loss: 0.0127\n",
            "Epoch 10/100\n",
            "881/881 [==============================] - 6s 6ms/step - loss: 0.0134 - val_loss: 0.0126\n",
            "Epoch 11/100\n",
            "881/881 [==============================] - 8s 9ms/step - loss: 0.0130 - val_loss: 0.0125\n",
            "Epoch 12/100\n",
            "881/881 [==============================] - 10s 11ms/step - loss: 0.0127 - val_loss: 0.0124\n",
            "Epoch 13/100\n",
            "881/881 [==============================] - 9s 10ms/step - loss: 0.0124 - val_loss: 0.0123\n",
            "Epoch 14/100\n",
            "881/881 [==============================] - 8s 9ms/step - loss: 0.0121 - val_loss: 0.0123\n",
            "Epoch 15/100\n",
            "881/881 [==============================] - 8s 10ms/step - loss: 0.0119 - val_loss: 0.0122\n",
            "Epoch 16/100\n",
            "881/881 [==============================] - 7s 8ms/step - loss: 0.0117 - val_loss: 0.0121\n",
            "Epoch 17/100\n",
            "881/881 [==============================] - 6s 6ms/step - loss: 0.0115 - val_loss: 0.0121\n",
            "Epoch 18/100\n",
            "881/881 [==============================] - 7s 8ms/step - loss: 0.0113 - val_loss: 0.0120\n",
            "Epoch 19/100\n",
            "881/881 [==============================] - 6s 6ms/step - loss: 0.0111 - val_loss: 0.0120\n",
            "Epoch 20/100\n",
            "881/881 [==============================] - 7s 7ms/step - loss: 0.0110 - val_loss: 0.0119\n",
            "Epoch 21/100\n",
            "881/881 [==============================] - 12s 14ms/step - loss: 0.0108 - val_loss: 0.0119\n",
            "Epoch 22/100\n",
            "881/881 [==============================] - 10s 11ms/step - loss: 0.0107 - val_loss: 0.0119\n",
            "Epoch 23/100\n",
            "881/881 [==============================] - 10s 12ms/step - loss: 0.0106 - val_loss: 0.0118\n",
            "Epoch 24/100\n",
            "881/881 [==============================] - 9s 10ms/step - loss: 0.0105 - val_loss: 0.0118\n",
            "Epoch 25/100\n",
            "881/881 [==============================] - 8s 9ms/step - loss: 0.0103 - val_loss: 0.0117\n",
            "Epoch 26/100\n",
            "881/881 [==============================] - 7s 8ms/step - loss: 0.0102 - val_loss: 0.0117\n",
            "Epoch 27/100\n",
            "881/881 [==============================] - 6s 6ms/step - loss: 0.0101 - val_loss: 0.0117\n",
            "Epoch 28/100\n",
            "881/881 [==============================] - 6s 6ms/step - loss: 0.0100 - val_loss: 0.0116\n",
            "Epoch 29/100\n",
            "881/881 [==============================] - 6s 6ms/step - loss: 0.0100 - val_loss: 0.0115\n",
            "Epoch 30/100\n",
            "881/881 [==============================] - 6s 6ms/step - loss: 0.0098 - val_loss: 0.0115\n",
            "Epoch 31/100\n",
            "881/881 [==============================] - 6s 6ms/step - loss: 0.0098 - val_loss: 0.0115\n",
            "Epoch 32/100\n",
            "881/881 [==============================] - 6s 6ms/step - loss: 0.0096 - val_loss: 0.0114\n",
            "Epoch 33/100\n",
            "881/881 [==============================] - 6s 6ms/step - loss: 0.0096 - val_loss: 0.0114\n",
            "Epoch 34/100\n",
            "881/881 [==============================] - 6s 6ms/step - loss: 0.0095 - val_loss: 0.0113\n",
            "Epoch 35/100\n",
            "881/881 [==============================] - 6s 6ms/step - loss: 0.0094 - val_loss: 0.0113\n",
            "Epoch 36/100\n",
            "881/881 [==============================] - 6s 7ms/step - loss: 0.0093 - val_loss: 0.0112\n",
            "Epoch 37/100\n",
            "881/881 [==============================] - 6s 7ms/step - loss: 0.0093 - val_loss: 0.0112\n",
            "Epoch 38/100\n",
            "881/881 [==============================] - 6s 6ms/step - loss: 0.0092 - val_loss: 0.0112\n",
            "Epoch 39/100\n",
            "881/881 [==============================] - 6s 6ms/step - loss: 0.0091 - val_loss: 0.0111\n",
            "Epoch 40/100\n",
            "881/881 [==============================] - 6s 6ms/step - loss: 0.0090 - val_loss: 0.0110\n",
            "Epoch 41/100\n",
            "881/881 [==============================] - 6s 6ms/step - loss: 0.0089 - val_loss: 0.0110\n",
            "Epoch 42/100\n",
            "881/881 [==============================] - 6s 6ms/step - loss: 0.0089 - val_loss: 0.0109\n",
            "Epoch 43/100\n",
            "881/881 [==============================] - 6s 6ms/step - loss: 0.0088 - val_loss: 0.0109\n",
            "Epoch 44/100\n",
            "881/881 [==============================] - 6s 7ms/step - loss: 0.0087 - val_loss: 0.0108\n",
            "Epoch 45/100\n",
            "881/881 [==============================] - 6s 7ms/step - loss: 0.0087 - val_loss: 0.0108\n",
            "Epoch 46/100\n",
            "881/881 [==============================] - 6s 6ms/step - loss: 0.0086 - val_loss: 0.0107\n",
            "Epoch 47/100\n",
            "881/881 [==============================] - 6s 6ms/step - loss: 0.0085 - val_loss: 0.0107\n",
            "Epoch 48/100\n",
            "881/881 [==============================] - 6s 7ms/step - loss: 0.0084 - val_loss: 0.0106\n",
            "Epoch 49/100\n",
            "881/881 [==============================] - 5s 6ms/step - loss: 0.0084 - val_loss: 0.0105\n",
            "Epoch 50/100\n",
            "881/881 [==============================] - 6s 6ms/step - loss: 0.0083 - val_loss: 0.0105\n",
            "Epoch 51/100\n",
            "881/881 [==============================] - 6s 6ms/step - loss: 0.0082 - val_loss: 0.0104\n",
            "Epoch 52/100\n",
            "881/881 [==============================] - 6s 6ms/step - loss: 0.0082 - val_loss: 0.0104\n",
            "Epoch 53/100\n",
            "881/881 [==============================] - 6s 6ms/step - loss: 0.0081 - val_loss: 0.0103\n",
            "Epoch 54/100\n",
            "881/881 [==============================] - 6s 7ms/step - loss: 0.0080 - val_loss: 0.0103\n",
            "Epoch 55/100\n",
            "881/881 [==============================] - 6s 7ms/step - loss: 0.0079 - val_loss: 0.0102\n",
            "Epoch 56/100\n",
            "881/881 [==============================] - 7s 8ms/step - loss: 0.0079 - val_loss: 0.0101\n",
            "Epoch 57/100\n",
            "881/881 [==============================] - 6s 7ms/step - loss: 0.0078 - val_loss: 0.0100\n",
            "Epoch 58/100\n",
            "881/881 [==============================] - 6s 6ms/step - loss: 0.0078 - val_loss: 0.0100\n",
            "Epoch 59/100\n",
            "881/881 [==============================] - 6s 6ms/step - loss: 0.0077 - val_loss: 0.0099\n",
            "Epoch 60/100\n",
            "881/881 [==============================] - 6s 6ms/step - loss: 0.0076 - val_loss: 0.0098\n",
            "Epoch 61/100\n",
            "881/881 [==============================] - 6s 6ms/step - loss: 0.0075 - val_loss: 0.0098\n",
            "Epoch 62/100\n",
            "881/881 [==============================] - 5s 6ms/step - loss: 0.0075 - val_loss: 0.0097\n",
            "Epoch 63/100\n",
            "881/881 [==============================] - 6s 6ms/step - loss: 0.0074 - val_loss: 0.0096\n",
            "Epoch 64/100\n",
            "881/881 [==============================] - 5s 6ms/step - loss: 0.0073 - val_loss: 0.0096\n",
            "Epoch 65/100\n",
            "881/881 [==============================] - 5s 6ms/step - loss: 0.0073 - val_loss: 0.0095\n",
            "Epoch 66/100\n",
            "881/881 [==============================] - 5s 6ms/step - loss: 0.0072 - val_loss: 0.0094\n",
            "Epoch 67/100\n",
            "881/881 [==============================] - 6s 6ms/step - loss: 0.0071 - val_loss: 0.0094\n",
            "Epoch 68/100\n",
            "881/881 [==============================] - 6s 6ms/step - loss: 0.0071 - val_loss: 0.0093\n",
            "Epoch 69/100\n",
            "881/881 [==============================] - 6s 6ms/step - loss: 0.0070 - val_loss: 0.0092\n",
            "Epoch 70/100\n",
            "881/881 [==============================] - 6s 6ms/step - loss: 0.0069 - val_loss: 0.0092\n",
            "Epoch 71/100\n",
            "881/881 [==============================] - 6s 6ms/step - loss: 0.0069 - val_loss: 0.0091\n",
            "Epoch 72/100\n",
            "881/881 [==============================] - 6s 7ms/step - loss: 0.0068 - val_loss: 0.0090\n",
            "Epoch 73/100\n",
            "881/881 [==============================] - 5s 6ms/step - loss: 0.0067 - val_loss: 0.0089\n",
            "Epoch 74/100\n",
            "881/881 [==============================] - 6s 6ms/step - loss: 0.0067 - val_loss: 0.0089\n",
            "Epoch 75/100\n",
            "881/881 [==============================] - 6s 6ms/step - loss: 0.0066 - val_loss: 0.0088\n",
            "Epoch 76/100\n",
            "881/881 [==============================] - 6s 6ms/step - loss: 0.0065 - val_loss: 0.0088\n",
            "Epoch 77/100\n",
            "881/881 [==============================] - 6s 6ms/step - loss: 0.0065 - val_loss: 0.0087\n",
            "Epoch 78/100\n",
            "881/881 [==============================] - 6s 6ms/step - loss: 0.0064 - val_loss: 0.0087\n",
            "Epoch 79/100\n",
            "881/881 [==============================] - 6s 6ms/step - loss: 0.0064 - val_loss: 0.0086\n",
            "Epoch 80/100\n",
            "881/881 [==============================] - 6s 6ms/step - loss: 0.0063 - val_loss: 0.0085\n",
            "Epoch 81/100\n",
            "881/881 [==============================] - 5s 6ms/step - loss: 0.0063 - val_loss: 0.0085\n",
            "Epoch 82/100\n",
            "881/881 [==============================] - 6s 6ms/step - loss: 0.0062 - val_loss: 0.0084\n",
            "Epoch 83/100\n",
            "881/881 [==============================] - 6s 6ms/step - loss: 0.0061 - val_loss: 0.0084\n",
            "Epoch 84/100\n",
            "881/881 [==============================] - 6s 6ms/step - loss: 0.0061 - val_loss: 0.0083\n",
            "Epoch 85/100\n",
            "881/881 [==============================] - 6s 6ms/step - loss: 0.0060 - val_loss: 0.0083\n",
            "Epoch 86/100\n",
            "881/881 [==============================] - 6s 6ms/step - loss: 0.0060 - val_loss: 0.0082\n",
            "Epoch 87/100\n",
            "881/881 [==============================] - 6s 6ms/step - loss: 0.0060 - val_loss: 0.0081\n",
            "Epoch 88/100\n",
            "881/881 [==============================] - 6s 6ms/step - loss: 0.0059 - val_loss: 0.0081\n",
            "Epoch 89/100\n",
            "881/881 [==============================] - 6s 6ms/step - loss: 0.0059 - val_loss: 0.0081\n",
            "Epoch 90/100\n",
            "881/881 [==============================] - 6s 6ms/step - loss: 0.0058 - val_loss: 0.0080\n",
            "Epoch 91/100\n",
            "881/881 [==============================] - 6s 6ms/step - loss: 0.0058 - val_loss: 0.0080\n",
            "Epoch 92/100\n",
            "881/881 [==============================] - 6s 6ms/step - loss: 0.0057 - val_loss: 0.0080\n",
            "Epoch 93/100\n",
            "881/881 [==============================] - 6s 6ms/step - loss: 0.0057 - val_loss: 0.0079\n",
            "Epoch 94/100\n",
            "881/881 [==============================] - 6s 6ms/step - loss: 0.0056 - val_loss: 0.0079\n",
            "Epoch 95/100\n",
            "881/881 [==============================] - 5s 6ms/step - loss: 0.0056 - val_loss: 0.0078\n",
            "Epoch 96/100\n",
            "881/881 [==============================] - 6s 6ms/step - loss: 0.0056 - val_loss: 0.0078\n",
            "Epoch 97/100\n",
            "881/881 [==============================] - 6s 6ms/step - loss: 0.0055 - val_loss: 0.0077\n",
            "Epoch 98/100\n",
            "881/881 [==============================] - 6s 6ms/step - loss: 0.0055 - val_loss: 0.0077\n",
            "Epoch 99/100\n",
            "881/881 [==============================] - 6s 6ms/step - loss: 0.0055 - val_loss: 0.0077\n",
            "Epoch 100/100\n",
            "881/881 [==============================] - 6s 6ms/step - loss: 0.0054 - val_loss: 0.0076\n"
          ]
        }
      ]
    },
    {
      "cell_type": "code",
      "source": [
        "#save the weights of autoencoder\n",
        "\n",
        "autoencoder.save_weights('autoencoder.h5')"
      ],
      "metadata": {
        "id": "EuOF8AjchY_g"
      },
      "execution_count": 49,
      "outputs": []
    },
    {
      "cell_type": "code",
      "source": [
        "#plot the loss and validation loss of the model\n",
        "\n",
        "plt.plot(history['loss'], linewidth=2, label='Train')\n",
        "plt.plot(history['val_loss'], linewidth=2, label='Test')\n",
        "plt.legend(loc='upper right')\n",
        "plt.title('Model loss')\n",
        "plt.ylabel('Loss')\n",
        "plt.xlabel('Epoch')\n",
        "plt.show()"
      ],
      "metadata": {
        "colab": {
          "base_uri": "https://localhost:8080/",
          "height": 295
        },
        "id": "NRFEAshphaDk",
        "outputId": "2840c54d-33d4-4770-d1b1-95b20feeffa3"
      },
      "execution_count": 50,
      "outputs": [
        {
          "output_type": "display_data",
          "data": {
            "text/plain": [
              "<Figure size 432x288 with 1 Axes>"
            ],
            "image/png": "[encoded data removed]"
          },
          "metadata": {
            "needs_background": "light"
          }
        }
      ]
    },
    {
      "cell_type": "code",
      "source": [
        "# plot the autoencoder\n",
        "\n",
        "plot_model(autoencoder, 'autoencoder.png', show_shapes=True, show_layer_names=True)"
      ],
      "metadata": {
        "colab": {
          "base_uri": "https://localhost:8080/",
          "height": 976
        },
        "id": "bfLQSoT_hkcI",
        "outputId": "ed818440-5a3e-4f44-d83e-facbf791f2b9"
      },
      "execution_count": 51,
      "outputs": [
        {
          "output_type": "execute_result",
          "data": {
            "text/plain": [
              "<IPython.core.display.Image object>"
            ],
            "image/png": "[encoded data removed]"
          },
          "metadata": {},
          "execution_count": 51
        }
      ]
    },
    {
      "cell_type": "markdown",
      "source": [
        "## Reconstruction error check"
      ],
      "metadata": {
        "id": "z4_wYa53h2ma"
      }
    },
    {
      "cell_type": "code",
      "source": [
        "#Checking the Reconstruction error loss\n",
        "\n",
        "test_x_predictions=autoencoder.predict(normalized_test_X)\n",
        "mse=np.mean(np.power(normalized_test_X-test_x_predictions,2),axis=1)\n",
        "\n",
        "error=pd.DataFrame({'Reconstruction_error':mse,'True_class':y_test_})\n",
        "error.head()"
      ],
      "metadata": {
        "colab": {
          "base_uri": "https://localhost:8080/",
          "height": 205
        },
        "id": "vks4nI5jh43y",
        "outputId": "15f96fa6-6f7a-463b-cb30-db474a9830b1"
      },
      "execution_count": 52,
      "outputs": [
        {
          "output_type": "execute_result",
          "data": {
            "text/plain": [
              "   Reconstruction_error  True_class\n",
              "0              0.005689         0.0\n",
              "1              0.004667         0.0\n",
              "2              0.005967         0.0\n",
              "3              0.006598         0.0\n",
              "4              0.009964         0.0"
            ],
            "text/html": [
              "\n",
              "  <div id=\"df-30af4ca3-a607-4633-aa86-8863f68f3428\">\n",
              "    <div class=\"colab-df-container\">\n",
              "      <div>\n",
              "<style scoped>\n",
              "    .dataframe tbody tr th:only-of-type {\n",
              "        vertical-align: middle;\n",
              "    }\n",
              "\n",
              "    .dataframe tbody tr th {\n",
              "        vertical-align: top;\n",
              "    }\n",
              "\n",
              "    .dataframe thead th {\n",
              "        text-align: right;\n",
              "    }\n",
              "</style>\n",
              "<table border=\"1\" class=\"dataframe\">\n",
              "  <thead>\n",
              "    <tr style=\"text-align: right;\">\n",
              "      <th></th>\n",
              "      <th>Reconstruction_error</th>\n",
              "      <th>True_class</th>\n",
              "    </tr>\n",
              "  </thead>\n",
              "  <tbody>\n",
              "    <tr>\n",
              "      <th>0</th>\n",
              "      <td>0.005689</td>\n",
              "      <td>0.0</td>\n",
              "    </tr>\n",
              "    <tr>\n",
              "      <th>1</th>\n",
              "      <td>0.004667</td>\n",
              "      <td>0.0</td>\n",
              "    </tr>\n",
              "    <tr>\n",
              "      <th>2</th>\n",
              "      <td>0.005967</td>\n",
              "      <td>0.0</td>\n",
              "    </tr>\n",
              "    <tr>\n",
              "      <th>3</th>\n",
              "      <td>0.006598</td>\n",
              "      <td>0.0</td>\n",
              "    </tr>\n",
              "    <tr>\n",
              "      <th>4</th>\n",
              "      <td>0.009964</td>\n",
              "      <td>0.0</td>\n",
              "    </tr>\n",
              "  </tbody>\n",
              "</table>\n",
              "</div>\n",
              "      <button class=\"colab-df-convert\" onclick=\"convertToInteractive('df-30af4ca3-a607-4633-aa86-8863f68f3428')\"\n",
              "              title=\"Convert this dataframe to an interactive table.\"\n",
              "              style=\"display:none;\">\n",
              "        \n",
              "  <svg xmlns=\"http://www.w3.org/2000/svg\" height=\"24px\"viewBox=\"0 0 24 24\"\n",
              "       width=\"24px\">\n",
              "    <path d=\"M0 0h24v24H0V0z\" fill=\"none\"/>\n",
              "    <path d=\"M18.56 5.44l.94 2.06.94-2.06 2.06-.94-2.06-.94-.94-2.06-.94 2.06-2.06.94zm-11 1L8.5 8.5l.94-2.06 2.06-.94-2.06-.94L8.5 2.5l-.94 2.06-2.06.94zm10 10l.94 2.06.94-2.06 2.06-.94-2.06-.94-.94-2.06-.94 2.06-2.06.94z\"/><path d=\"M17.41 7.96l-1.37-1.37c-.4-.4-.92-.59-1.43-.59-.52 0-1.04.2-1.43.59L10.3 9.45l-7.72 7.72c-.78.78-.78 2.05 0 2.83L4 21.41c.39.39.9.59 1.41.59.51 0 1.02-.2 1.41-.59l7.78-7.78 2.81-2.81c.8-.78.8-2.07 0-2.86zM5.41 20L4 18.59l7.72-7.72 1.47 1.35L5.41 20z\"/>\n",
              "  </svg>\n",
              "      </button>\n",
              "      \n",
              "  <style>\n",
              "    .colab-df-container {\n",
              "      display:flex;\n",
              "      flex-wrap:wrap;\n",
              "      gap: 12px;\n",
              "    }\n",
              "\n",
              "    .colab-df-convert {\n",
              "      background-color: #E8F0FE;\n",
              "      border: none;\n",
              "      border-radius: 50%;\n",
              "      cursor: pointer;\n",
              "      display: none;\n",
              "      fill: #1967D2;\n",
              "      height: 32px;\n",
              "      padding: 0 0 0 0;\n",
              "      width: 32px;\n",
              "    }\n",
              "\n",
              "    .colab-df-convert:hover {\n",
              "      background-color: #E2EBFA;\n",
              "      box-shadow: 0px 1px 2px rgba(60, 64, 67, 0.3), 0px 1px 3px 1px rgba(60, 64, 67, 0.15);\n",
              "      fill: #174EA6;\n",
              "    }\n",
              "\n",
              "    [theme=dark] .colab-df-convert {\n",
              "      background-color: #3B4455;\n",
              "      fill: #D2E3FC;\n",
              "    }\n",
              "\n",
              "    [theme=dark] .colab-df-convert:hover {\n",
              "      background-color: #434B5C;\n",
              "      box-shadow: 0px 1px 3px 1px rgba(0, 0, 0, 0.15);\n",
              "      filter: drop-shadow(0px 1px 2px rgba(0, 0, 0, 0.3));\n",
              "      fill: #FFFFFF;\n",
              "    }\n",
              "  </style>\n",
              "\n",
              "      <script>\n",
              "        const buttonEl =\n",
              "          document.querySelector('#df-30af4ca3-a607-4633-aa86-8863f68f3428 button.colab-df-convert');\n",
              "        buttonEl.style.display =\n",
              "          google.colab.kernel.accessAllowed ? 'block' : 'none';\n",
              "\n",
              "        async function convertToInteractive(key) {\n",
              "          const element = document.querySelector('#df-30af4ca3-a607-4633-aa86-8863f68f3428');\n",
              "          const dataTable =\n",
              "            await google.colab.kernel.invokeFunction('convertToInteractive',\n",
              "                                                     [key], {});\n",
              "          if (!dataTable) return;\n",
              "\n",
              "          const docLinkHtml = 'Like what you see? Visit the ' +\n",
              "            '<a target=\"_blank\" href=https://colab.research.google.com/notebooks/data_table.ipynb>data table notebook</a>'\n",
              "            + ' to learn more about interactive tables.';\n",
              "          element.innerHTML = '';\n",
              "          dataTable['output_type'] = 'display_data';\n",
              "          await google.colab.output.renderOutput(dataTable, element);\n",
              "          const docLink = document.createElement('div');\n",
              "          docLink.innerHTML = docLinkHtml;\n",
              "          element.appendChild(docLink);\n",
              "        }\n",
              "      </script>\n",
              "    </div>\n",
              "  </div>\n",
              "  "
            ]
          },
          "metadata": {},
          "execution_count": 52
        }
      ]
    },
    {
      "cell_type": "code",
      "source": [
        "#plot of the distribution of the anomolies and the normal classes\n",
        "\n",
        "plt.figure(figsize = (24, 12))\n",
        "plt.scatter(error.index[error['True_class']==0],error[error['True_class']==0]['Reconstruction_error'],s=5,label='Normal')\n",
        "plt.scatter(error.index[error['True_class']==1],error[error['True_class']==1]['Reconstruction_error'],s=5,label='Anomly')\n",
        "plt.xlabel('Index')\n",
        "plt.ylabel('Mean Squared Error (MSE)')\n",
        "plt.legend()\n",
        "plt.show()"
      ],
      "metadata": {
        "colab": {
          "base_uri": "https://localhost:8080/",
          "height": 713
        },
        "id": "J_y02jaOiZGs",
        "outputId": "4f90bbcd-ab20-4842-cc66-068bf9f60276"
      },
      "execution_count": 53,
      "outputs": [
        {
          "output_type": "display_data",
          "data": {
            "text/plain": [
              "<Figure size 1728x864 with 1 Axes>"
            ],
            "image/png": "[encoded data removed]"
          },
          "metadata": {
            "needs_background": "light"
          }
        }
      ]
    },
    {
      "cell_type": "code",
      "source": [
        "# Finding the f1_score.\n",
        "\n",
        "precision,recall,threshold=precision_recall_curve(error.True_class,error.Reconstruction_error)\n",
        "f1_score=2*precision*recall/(precision+recall)\n",
        "average_precision=average_precision_score(error.True_class,error.Reconstruction_error)"
      ],
      "metadata": {
        "colab": {
          "base_uri": "https://localhost:8080/"
        },
        "id": "GhQGjLUmmRni",
        "outputId": "92f2448d-2dea-4d61-94d5-11a621ee873d"
      },
      "execution_count": 54,
      "outputs": [
        {
          "output_type": "stream",
          "name": "stderr",
          "text": [
            "/usr/local/lib/python3.7/dist-packages/ipykernel_launcher.py:4: RuntimeWarning: invalid value encountered in true_divide\n",
            "  after removing the cwd from sys.path.\n"
          ]
        }
      ]
    },
    {
      "cell_type": "code",
      "source": [
        "#choosing the best threshold in order to maximize the F1 score\n",
        "\n",
        "max_f1=f1_score[f1_score==max(f1_score)]\n",
        "best_threshold=threshold[f1_score[1: ]==max_f1]\n",
        "print('best threshold : ',best_threshold)"
      ],
      "metadata": {
        "colab": {
          "base_uri": "https://localhost:8080/"
        },
        "id": "hobjjbUFm3xE",
        "outputId": "f5252079-96dd-4a1e-d31d-9040125c3ae9"
      },
      "execution_count": 55,
      "outputs": [
        {
          "output_type": "stream",
          "name": "stdout",
          "text": [
            "best threshold :  [0.00976476]\n"
          ]
        }
      ]
    },
    {
      "cell_type": "code",
      "source": [
        "#Best threshold plots\n",
        "\n",
        "plt.figure(figsize = (24, 12))\n",
        "plt.scatter(error.index[error['True_class'] == 0], error[error['True_class'] == 0]['Reconstruction_error'], s = 5, label = 'Normal')\n",
        "plt.scatter(error.index[error['True_class'] == 1], error[error['True_class'] == 1]['Reconstruction_error'], s = 5, label = 'Anomly')\n",
        "plt.axhline(best_threshold, color = 'red', label = 'Threshold = %0.3f' % (best_threshold))\n",
        "plt.xlabel('Index')\n",
        "plt.ylabel('Mean Squared Error (MSE)')\n",
        "plt.title('Training Set')\n",
        "plt.legend()\n",
        "plt.show()\n",
        "print('Best threshold = %f' % (best_threshold))"
      ],
      "metadata": {
        "colab": {
          "base_uri": "https://localhost:8080/",
          "height": 747
        },
        "id": "lryUXDk-n7N0",
        "outputId": "e9e95315-ec2b-4e7a-eedd-b04ac9ebbe67"
      },
      "execution_count": 56,
      "outputs": [
        {
          "output_type": "display_data",
          "data": {
            "text/plain": [
              "<Figure size 1728x864 with 1 Axes>"
            ],
            "image/png": "[encoded data removed]"
          },
          "metadata": {
            "needs_background": "light"
          }
        },
        {
          "output_type": "stream",
          "name": "stdout",
          "text": [
            "Best threshold = 0.009765\n"
          ]
        }
      ]
    },
    {
      "cell_type": "code",
      "source": [
        "#defining the metrics for the model\n",
        "\n",
        "def metrics(Y,pred):\n",
        "  print(\"Accuracy Score :\",accuracy_score(Y,pred))\n",
        "  print('ROC AUC score :',roc_auc_score(Y, pred))\n",
        "  recall=recall_score(Y,pred)\n",
        "  print('recall :',recall)\n",
        "  precision=precision_score(Y,pred)\n",
        "  print('precision :',precision)\n",
        "  f1_Score=2*(recall * precision)/(recall+precision)\n",
        "  print('f1_score :',f1_Score)\n",
        "  print(\"Classification Report :\")\n",
        "  print(classification_report(Y,pred))\n",
        "  print('\\n')\n",
        "  conf_matrix = confusion_matrix(Y, pred)\n",
        "  plt.figure(figsize=(10, 10))\n",
        "  sns.heatmap(conf_matrix, xticklabels=LABELS, yticklabels=LABELS, annot=True, fmt=\"d\",cmap='Blues');\n",
        "  plt.title(\"Confusion matrix\")\n",
        "  plt.ylabel('True class')\n",
        "  plt.xlabel('Predicted class')\n",
        "  plt.show()"
      ],
      "metadata": {
        "id": "bWVF6ReMxE6R"
      },
      "execution_count": 57,
      "outputs": []
    },
    {
      "cell_type": "code",
      "source": [
        "#defining the ROC curve\n",
        "\n",
        "fpr, tpr, thres = roc_curve(error.True_class, error.Reconstruction_error)\n",
        "plt.figure(figsize = (12, 5))\n",
        "plt.plot(fpr, tpr, label = 'AUC') \n",
        "plt.plot([0,1], [0,1], ':', label = 'Random') \n",
        "plt.legend() \n",
        "plt.grid() \n",
        "plt.ylabel(\"True Positive Rates\") \n",
        "plt.xlabel(\"False Positive Rates\") \n",
        "plt.title('ROC') \n",
        "plt.show() "
      ],
      "metadata": {
        "colab": {
          "base_uri": "https://localhost:8080/",
          "height": 349
        },
        "id": "RR2EaW-ABmT5",
        "outputId": "d8eda118-38e7-4af1-dc71-9cad88e9d173"
      },
      "execution_count": 58,
      "outputs": [
        {
          "output_type": "display_data",
          "data": {
            "text/plain": [
              "<Figure size 864x360 with 1 Axes>"
            ],
            "image/png": "[encoded data removed]"
          },
          "metadata": {
            "needs_background": "light"
          }
        }
      ]
    },
    {
      "cell_type": "code",
      "source": [
        "# if reconstruction error is greater than threshold it is Anomly \n",
        "\n",
        "pred_y = [1 if e > best_threshold  else 0 for e in error.Reconstruction_error.values]\n",
        "error['pred'] =pred_y\n",
        "print(metrics(error.True_class,pred_y))"
      ],
      "metadata": {
        "colab": {
          "base_uri": "https://localhost:8080/",
          "height": 933
        },
        "id": "kFwUImmbpuaE",
        "outputId": "96eb3305-2471-45cb-f2ea-2803cc1c8a44"
      },
      "execution_count": 59,
      "outputs": [
        {
          "output_type": "stream",
          "name": "stdout",
          "text": [
            "Accuracy Score : 0.8611491108071135\n",
            "ROC AUC score : 0.7250785280268552\n",
            "recall : 0.578544061302682\n",
            "precision : 0.14299242424242425\n",
            "f1_score : 0.22930903568716782\n",
            "Classification Report :\n",
            "              precision    recall  f1-score   support\n",
            "\n",
            "         0.0       0.98      0.87      0.92      7049\n",
            "         1.0       0.14      0.58      0.23       261\n",
            "\n",
            "    accuracy                           0.86      7310\n",
            "   macro avg       0.56      0.73      0.58      7310\n",
            "weighted avg       0.95      0.86      0.90      7310\n",
            "\n",
            "\n",
            "\n"
          ]
        },
        {
          "output_type": "display_data",
          "data": {
            "text/plain": [
              "<Figure size 720x720 with 2 Axes>"
            ],
            "image/png": "[encoded data removed]"
          },
          "metadata": {
            "needs_background": "light"
          }
        },
        {
          "output_type": "stream",
          "name": "stdout",
          "text": [
            "None\n"
          ]
        }
      ]
    },
    {
      "cell_type": "markdown",
      "source": [
        "#Unsupervised Algorithm"
      ],
      "metadata": {
        "id": "Epx0pcoC_WPX"
      }
    },
    {
      "cell_type": "code",
      "source": [
        "normalizer = preprocessing.MinMaxScaler(feature_range=(0, 1))\n",
        "normalized_df = pd.DataFrame(normalizer.fit_transform(df1),  columns = df1.columns)"
      ],
      "metadata": {
        "id": "44MEnXYfHam_"
      },
      "execution_count": 60,
      "outputs": []
    },
    {
      "cell_type": "code",
      "source": [
        "col=normalized_df.columns.tolist()\n",
        "\n",
        "col=[co for co in col if co not in ['New_label']]\n",
        "print(col)\n",
        "target='New_label'\n",
        "\n",
        "X=normalized_df[col]\n",
        "Y=normalized_df[target]\n",
        "\n",
        "print(type(X))\n",
        "\n",
        "print(X.shape)\n",
        "print(Y.shape)"
      ],
      "metadata": {
        "colab": {
          "base_uri": "https://localhost:8080/"
        },
        "id": "JkyGbwBMHVpo",
        "outputId": "cff8cf00-86e1-4cfb-9af4-4ac7572fc0df"
      },
      "execution_count": 61,
      "outputs": [
        {
          "output_type": "stream",
          "name": "stdout",
          "text": [
            "['avg:ambient', 'var:ambient', 'max:ambient', 'min:ambient', 'avg:dimm0_temp', 'var:dimm0_temp', 'max:dimm0_temp', 'min:dimm0_temp', 'avg:dimm10_temp', 'var:dimm10_temp', 'max:dimm10_temp', 'min:dimm10_temp', 'avg:dimm11_temp', 'var:dimm11_temp', 'max:dimm11_temp', 'min:dimm11_temp', 'avg:dimm12_temp', 'var:dimm12_temp', 'max:dimm12_temp', 'min:dimm12_temp', 'avg:dimm13_temp', 'var:dimm13_temp', 'max:dimm13_temp', 'min:dimm13_temp', 'avg:dimm14_temp', 'var:dimm14_temp', 'max:dimm14_temp', 'min:dimm14_temp', 'avg:dimm15_temp', 'var:dimm15_temp', 'max:dimm15_temp', 'min:dimm15_temp', 'avg:dimm1_temp', 'var:dimm1_temp', 'max:dimm1_temp', 'min:dimm1_temp', 'avg:dimm2_temp', 'var:dimm2_temp', 'max:dimm2_temp', 'min:dimm2_temp', 'avg:dimm3_temp', 'var:dimm3_temp', 'max:dimm3_temp', 'min:dimm3_temp', 'avg:dimm4_temp', 'var:dimm4_temp', 'max:dimm4_temp', 'min:dimm4_temp', 'avg:dimm5_temp', 'var:dimm5_temp', 'max:dimm5_temp', 'min:dimm5_temp', 'avg:dimm6_temp', 'var:dimm6_temp', 'max:dimm6_temp', 'min:dimm6_temp', 'avg:dimm7_temp', 'var:dimm7_temp', 'max:dimm7_temp', 'min:dimm7_temp', 'avg:dimm8_temp', 'var:dimm8_temp', 'max:dimm8_temp', 'min:dimm8_temp', 'avg:dimm9_temp', 'var:dimm9_temp', 'max:dimm9_temp', 'min:dimm9_temp', 'avg:fan0_0', 'var:fan0_0', 'max:fan0_0', 'min:fan0_0', 'avg:fan0_1', 'var:fan0_1', 'max:fan0_1', 'min:fan0_1', 'avg:fan1_0', 'var:fan1_0', 'max:fan1_0', 'min:fan1_0', 'avg:fan1_1', 'var:fan1_1', 'max:fan1_1', 'min:fan1_1', 'avg:fan2_0', 'var:fan2_0', 'max:fan2_0', 'min:fan2_0', 'avg:fan2_1', 'var:fan2_1', 'max:fan2_1', 'min:fan2_1', 'avg:fan3_0', 'var:fan3_0', 'max:fan3_0', 'min:fan3_0', 'avg:fan3_1', 'var:fan3_1', 'max:fan3_1', 'min:fan3_1', 'avg:fan_disk_power', 'var:fan_disk_power', 'max:fan_disk_power', 'min:fan_disk_power', 'avg:gpu0_core_temp', 'var:gpu0_core_temp', 'max:gpu0_core_temp', 'min:gpu0_core_temp', 'avg:gpu0_mem_temp', 'var:gpu0_mem_temp', 'max:gpu0_mem_temp', 'min:gpu0_mem_temp', 'avg:gpu1_core_temp', 'var:gpu1_core_temp', 'max:gpu1_core_temp', 'min:gpu1_core_temp', 'avg:gpu1_mem_temp', 'var:gpu1_mem_temp', 'max:gpu1_mem_temp', 'min:gpu1_mem_temp', 'avg:gpu3_core_temp', 'var:gpu3_core_temp', 'max:gpu3_core_temp', 'min:gpu3_core_temp', 'avg:gpu3_mem_temp', 'var:gpu3_mem_temp', 'max:gpu3_mem_temp', 'min:gpu3_mem_temp', 'avg:gpu4_core_temp', 'var:gpu4_core_temp', 'max:gpu4_core_temp', 'min:gpu4_core_temp', 'avg:gpu4_mem_temp', 'var:gpu4_mem_temp', 'max:gpu4_mem_temp', 'min:gpu4_mem_temp', 'avg:gv100card0', 'var:gv100card0', 'max:gv100card0', 'min:gv100card0', 'avg:gv100card1', 'var:gv100card1', 'max:gv100card1', 'min:gv100card1', 'avg:gv100card3', 'var:gv100card3', 'max:gv100card3', 'min:gv100card3', 'avg:gv100card4', 'var:gv100card4', 'max:gv100card4', 'min:gv100card4', 'avg:p0_core10_temp', 'var:p0_core10_temp', 'max:p0_core10_temp', 'min:p0_core10_temp', 'avg:p0_core11_temp', 'var:p0_core11_temp', 'max:p0_core11_temp', 'min:p0_core11_temp', 'avg:p0_core12_temp', 'var:p0_core12_temp', 'max:p0_core12_temp', 'min:p0_core12_temp', 'avg:p0_core13_temp', 'var:p0_core13_temp', 'max:p0_core13_temp', 'min:p0_core13_temp', 'avg:p0_core14_temp', 'var:p0_core14_temp', 'max:p0_core14_temp', 'min:p0_core14_temp', 'avg:p0_core15_temp', 'var:p0_core15_temp', 'max:p0_core15_temp', 'min:p0_core15_temp', 'avg:p0_core16_temp', 'var:p0_core16_temp', 'max:p0_core16_temp', 'min:p0_core16_temp', 'avg:p0_core17_temp', 'var:p0_core17_temp', 'max:p0_core17_temp', 'min:p0_core17_temp', 'avg:p0_core22_temp', 'var:p0_core22_temp', 'max:p0_core22_temp', 'min:p0_core22_temp', 'avg:p0_core23_temp', 'var:p0_core23_temp', 'max:p0_core23_temp', 'min:p0_core23_temp', 'avg:p0_core8_temp', 'var:p0_core8_temp', 'max:p0_core8_temp', 'min:p0_core8_temp', 'avg:p0_core9_temp', 'var:p0_core9_temp', 'max:p0_core9_temp', 'min:p0_core9_temp', 'avg:p0_io_power', 'var:p0_io_power', 'max:p0_io_power', 'min:p0_io_power', 'avg:p0_mem_power', 'var:p0_mem_power', 'max:p0_mem_power', 'min:p0_mem_power', 'avg:p0_power', 'var:p0_power', 'max:p0_power', 'min:p0_power', 'avg:p0_vdd_temp', 'var:p0_vdd_temp', 'max:p0_vdd_temp', 'min:p0_vdd_temp', 'avg:p1_core10_temp', 'var:p1_core10_temp', 'max:p1_core10_temp', 'min:p1_core10_temp', 'avg:p1_core11_temp', 'var:p1_core11_temp', 'max:p1_core11_temp', 'min:p1_core11_temp', 'avg:p1_core22_temp', 'var:p1_core22_temp', 'max:p1_core22_temp', 'min:p1_core22_temp', 'avg:p1_core23_temp', 'var:p1_core23_temp', 'max:p1_core23_temp', 'min:p1_core23_temp', 'avg:p1_core4_temp', 'var:p1_core4_temp', 'max:p1_core4_temp', 'min:p1_core4_temp', 'avg:p1_core5_temp', 'var:p1_core5_temp', 'max:p1_core5_temp', 'min:p1_core5_temp', 'avg:p1_io_power', 'var:p1_io_power', 'max:p1_io_power', 'min:p1_io_power', 'avg:p1_mem_power', 'var:p1_mem_power', 'max:p1_mem_power', 'min:p1_mem_power', 'avg:p1_power', 'var:p1_power', 'max:p1_power', 'min:p1_power', 'avg:p1_vdd_temp', 'var:p1_vdd_temp', 'max:p1_vdd_temp', 'min:p1_vdd_temp', 'avg:pcie', 'var:pcie', 'max:pcie', 'min:pcie', 'avg:ps0_input_power', 'var:ps0_input_power', 'max:ps0_input_power', 'min:ps0_input_power', 'avg:ps0_input_voltag', 'var:ps0_input_voltag', 'max:ps0_input_voltag', 'min:ps0_input_voltag', 'avg:ps0_output_curre', 'var:ps0_output_curre', 'max:ps0_output_curre', 'min:ps0_output_curre', 'avg:ps0_output_volta', 'var:ps0_output_volta', 'max:ps0_output_volta', 'min:ps0_output_volta', 'avg:ps1_input_power', 'var:ps1_input_power', 'max:ps1_input_power', 'min:ps1_input_power', 'avg:ps1_input_voltag', 'var:ps1_input_voltag', 'max:ps1_input_voltag', 'min:ps1_input_voltag', 'avg:ps1_output_curre', 'var:ps1_output_curre', 'max:ps1_output_curre', 'min:ps1_output_curre', 'avg:ps1_output_volta', 'var:ps1_output_volta', 'max:ps1_output_volta', 'min:ps1_output_volta', 'avg:total_power', 'var:total_power', 'max:total_power', 'min:total_power', 'avg:boottime', 'var:boottime', 'max:boottime', 'min:boottime', 'avg:bytes_in', 'var:bytes_in', 'max:bytes_in', 'min:bytes_in', 'avg:bytes_out', 'var:bytes_out', 'max:bytes_out', 'min:bytes_out', 'avg:cpu_aidle', 'var:cpu_aidle', 'max:cpu_aidle', 'min:cpu_aidle', 'avg:cpu_idle', 'var:cpu_idle', 'max:cpu_idle', 'min:cpu_idle', 'avg:cpu_nice', 'var:cpu_nice', 'max:cpu_nice', 'min:cpu_nice', 'avg:cpu_num', 'var:cpu_num', 'max:cpu_num', 'min:cpu_num', 'avg:cpu_speed', 'var:cpu_speed', 'max:cpu_speed', 'min:cpu_speed', 'avg:cpu_steal', 'var:cpu_steal', 'max:cpu_steal', 'min:cpu_steal', 'avg:cpu_system', 'var:cpu_system', 'max:cpu_system', 'min:cpu_system', 'avg:cpu_user', 'var:cpu_user', 'max:cpu_user', 'min:cpu_user', 'avg:cpu_wio', 'var:cpu_wio', 'max:cpu_wio', 'min:cpu_wio', 'avg:load_fifteen', 'var:load_fifteen', 'max:load_fifteen', 'min:load_fifteen', 'avg:load_five', 'var:load_five', 'max:load_five', 'min:load_five', 'avg:load_one', 'var:load_one', 'max:load_one', 'min:load_one', 'avg:mem_buffers', 'var:mem_buffers', 'max:mem_buffers', 'min:mem_buffers', 'avg:mem_cached', 'var:mem_cached', 'max:mem_cached', 'min:mem_cached', 'avg:mem_free', 'var:mem_free', 'max:mem_free', 'min:mem_free', 'avg:mem_shared', 'var:mem_shared', 'max:mem_shared', 'min:mem_shared', 'avg:mem_total', 'var:mem_total', 'max:mem_total', 'min:mem_total', 'avg:part_max_used', 'var:part_max_used', 'max:part_max_used', 'min:part_max_used', 'avg:pkts_in', 'var:pkts_in', 'max:pkts_in', 'min:pkts_in', 'avg:pkts_out', 'var:pkts_out', 'max:pkts_out', 'min:pkts_out', 'avg:proc_run', 'var:proc_run', 'max:proc_run', 'min:proc_run', 'avg:proc_total', 'var:proc_total', 'max:proc_total', 'min:proc_total', 'avg:swap_free', 'var:swap_free', 'max:swap_free', 'min:swap_free', 'avg:swap_total', 'var:swap_total', 'max:swap_total', 'min:swap_total']\n",
            "<class 'pandas.core.frame.DataFrame'>\n",
            "(36547, 404)\n",
            "(36547,)\n"
          ]
        }
      ]
    },
    {
      "cell_type": "markdown",
      "source": [
        "##Isolation Forest"
      ],
      "metadata": {
        "id": "TVGIVCUw9dS5"
      }
    },
    {
      "cell_type": "code",
      "source": [
        "Isolation_Forest=IsolationForest(n_estimators=100,max_samples=len(X),contamination=outlier_fraction,random_state=2022,verbose=0)\n",
        "Isolation_Forest.fit(X)\n",
        "scores_prediction=Isolation_Forest.decision_function(X)\n",
        "y_pred2=Isolation_Forest.predict(X)\n",
        "y_pred2[y_pred2==1]=0 #0 for Normal\n",
        "y_pred2[y_pred2==-1]=1 #1 Anomly"
      ],
      "metadata": {
        "colab": {
          "base_uri": "https://localhost:8080/"
        },
        "id": "RtapIVCm1B_z",
        "outputId": "117d5974-c294-468c-8f13-ebb2641d6308"
      },
      "execution_count": 62,
      "outputs": [
        {
          "output_type": "stream",
          "name": "stderr",
          "text": [
            "/usr/local/lib/python3.7/dist-packages/sklearn/base.py:451: UserWarning: X does not have valid feature names, but IsolationForest was fitted with feature names\n",
            "  \"X does not have valid feature names, but\"\n"
          ]
        }
      ]
    },
    {
      "cell_type": "code",
      "source": [
        "n_errors2=(y_pred2!=Y).sum()\n",
        "print(\"{}: {}\".format('Isolation_Forest',n_errors2))\n",
        "print(metrics(Y,y_pred2))\n",
        "print('\\n')"
      ],
      "metadata": {
        "id": "qq5v04KyAa3y",
        "colab": {
          "base_uri": "https://localhost:8080/",
          "height": 985
        },
        "outputId": "75c192b9-88e4-4e35-9baa-ff2bcb4a40ad"
      },
      "execution_count": 63,
      "outputs": [
        {
          "output_type": "stream",
          "name": "stdout",
          "text": [
            "Isolation_Forest: 2476\n",
            "Accuracy Score : 0.9322516212000985\n",
            "ROC AUC score : 0.5212091835224901\n",
            "recall : 0.07826747720364742\n",
            "precision : 0.07540263543191801\n",
            "f1_score : 0.07680835197613721\n",
            "Classification Report :\n",
            "              precision    recall  f1-score   support\n",
            "\n",
            "         0.0       0.97      0.96      0.96     35231\n",
            "         1.0       0.08      0.08      0.08      1316\n",
            "\n",
            "    accuracy                           0.93     36547\n",
            "   macro avg       0.52      0.52      0.52     36547\n",
            "weighted avg       0.93      0.93      0.93     36547\n",
            "\n",
            "\n",
            "\n"
          ]
        },
        {
          "output_type": "display_data",
          "data": {
            "text/plain": [
              "<Figure size 720x720 with 2 Axes>"
            ],
            "image/png": "[encoded data removed]"
          },
          "metadata": {
            "needs_background": "light"
          }
        },
        {
          "output_type": "stream",
          "name": "stdout",
          "text": [
            "None\n",
            "\n",
            "\n"
          ]
        }
      ]
    },
    {
      "cell_type": "markdown",
      "source": [
        "##Local Outlier Factor"
      ],
      "metadata": {
        "id": "zt5278MX9xhp"
      }
    },
    {
      "cell_type": "code",
      "source": [
        "Local_Outlier_Factor=LocalOutlierFactor(n_neighbors=20,algorithm='auto', leaf_size=30, metric='minkowski',p=2, metric_params=None, contamination=outlier_fraction)\n",
        "Local_Outlier_Factor.fit(X)\n",
        "score_prediction=Local_Outlier_Factor.negative_outlier_factor_\n",
        "y_pred3=Local_Outlier_Factor.fit_predict(X)\n",
        "y_pred3[y_pred3==1]=0 #0 for Normal\n",
        "y_pred3[y_pred3==-1]=1 #1 Anomly"
      ],
      "metadata": {
        "id": "RmC2e0X49ykl"
      },
      "execution_count": 64,
      "outputs": []
    },
    {
      "cell_type": "code",
      "source": [
        "# type(y_pred3)\n",
        "type(normalized_test_y)"
      ],
      "metadata": {
        "id": "uSvZwtbJIkdF",
        "colab": {
          "base_uri": "https://localhost:8080/"
        },
        "outputId": "54b6e707-0179-4028-85a9-4bb54ad03fb5"
      },
      "execution_count": 65,
      "outputs": [
        {
          "output_type": "execute_result",
          "data": {
            "text/plain": [
              "numpy.ndarray"
            ]
          },
          "metadata": {},
          "execution_count": 65
        }
      ]
    },
    {
      "cell_type": "code",
      "source": [
        "n_errors=(y_pred3!=Y).sum()\n",
        "print(\"{}: {}\".format('Local Outlier Factor',n_errors))\n",
        "print(metrics(Y,y_pred3))\n",
        "print('\\n')"
      ],
      "metadata": {
        "id": "txaERVKpCbL5",
        "colab": {
          "base_uri": "https://localhost:8080/",
          "height": 985
        },
        "outputId": "55c73665-a369-4057-d191-cb71cee702bd"
      },
      "execution_count": 66,
      "outputs": [
        {
          "output_type": "stream",
          "name": "stdout",
          "text": [
            "Local Outlier Factor: 2480\n",
            "Accuracy Score : 0.9321421730921827\n",
            "ROC AUC score : 0.5204209210094833\n",
            "recall : 0.07674772036474165\n",
            "precision : 0.0739385065885798\n",
            "f1_score : 0.07531692766592095\n",
            "Classification Report :\n",
            "              precision    recall  f1-score   support\n",
            "\n",
            "         0.0       0.97      0.96      0.96     35231\n",
            "         1.0       0.07      0.08      0.08      1316\n",
            "\n",
            "    accuracy                           0.93     36547\n",
            "   macro avg       0.52      0.52      0.52     36547\n",
            "weighted avg       0.93      0.93      0.93     36547\n",
            "\n",
            "\n",
            "\n"
          ]
        },
        {
          "output_type": "display_data",
          "data": {
            "text/plain": [
              "<Figure size 720x720 with 2 Axes>"
            ],
            "image/png": "[encoded data removed]"
          },
          "metadata": {
            "needs_background": "light"
          }
        },
        {
          "output_type": "stream",
          "name": "stdout",
          "text": [
            "None\n",
            "\n",
            "\n"
          ]
        }
      ]
    },
    {
      "cell_type": "markdown",
      "source": [
        "##One class SVM"
      ],
      "metadata": {
        "id": "7iPpY0JD-qeK"
      }
    },
    {
      "cell_type": "code",
      "source": [
        "One_Class_SVM=OneClassSVM(kernel='rbf',degree=3,gamma=0.1,nu=0.05,max_iter=-1)\n",
        "One_Class_SVM.fit(X)\n",
        "y_pred4=One_Class_SVM.predict(X)\n",
        "y_pred4[y_pred4==1]=0 #0 for Normal\n",
        "y_pred4[y_pred4==-1]=1 #1 Anomly"
      ],
      "metadata": {
        "id": "a__ZLnDy-tUx"
      },
      "execution_count": 67,
      "outputs": []
    },
    {
      "cell_type": "code",
      "source": [
        "n_errors4=(y_pred4!=Y).sum()\n",
        "print(\"{}: {}\".format('One Class SVM',n_errors4))\n",
        "print(metrics(Y,y_pred4))\n",
        "print('\\n')"
      ],
      "metadata": {
        "id": "yBd1R8hXCjA4",
        "colab": {
          "base_uri": "https://localhost:8080/",
          "height": 985
        },
        "outputId": "bbc05c20-745f-45e3-c586-acda1cecf5b3"
      },
      "execution_count": 72,
      "outputs": [
        {
          "output_type": "stream",
          "name": "stdout",
          "text": [
            "One Class SVM: 2907\n",
            "Accuracy Score : 0.9204585875721674\n",
            "ROC AUC score : 0.520578618805851\n",
            "recall : 0.08966565349544073\n",
            "precision : 0.06458675424192666\n",
            "f1_score : 0.07508749602290807\n",
            "Classification Report :\n",
            "              precision    recall  f1-score   support\n",
            "\n",
            "         0.0       0.97      0.95      0.96     35231\n",
            "         1.0       0.06      0.09      0.08      1316\n",
            "\n",
            "    accuracy                           0.92     36547\n",
            "   macro avg       0.52      0.52      0.52     36547\n",
            "weighted avg       0.93      0.92      0.93     36547\n",
            "\n",
            "\n",
            "\n"
          ]
        },
        {
          "output_type": "display_data",
          "data": {
            "text/plain": [
              "<Figure size 720x720 with 2 Axes>"
            ],
            "image/png": "[encoded data removed]"
          },
          "metadata": {
            "needs_background": "light"
          }
        },
        {
          "output_type": "stream",
          "name": "stdout",
          "text": [
            "None\n",
            "\n",
            "\n"
          ]
        }
      ]
    },
    {
      "cell_type": "markdown",
      "source": [
        "##Minimum Covariance Determinant"
      ],
      "metadata": {
        "id": "oyh-EkC0zGo0"
      }
    },
    {
      "cell_type": "code",
      "source": [
        "minimum_covariant_determinant = EllipticEnvelope(contamination=0.01,random_state=2022)\n",
        "minimum_covariant_determinant.fit(X)\n",
        "y_pred5=minimum_covariant_determinant.predict(X)\n",
        "y_pred5[y_pred5==1]=0 #0 for Normal\n",
        "y_pred5[y_pred5==-1]=1 #1 Anomly"
      ],
      "metadata": {
        "id": "7wtd5CUhzJsm",
        "colab": {
          "base_uri": "https://localhost:8080/"
        },
        "outputId": "2833c73b-1775-4031-a047-dc0b1c2cb0d1"
      },
      "execution_count": 69,
      "outputs": [
        {
          "output_type": "stream",
          "name": "stderr",
          "text": [
            "/usr/local/lib/python3.7/dist-packages/sklearn/covariance/_robust_covariance.py:739: UserWarning: The covariance matrix associated to your dataset is not full rank\n",
            "  \"The covariance matrix associated to your dataset is not full rank\"\n"
          ]
        }
      ]
    },
    {
      "cell_type": "code",
      "source": [
        "n_errors5=(y_pred5!=Y).sum()\n",
        "print(\"{}: {}\".format('One Class SVM',n_errors5))\n",
        "print(metrics(Y,y_pred5))\n",
        "print('\\n')"
      ],
      "metadata": {
        "id": "P-7GauWrzGK7",
        "colab": {
          "base_uri": "https://localhost:8080/",
          "height": 985
        },
        "outputId": "8ccb54d7-5e95-46c6-bd1d-c39c74e2ba80"
      },
      "execution_count": 70,
      "outputs": [
        {
          "output_type": "stream",
          "name": "stdout",
          "text": [
            "One Class SVM: 1626\n",
            "Accuracy Score : 0.9555093441322133\n",
            "ROC AUC score : 0.505841386061719\n",
            "recall : 0.02127659574468085\n",
            "precision : 0.07650273224043716\n",
            "f1_score : 0.03329369797859691\n",
            "Classification Report :\n",
            "              precision    recall  f1-score   support\n",
            "\n",
            "         0.0       0.96      0.99      0.98     35231\n",
            "         1.0       0.08      0.02      0.03      1316\n",
            "\n",
            "    accuracy                           0.96     36547\n",
            "   macro avg       0.52      0.51      0.51     36547\n",
            "weighted avg       0.93      0.96      0.94     36547\n",
            "\n",
            "\n",
            "\n"
          ]
        },
        {
          "output_type": "display_data",
          "data": {
            "text/plain": [
              "<Figure size 720x720 with 2 Axes>"
            ],
            "image/png": "[encoded data removed]"
          },
          "metadata": {
            "needs_background": "light"
          }
        },
        {
          "output_type": "stream",
          "name": "stdout",
          "text": [
            "None\n",
            "\n",
            "\n"
          ]
        }
      ]
    },
    {
      "cell_type": "markdown",
      "source": [
        "#Model Comparison"
      ],
      "metadata": {
        "id": "QJZRFAlwEBAX"
      }
    },
    {
      "cell_type": "code",
      "source": [
        "# set width of bar\n",
        "barWidth = 0.11\n",
        "fig = plt.subplots(figsize =(12, 12))\n",
        " \n",
        "# set height of bar\n",
        "f1_scores = [0.07, 0.22, 0.07, 0.07,0.03]\n",
        "auc_scores=[0.52,0.75,0.52,0.52,0.50]\n",
        "accuracy = [.93, 0.86, 0.93, 0.92,0.95]\n",
        "precision = [.07, 0.14, 0.07, 0.06,0.07]\n",
        "Recall = [.07, 0.57, 0.07, 0.08,0.02]\n",
        " \n",
        "# Set position of bar on X axis\n",
        "br1 = np.arange(len(auc_scores))\n",
        "br2 = [x + barWidth for x in br1]\n",
        "br3 = [x + barWidth for x in br2]\n",
        "br4 = [x + barWidth for x in br3]\n",
        "br5 = [x + barWidth for x in br4]\n",
        " \n",
        "# Make the plot\n",
        "plt.bar(br1, f1_scores, color ='tab:red', width = barWidth, edgecolor ='grey', label ='f1_scores')\n",
        "plt.bar(br2, auc_scores, color ='tab:green', width = barWidth,edgecolor ='grey', label ='auc_scores')\n",
        "plt.bar(br3, accuracy, color ='tab:blue', width = barWidth,edgecolor ='grey', label ='accuracy')\n",
        "plt.bar(br4, precision, color ='tab:purple', width = barWidth,edgecolor ='grey', label ='precision')\n",
        "plt.bar(br5, Recall, color ='tab:olive', width = barWidth,edgecolor ='grey', label ='Recall')\n",
        " \n",
        "# Adding Xticks\n",
        "plt.xlabel('Models', fontweight ='bold', fontsize = 15)\n",
        "plt.ylabel('Average Scores', fontweight ='bold', fontsize = 15)\n",
        "plt.xticks([r + barWidth for r in range(len(auc_scores))],['Isolation Forest', 'Autoencoders', 'LOF', 'OneClass SVM','minimum covariant determinant'])\n",
        " \n",
        "plt.legend()\n",
        "plt.show()"
      ],
      "metadata": {
        "id": "YRmcbyvN0jVT",
        "colab": {
          "base_uri": "https://localhost:8080/",
          "height": 718
        },
        "outputId": "be14907a-f823-4839-86d3-978eb7098329"
      },
      "execution_count": 73,
      "outputs": [
        {
          "output_type": "display_data",
          "data": {
            "text/plain": [
              "<Figure size 864x864 with 1 Axes>"
            ],
            "image/png": "[encoded data removed]"
          },
          "metadata": {
            "needs_background": "light"
          }
        }
      ]
    }
  ]
}