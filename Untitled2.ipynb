{
  "nbformat": 4,
  "nbformat_minor": 0,
  "metadata": {
    "colab": {
      "name": "Untitled2.ipynb",
      "provenance": []
    },
    "kernelspec": {
      "name": "python3",
      "display_name": "Python 3"
    },
    "language_info": {
      "name": "python"
    }
  },
  "cells": [
    {
      "cell_type": "code",
      "execution_count": 1,
      "metadata": {
        "id": "alGMgM30F_Hq"
      },
      "outputs": [],
      "source": [
        "# Important libraries for the model building\n",
        "\n",
        "import sys \n",
        "import gzip\n",
        "# import openml\n",
        "import os, shutil \n",
        "import pandas as pd\n",
        "import numpy as np\n",
        "# import EncoderDataFrame \n",
        "import seaborn as sns\n",
        "from pathlib import Path\n",
        "from urllib import request\n",
        "from keras import regularizers\n",
        "import matplotlib.pyplot as plt\n",
        "from sklearn import preprocessing\n",
        "import tensorflow as tf\n",
        "# import tensorflow_addons as tfa\n",
        "from tensorflow import keras\n",
        "from tensorflow.keras import layers\n",
        "from sklearn.svm import OneClassSVM\n",
        "from keras.callbacks import EarlyStopping\n",
        "from keras.models import Model, Sequential\n",
        "from tensorflow.keras.utils import plot_model\n",
        "from keras.layers import Input, Dense,Dropout\n",
        "from sklearn.ensemble import IsolationForest\n",
        "from sklearn.neighbors import LocalOutlierFactor\n",
        "from sklearn.model_selection import train_test_split\n",
        "from sklearn.metrics import classification_report, accuracy_score\n",
        "from sklearn.metrics import precision_score, recall_score,f1_score\n",
        "from sklearn.covariance import EllipticEnvelope\n",
        "# from dfencoder import EncoderDataFrame\n",
        "from sklearn.metrics import precision_recall_curve, classification_report, confusion_matrix, average_precision_score, roc_curve, auc,roc_auc_score\n",
        "from tensorflow.keras.layers import Input, Dense, BatchNormalization, Dropout, Concatenate, Lambda, GaussianNoise, Activation\n",
        "\n",
        "\n",
        "from tensorflow.keras import layers\n",
        "from tensorflow.keras import regularizers\n",
        "import tensorflow as tf\n",
        "\n",
        "import matplotlib.pyplot as plt\n",
        "import numpy as np\n",
        "\n",
        "LABELS = [\"Normal\",\"Anomly\"]\n",
        "\n",
        "# For the reproducibility of the results\n",
        "random_state=2022"
      ]
    },
    {
      "cell_type": "code",
      "source": [
        "!pip install torch\n",
        "import torch\n",
        "!pip install --user pytorch-tabnet\n",
        "# import pytorch-tabnet"
      ],
      "metadata": {
        "colab": {
          "base_uri": "https://localhost:8080/"
        },
        "id": "zKwd8jdM3Zom",
        "outputId": "c2b016d8-9e25-44f9-8b7d-4d33834ae56a"
      },
      "execution_count": 2,
      "outputs": [
        {
          "output_type": "stream",
          "name": "stdout",
          "text": [
            "Looking in indexes: https://pypi.org/simple, https://us-python.pkg.dev/colab-wheels/public/simple/\n",
            "Requirement already satisfied: torch in /usr/local/lib/python3.7/dist-packages (1.11.0+cu113)\n",
            "Requirement already satisfied: typing-extensions in /usr/local/lib/python3.7/dist-packages (from torch) (4.1.1)\n",
            "Looking in indexes: https://pypi.org/simple, https://us-python.pkg.dev/colab-wheels/public/simple/\n",
            "Requirement already satisfied: pytorch-tabnet in /root/.local/lib/python3.7/site-packages (3.1.1)\n",
            "Requirement already satisfied: scipy>1.4 in /usr/local/lib/python3.7/dist-packages (from pytorch-tabnet) (1.4.1)\n",
            "Requirement already satisfied: scikit_learn>0.21 in /usr/local/lib/python3.7/dist-packages (from pytorch-tabnet) (1.0.2)\n",
            "Requirement already satisfied: numpy<2.0,>=1.17 in /usr/local/lib/python3.7/dist-packages (from pytorch-tabnet) (1.21.6)\n",
            "Requirement already satisfied: tqdm<5.0,>=4.36 in /usr/local/lib/python3.7/dist-packages (from pytorch-tabnet) (4.64.0)\n",
            "Requirement already satisfied: torch<2.0,>=1.2 in /usr/local/lib/python3.7/dist-packages (from pytorch-tabnet) (1.11.0+cu113)\n",
            "Requirement already satisfied: joblib>=0.11 in /usr/local/lib/python3.7/dist-packages (from scikit_learn>0.21->pytorch-tabnet) (1.1.0)\n",
            "Requirement already satisfied: threadpoolctl>=2.0.0 in /usr/local/lib/python3.7/dist-packages (from scikit_learn>0.21->pytorch-tabnet) (3.1.0)\n",
            "Requirement already satisfied: typing-extensions in /usr/local/lib/python3.7/dist-packages (from torch<2.0,>=1.2->pytorch-tabnet) (4.1.1)\n"
          ]
        }
      ]
    },
    {
      "cell_type": "code",
      "source": [
        "data_dir = Path('/content/data/')\n",
        "full_df = pd.concat(pd.read_parquet(parquet_file)for parquet_file in data_dir.glob('*.gzip'))\n",
        "# full_df.to_csv('dataset.csv')"
      ],
      "metadata": {
        "id": "C96ZXcG-sl12"
      },
      "execution_count": 3,
      "outputs": []
    },
    {
      "cell_type": "code",
      "source": [
        "full_df"
      ],
      "metadata": {
        "colab": {
          "base_uri": "https://localhost:8080/",
          "height": 866
        },
        "id": "HB5E80G1xQns",
        "outputId": "32e13c41-6b38-4368-a76a-9b39d4dae010"
      },
      "execution_count": 4,
      "outputs": [
        {
          "output_type": "execute_result",
          "data": {
            "text/plain": [
              "                timestamp  avg:ambient  var:ambient  max:ambient  min:ambient  \\\n",
              "index                                                                           \n",
              "13218 2020-07-16 19:30:00    23.493333     0.067810         23.8         23.0   \n",
              "13221 2020-07-16 19:45:00    25.573333     0.027810         25.8         25.4   \n",
              "13278 2020-07-17 00:30:00    21.569231     0.018974         21.8         21.4   \n",
              "13281 2020-07-17 00:45:00    21.600000     0.022857         21.8         21.4   \n",
              "13284 2020-07-17 01:00:00    21.280000     0.021714         21.4         21.0   \n",
              "...                   ...          ...          ...          ...          ...   \n",
              "96180 2021-04-30 21:00:00    25.400000     0.000000         25.4         25.4   \n",
              "96183 2021-04-30 21:15:00    25.413333     0.002667         25.6         25.4   \n",
              "96186 2021-04-30 21:30:00    25.400000     0.000000         25.4         25.4   \n",
              "96189 2021-04-30 21:45:00    25.640000     0.006857         25.8         25.6   \n",
              "96192 2021-04-30 22:00:00    25.600000     0.000000         25.6         25.6   \n",
              "\n",
              "       avg:dimm0_temp  var:dimm0_temp  max:dimm0_temp  min:dimm0_temp  \\\n",
              "index                                                                   \n",
              "13218       29.133333        0.123810              30              29   \n",
              "13221       30.800000        0.171429              31              30   \n",
              "13278       27.000000        0.000000              27              27   \n",
              "13281       27.000000        0.000000              27              27   \n",
              "13284       27.000000        0.000000              27              27   \n",
              "...               ...             ...             ...             ...   \n",
              "96180       32.000000        0.000000              32              32   \n",
              "96183       32.000000        0.000000              32              32   \n",
              "96186       32.000000        0.000000              32              32   \n",
              "96189       32.000000        0.000000              32              32   \n",
              "96192       32.000000        0.000000              32              32   \n",
              "\n",
              "       avg:dimm10_temp  ...  max:p1_core21_temp  min:p1_core21_temp  \\\n",
              "index                   ...                                           \n",
              "13218             31.6  ...                 NaN                 NaN   \n",
              "13221             33.0  ...                 NaN                 NaN   \n",
              "13278             31.0  ...                 NaN                 NaN   \n",
              "13281             31.0  ...                 NaN                 NaN   \n",
              "13284             31.0  ...                 NaN                 NaN   \n",
              "...                ...  ...                 ...                 ...   \n",
              "96180             33.0  ...                44.0                43.0   \n",
              "96183             33.0  ...                44.0                43.0   \n",
              "96186             33.0  ...                44.0                42.0   \n",
              "96189             33.0  ...                44.0                43.0   \n",
              "96192             33.0  ...                44.0                43.0   \n",
              "\n",
              "       avg:p1_core6_temp  var:p1_core6_temp  max:p1_core6_temp  \\\n",
              "index                                                            \n",
              "13218                NaN                NaN                NaN   \n",
              "13221                NaN                NaN                NaN   \n",
              "13278                NaN                NaN                NaN   \n",
              "13281                NaN                NaN                NaN   \n",
              "13284                NaN                NaN                NaN   \n",
              "...                  ...                ...                ...   \n",
              "96180          43.200000           0.171429               44.0   \n",
              "96183          43.266667           0.209524               44.0   \n",
              "96186          43.200000           0.171429               44.0   \n",
              "96189          43.333333           0.238095               44.0   \n",
              "96192          43.400000           0.257143               44.0   \n",
              "\n",
              "       min:p1_core6_temp  avg:p1_core7_temp  var:p1_core7_temp  \\\n",
              "index                                                            \n",
              "13218                NaN                NaN                NaN   \n",
              "13221                NaN                NaN                NaN   \n",
              "13278                NaN                NaN                NaN   \n",
              "13281                NaN                NaN                NaN   \n",
              "13284                NaN                NaN                NaN   \n",
              "...                  ...                ...                ...   \n",
              "96180               43.0          43.133333           0.123810   \n",
              "96183               43.0          43.266667           0.209524   \n",
              "96186               43.0          43.133333           0.123810   \n",
              "96189               43.0          43.266667           0.209524   \n",
              "96192               43.0          43.333333           0.238095   \n",
              "\n",
              "       max:p1_core7_temp  min:p1_core7_temp  \n",
              "index                                        \n",
              "13218                NaN                NaN  \n",
              "13221                NaN                NaN  \n",
              "13278                NaN                NaN  \n",
              "13281                NaN                NaN  \n",
              "13284                NaN                NaN  \n",
              "...                  ...                ...  \n",
              "96180               44.0               43.0  \n",
              "96183               44.0               43.0  \n",
              "96186               44.0               43.0  \n",
              "96189               44.0               43.0  \n",
              "96192               44.0               43.0  \n",
              "\n",
              "[36547 rows x 503 columns]"
            ],
            "text/html": [
              "\n",
              "  <div id=\"df-b2c09af1-2bc1-4e18-b0d4-7162b714e1f6\">\n",
              "    <div class=\"colab-df-container\">\n",
              "      <div>\n",
              "<style scoped>\n",
              "    .dataframe tbody tr th:only-of-type {\n",
              "        vertical-align: middle;\n",
              "    }\n",
              "\n",
              "    .dataframe tbody tr th {\n",
              "        vertical-align: top;\n",
              "    }\n",
              "\n",
              "    .dataframe thead th {\n",
              "        text-align: right;\n",
              "    }\n",
              "</style>\n",
              "<table border=\"1\" class=\"dataframe\">\n",
              "  <thead>\n",
              "    <tr style=\"text-align: right;\">\n",
              "      <th></th>\n",
              "      <th>timestamp</th>\n",
              "      <th>avg:ambient</th>\n",
              "      <th>var:ambient</th>\n",
              "      <th>max:ambient</th>\n",
              "      <th>min:ambient</th>\n",
              "      <th>avg:dimm0_temp</th>\n",
              "      <th>var:dimm0_temp</th>\n",
              "      <th>max:dimm0_temp</th>\n",
              "      <th>min:dimm0_temp</th>\n",
              "      <th>avg:dimm10_temp</th>\n",
              "      <th>...</th>\n",
              "      <th>max:p1_core21_temp</th>\n",
              "      <th>min:p1_core21_temp</th>\n",
              "      <th>avg:p1_core6_temp</th>\n",
              "      <th>var:p1_core6_temp</th>\n",
              "      <th>max:p1_core6_temp</th>\n",
              "      <th>min:p1_core6_temp</th>\n",
              "      <th>avg:p1_core7_temp</th>\n",
              "      <th>var:p1_core7_temp</th>\n",
              "      <th>max:p1_core7_temp</th>\n",
              "      <th>min:p1_core7_temp</th>\n",
              "    </tr>\n",
              "    <tr>\n",
              "      <th>index</th>\n",
              "      <th></th>\n",
              "      <th></th>\n",
              "      <th></th>\n",
              "      <th></th>\n",
              "      <th></th>\n",
              "      <th></th>\n",
              "      <th></th>\n",
              "      <th></th>\n",
              "      <th></th>\n",
              "      <th></th>\n",
              "      <th></th>\n",
              "      <th></th>\n",
              "      <th></th>\n",
              "      <th></th>\n",
              "      <th></th>\n",
              "      <th></th>\n",
              "      <th></th>\n",
              "      <th></th>\n",
              "      <th></th>\n",
              "      <th></th>\n",
              "      <th></th>\n",
              "    </tr>\n",
              "  </thead>\n",
              "  <tbody>\n",
              "    <tr>\n",
              "      <th>13218</th>\n",
              "      <td>2020-07-16 19:30:00</td>\n",
              "      <td>23.493333</td>\n",
              "      <td>0.067810</td>\n",
              "      <td>23.8</td>\n",
              "      <td>23.0</td>\n",
              "      <td>29.133333</td>\n",
              "      <td>0.123810</td>\n",
              "      <td>30</td>\n",
              "      <td>29</td>\n",
              "      <td>31.6</td>\n",
              "      <td>...</td>\n",
              "      <td>NaN</td>\n",
              "      <td>NaN</td>\n",
              "      <td>NaN</td>\n",
              "      <td>NaN</td>\n",
              "      <td>NaN</td>\n",
              "      <td>NaN</td>\n",
              "      <td>NaN</td>\n",
              "      <td>NaN</td>\n",
              "      <td>NaN</td>\n",
              "      <td>NaN</td>\n",
              "    </tr>\n",
              "    <tr>\n",
              "      <th>13221</th>\n",
              "      <td>2020-07-16 19:45:00</td>\n",
              "      <td>25.573333</td>\n",
              "      <td>0.027810</td>\n",
              "      <td>25.8</td>\n",
              "      <td>25.4</td>\n",
              "      <td>30.800000</td>\n",
              "      <td>0.171429</td>\n",
              "      <td>31</td>\n",
              "      <td>30</td>\n",
              "      <td>33.0</td>\n",
              "      <td>...</td>\n",
              "      <td>NaN</td>\n",
              "      <td>NaN</td>\n",
              "      <td>NaN</td>\n",
              "      <td>NaN</td>\n",
              "      <td>NaN</td>\n",
              "      <td>NaN</td>\n",
              "      <td>NaN</td>\n",
              "      <td>NaN</td>\n",
              "      <td>NaN</td>\n",
              "      <td>NaN</td>\n",
              "    </tr>\n",
              "    <tr>\n",
              "      <th>13278</th>\n",
              "      <td>2020-07-17 00:30:00</td>\n",
              "      <td>21.569231</td>\n",
              "      <td>0.018974</td>\n",
              "      <td>21.8</td>\n",
              "      <td>21.4</td>\n",
              "      <td>27.000000</td>\n",
              "      <td>0.000000</td>\n",
              "      <td>27</td>\n",
              "      <td>27</td>\n",
              "      <td>31.0</td>\n",
              "      <td>...</td>\n",
              "      <td>NaN</td>\n",
              "      <td>NaN</td>\n",
              "      <td>NaN</td>\n",
              "      <td>NaN</td>\n",
              "      <td>NaN</td>\n",
              "      <td>NaN</td>\n",
              "      <td>NaN</td>\n",
              "      <td>NaN</td>\n",
              "      <td>NaN</td>\n",
              "      <td>NaN</td>\n",
              "    </tr>\n",
              "    <tr>\n",
              "      <th>13281</th>\n",
              "      <td>2020-07-17 00:45:00</td>\n",
              "      <td>21.600000</td>\n",
              "      <td>0.022857</td>\n",
              "      <td>21.8</td>\n",
              "      <td>21.4</td>\n",
              "      <td>27.000000</td>\n",
              "      <td>0.000000</td>\n",
              "      <td>27</td>\n",
              "      <td>27</td>\n",
              "      <td>31.0</td>\n",
              "      <td>...</td>\n",
              "      <td>NaN</td>\n",
              "      <td>NaN</td>\n",
              "      <td>NaN</td>\n",
              "      <td>NaN</td>\n",
              "      <td>NaN</td>\n",
              "      <td>NaN</td>\n",
              "      <td>NaN</td>\n",
              "      <td>NaN</td>\n",
              "      <td>NaN</td>\n",
              "      <td>NaN</td>\n",
              "    </tr>\n",
              "    <tr>\n",
              "      <th>13284</th>\n",
              "      <td>2020-07-17 01:00:00</td>\n",
              "      <td>21.280000</td>\n",
              "      <td>0.021714</td>\n",
              "      <td>21.4</td>\n",
              "      <td>21.0</td>\n",
              "      <td>27.000000</td>\n",
              "      <td>0.000000</td>\n",
              "      <td>27</td>\n",
              "      <td>27</td>\n",
              "      <td>31.0</td>\n",
              "      <td>...</td>\n",
              "      <td>NaN</td>\n",
              "      <td>NaN</td>\n",
              "      <td>NaN</td>\n",
              "      <td>NaN</td>\n",
              "      <td>NaN</td>\n",
              "      <td>NaN</td>\n",
              "      <td>NaN</td>\n",
              "      <td>NaN</td>\n",
              "      <td>NaN</td>\n",
              "      <td>NaN</td>\n",
              "    </tr>\n",
              "    <tr>\n",
              "      <th>...</th>\n",
              "      <td>...</td>\n",
              "      <td>...</td>\n",
              "      <td>...</td>\n",
              "      <td>...</td>\n",
              "      <td>...</td>\n",
              "      <td>...</td>\n",
              "      <td>...</td>\n",
              "      <td>...</td>\n",
              "      <td>...</td>\n",
              "      <td>...</td>\n",
              "      <td>...</td>\n",
              "      <td>...</td>\n",
              "      <td>...</td>\n",
              "      <td>...</td>\n",
              "      <td>...</td>\n",
              "      <td>...</td>\n",
              "      <td>...</td>\n",
              "      <td>...</td>\n",
              "      <td>...</td>\n",
              "      <td>...</td>\n",
              "      <td>...</td>\n",
              "    </tr>\n",
              "    <tr>\n",
              "      <th>96180</th>\n",
              "      <td>2021-04-30 21:00:00</td>\n",
              "      <td>25.400000</td>\n",
              "      <td>0.000000</td>\n",
              "      <td>25.4</td>\n",
              "      <td>25.4</td>\n",
              "      <td>32.000000</td>\n",
              "      <td>0.000000</td>\n",
              "      <td>32</td>\n",
              "      <td>32</td>\n",
              "      <td>33.0</td>\n",
              "      <td>...</td>\n",
              "      <td>44.0</td>\n",
              "      <td>43.0</td>\n",
              "      <td>43.200000</td>\n",
              "      <td>0.171429</td>\n",
              "      <td>44.0</td>\n",
              "      <td>43.0</td>\n",
              "      <td>43.133333</td>\n",
              "      <td>0.123810</td>\n",
              "      <td>44.0</td>\n",
              "      <td>43.0</td>\n",
              "    </tr>\n",
              "    <tr>\n",
              "      <th>96183</th>\n",
              "      <td>2021-04-30 21:15:00</td>\n",
              "      <td>25.413333</td>\n",
              "      <td>0.002667</td>\n",
              "      <td>25.6</td>\n",
              "      <td>25.4</td>\n",
              "      <td>32.000000</td>\n",
              "      <td>0.000000</td>\n",
              "      <td>32</td>\n",
              "      <td>32</td>\n",
              "      <td>33.0</td>\n",
              "      <td>...</td>\n",
              "      <td>44.0</td>\n",
              "      <td>43.0</td>\n",
              "      <td>43.266667</td>\n",
              "      <td>0.209524</td>\n",
              "      <td>44.0</td>\n",
              "      <td>43.0</td>\n",
              "      <td>43.266667</td>\n",
              "      <td>0.209524</td>\n",
              "      <td>44.0</td>\n",
              "      <td>43.0</td>\n",
              "    </tr>\n",
              "    <tr>\n",
              "      <th>96186</th>\n",
              "      <td>2021-04-30 21:30:00</td>\n",
              "      <td>25.400000</td>\n",
              "      <td>0.000000</td>\n",
              "      <td>25.4</td>\n",
              "      <td>25.4</td>\n",
              "      <td>32.000000</td>\n",
              "      <td>0.000000</td>\n",
              "      <td>32</td>\n",
              "      <td>32</td>\n",
              "      <td>33.0</td>\n",
              "      <td>...</td>\n",
              "      <td>44.0</td>\n",
              "      <td>42.0</td>\n",
              "      <td>43.200000</td>\n",
              "      <td>0.171429</td>\n",
              "      <td>44.0</td>\n",
              "      <td>43.0</td>\n",
              "      <td>43.133333</td>\n",
              "      <td>0.123810</td>\n",
              "      <td>44.0</td>\n",
              "      <td>43.0</td>\n",
              "    </tr>\n",
              "    <tr>\n",
              "      <th>96189</th>\n",
              "      <td>2021-04-30 21:45:00</td>\n",
              "      <td>25.640000</td>\n",
              "      <td>0.006857</td>\n",
              "      <td>25.8</td>\n",
              "      <td>25.6</td>\n",
              "      <td>32.000000</td>\n",
              "      <td>0.000000</td>\n",
              "      <td>32</td>\n",
              "      <td>32</td>\n",
              "      <td>33.0</td>\n",
              "      <td>...</td>\n",
              "      <td>44.0</td>\n",
              "      <td>43.0</td>\n",
              "      <td>43.333333</td>\n",
              "      <td>0.238095</td>\n",
              "      <td>44.0</td>\n",
              "      <td>43.0</td>\n",
              "      <td>43.266667</td>\n",
              "      <td>0.209524</td>\n",
              "      <td>44.0</td>\n",
              "      <td>43.0</td>\n",
              "    </tr>\n",
              "    <tr>\n",
              "      <th>96192</th>\n",
              "      <td>2021-04-30 22:00:00</td>\n",
              "      <td>25.600000</td>\n",
              "      <td>0.000000</td>\n",
              "      <td>25.6</td>\n",
              "      <td>25.6</td>\n",
              "      <td>32.000000</td>\n",
              "      <td>0.000000</td>\n",
              "      <td>32</td>\n",
              "      <td>32</td>\n",
              "      <td>33.0</td>\n",
              "      <td>...</td>\n",
              "      <td>44.0</td>\n",
              "      <td>43.0</td>\n",
              "      <td>43.400000</td>\n",
              "      <td>0.257143</td>\n",
              "      <td>44.0</td>\n",
              "      <td>43.0</td>\n",
              "      <td>43.333333</td>\n",
              "      <td>0.238095</td>\n",
              "      <td>44.0</td>\n",
              "      <td>43.0</td>\n",
              "    </tr>\n",
              "  </tbody>\n",
              "</table>\n",
              "<p>36547 rows × 503 columns</p>\n",
              "</div>\n",
              "      <button class=\"colab-df-convert\" onclick=\"convertToInteractive('df-b2c09af1-2bc1-4e18-b0d4-7162b714e1f6')\"\n",
              "              title=\"Convert this dataframe to an interactive table.\"\n",
              "              style=\"display:none;\">\n",
              "        \n",
              "  <svg xmlns=\"http://www.w3.org/2000/svg\" height=\"24px\"viewBox=\"0 0 24 24\"\n",
              "       width=\"24px\">\n",
              "    <path d=\"M0 0h24v24H0V0z\" fill=\"none\"/>\n",
              "    <path d=\"M18.56 5.44l.94 2.06.94-2.06 2.06-.94-2.06-.94-.94-2.06-.94 2.06-2.06.94zm-11 1L8.5 8.5l.94-2.06 2.06-.94-2.06-.94L8.5 2.5l-.94 2.06-2.06.94zm10 10l.94 2.06.94-2.06 2.06-.94-2.06-.94-.94-2.06-.94 2.06-2.06.94z\"/><path d=\"M17.41 7.96l-1.37-1.37c-.4-.4-.92-.59-1.43-.59-.52 0-1.04.2-1.43.59L10.3 9.45l-7.72 7.72c-.78.78-.78 2.05 0 2.83L4 21.41c.39.39.9.59 1.41.59.51 0 1.02-.2 1.41-.59l7.78-7.78 2.81-2.81c.8-.78.8-2.07 0-2.86zM5.41 20L4 18.59l7.72-7.72 1.47 1.35L5.41 20z\"/>\n",
              "  </svg>\n",
              "      </button>\n",
              "      \n",
              "  <style>\n",
              "    .colab-df-container {\n",
              "      display:flex;\n",
              "      flex-wrap:wrap;\n",
              "      gap: 12px;\n",
              "    }\n",
              "\n",
              "    .colab-df-convert {\n",
              "      background-color: #E8F0FE;\n",
              "      border: none;\n",
              "      border-radius: 50%;\n",
              "      cursor: pointer;\n",
              "      display: none;\n",
              "      fill: #1967D2;\n",
              "      height: 32px;\n",
              "      padding: 0 0 0 0;\n",
              "      width: 32px;\n",
              "    }\n",
              "\n",
              "    .colab-df-convert:hover {\n",
              "      background-color: #E2EBFA;\n",
              "      box-shadow: 0px 1px 2px rgba(60, 64, 67, 0.3), 0px 1px 3px 1px rgba(60, 64, 67, 0.15);\n",
              "      fill: #174EA6;\n",
              "    }\n",
              "\n",
              "    [theme=dark] .colab-df-convert {\n",
              "      background-color: #3B4455;\n",
              "      fill: #D2E3FC;\n",
              "    }\n",
              "\n",
              "    [theme=dark] .colab-df-convert:hover {\n",
              "      background-color: #434B5C;\n",
              "      box-shadow: 0px 1px 3px 1px rgba(0, 0, 0, 0.15);\n",
              "      filter: drop-shadow(0px 1px 2px rgba(0, 0, 0, 0.3));\n",
              "      fill: #FFFFFF;\n",
              "    }\n",
              "  </style>\n",
              "\n",
              "      <script>\n",
              "        const buttonEl =\n",
              "          document.querySelector('#df-b2c09af1-2bc1-4e18-b0d4-7162b714e1f6 button.colab-df-convert');\n",
              "        buttonEl.style.display =\n",
              "          google.colab.kernel.accessAllowed ? 'block' : 'none';\n",
              "\n",
              "        async function convertToInteractive(key) {\n",
              "          const element = document.querySelector('#df-b2c09af1-2bc1-4e18-b0d4-7162b714e1f6');\n",
              "          const dataTable =\n",
              "            await google.colab.kernel.invokeFunction('convertToInteractive',\n",
              "                                                     [key], {});\n",
              "          if (!dataTable) return;\n",
              "\n",
              "          const docLinkHtml = 'Like what you see? Visit the ' +\n",
              "            '<a target=\"_blank\" href=https://colab.research.google.com/notebooks/data_table.ipynb>data table notebook</a>'\n",
              "            + ' to learn more about interactive tables.';\n",
              "          element.innerHTML = '';\n",
              "          dataTable['output_type'] = 'display_data';\n",
              "          await google.colab.output.renderOutput(dataTable, element);\n",
              "          const docLink = document.createElement('div');\n",
              "          docLink.innerHTML = docLinkHtml;\n",
              "          element.appendChild(docLink);\n",
              "        }\n",
              "      </script>\n",
              "    </div>\n",
              "  </div>\n",
              "  "
            ]
          },
          "metadata": {},
          "execution_count": 4
        }
      ]
    },
    {
      "cell_type": "code",
      "source": [
        "# drop the columns which contain at least one NaN value\n",
        "\n",
        "data = full_df.dropna(axis='columns')\n",
        "# data.drop('label', axis=1, inplace=True)\n",
        "data.drop('timestamp', axis=1, inplace=True)"
      ],
      "metadata": {
        "colab": {
          "base_uri": "https://localhost:8080/"
        },
        "id": "JcmKqLSoxXJP",
        "outputId": "0c0d0edc-9396-49c7-9ae2-1150fbc9accd"
      },
      "execution_count": 5,
      "outputs": [
        {
          "output_type": "stream",
          "name": "stderr",
          "text": [
            "/usr/local/lib/python3.7/dist-packages/pandas/core/frame.py:4913: SettingWithCopyWarning: \n",
            "A value is trying to be set on a copy of a slice from a DataFrame\n",
            "\n",
            "See the caveats in the documentation: https://pandas.pydata.org/pandas-docs/stable/user_guide/indexing.html#returning-a-view-versus-a-copy\n",
            "  errors=errors,\n"
          ]
        }
      ]
    },
    {
      "cell_type": "code",
      "source": [
        "# data.rename(index={'New_label': \"target\"},inplace=True)\n",
        "data.rename(columns = {'New_label':'target'}, inplace = True)"
      ],
      "metadata": {
        "colab": {
          "base_uri": "https://localhost:8080/"
        },
        "id": "oW79DBrmxX2Q",
        "outputId": "7fbf38da-f637-43ef-de5b-9135bc6722b7"
      },
      "execution_count": 36,
      "outputs": [
        {
          "output_type": "stream",
          "name": "stderr",
          "text": [
            "/usr/local/lib/python3.7/dist-packages/pandas/core/frame.py:5047: SettingWithCopyWarning: \n",
            "A value is trying to be set on a copy of a slice from a DataFrame\n",
            "\n",
            "See the caveats in the documentation: https://pandas.pydata.org/pandas-docs/stable/user_guide/indexing.html#returning-a-view-versus-a-copy\n",
            "  errors=errors,\n"
          ]
        }
      ]
    },
    {
      "cell_type": "code",
      "source": [
        "data.shape"
      ],
      "metadata": {
        "colab": {
          "base_uri": "https://localhost:8080/"
        },
        "id": "GfWCFEh-x1Ob",
        "outputId": "187945f6-6892-4e8d-fd5b-2e13c07ac2b2"
      },
      "execution_count": 7,
      "outputs": [
        {
          "output_type": "execute_result",
          "data": {
            "text/plain": [
              "(36547, 406)"
            ]
          },
          "metadata": {},
          "execution_count": 7
        }
      ]
    },
    {
      "cell_type": "markdown",
      "source": [
        "Since tabnet is built on pytorch which deals with tensors, we would in the first place transfer the pandas data frame into numpy arrays"
      ],
      "metadata": {
        "id": "osB8B5423yfO"
      }
    },
    {
      "cell_type": "code",
      "source": [
        "x_train = data.iloc[:20000,:-1].to_numpy()\n",
        "x_val=data.iloc[20000:30000,:-1].to_numpy()\n",
        "y_train=data.iloc[:20000,-1].to_numpy().squeeze()\n",
        "y_val = data.iloc[20000:30000:,-1].to_numpy().squeeze()\n",
        "x_test  = data.iloc[30000:,:-1].to_numpy()\n",
        "y_test=data.iloc[30000:,-1].to_numpy().squeeze()"
      ],
      "metadata": {
        "id": "eLdVOOcayLPA"
      },
      "execution_count": 22,
      "outputs": []
    },
    {
      "cell_type": "markdown",
      "source": [
        "Here, I take only 30% of data for further supervised learning with a pre-trained self-supervised learning task."
      ],
      "metadata": {
        "id": "D0IoIfCB1kS7"
      }
    },
    {
      "cell_type": "code",
      "source": [
        "# only a part of data \n",
        "part_of_train=data.sample(frac=0.3)\n",
        "\n",
        "part_of_x_train=part_of_train.iloc[:10000,:-1].to_numpy()\n",
        "\n",
        "part_of_x_val=part_of_train.iloc[10000:,:-1].to_numpy()\n",
        "\n",
        "part_of_y_train=part_of_train.iloc[:10000,-1].to_numpy().squeeze()\n",
        "\n",
        "part_of_y_val=part_of_train.iloc[10000:,-1].to_numpy().squeeze()"
      ],
      "metadata": {
        "id": "1Y6rA9Jo1lLt"
      },
      "execution_count": 23,
      "outputs": []
    },
    {
      "cell_type": "code",
      "source": [
        "print(part_of_x_train.shape)"
      ],
      "metadata": {
        "colab": {
          "base_uri": "https://localhost:8080/"
        },
        "id": "ym4uhQfH1rGG",
        "outputId": "94f36705-221b-4a8c-e4a1-8bd18a08f848"
      },
      "execution_count": 24,
      "outputs": [
        {
          "output_type": "stream",
          "name": "stdout",
          "text": [
            "(10000, 405)\n"
          ]
        }
      ]
    },
    {
      "cell_type": "code",
      "source": [
        "print(part_of_x_val.shape)"
      ],
      "metadata": {
        "colab": {
          "base_uri": "https://localhost:8080/"
        },
        "id": "ryE5InFK1u6I",
        "outputId": "aba80945-9a4f-46c5-bd72-14b889d8291b"
      },
      "execution_count": 25,
      "outputs": [
        {
          "output_type": "stream",
          "name": "stdout",
          "text": [
            "(964, 405)\n"
          ]
        }
      ]
    },
    {
      "cell_type": "code",
      "source": [
        "print(part_of_y_train.shape)"
      ],
      "metadata": {
        "colab": {
          "base_uri": "https://localhost:8080/"
        },
        "id": "z23CLit81vSM",
        "outputId": "ac9a763f-09b4-4818-c7d2-5da7f576ef7b"
      },
      "execution_count": 26,
      "outputs": [
        {
          "output_type": "stream",
          "name": "stdout",
          "text": [
            "(10000,)\n"
          ]
        }
      ]
    },
    {
      "cell_type": "code",
      "source": [
        "print(part_of_y_val.shape)"
      ],
      "metadata": {
        "colab": {
          "base_uri": "https://localhost:8080/"
        },
        "id": "CGgjjmaZ13DR",
        "outputId": "24914c00-ee0f-4ab0-b255-9f0f5b2fb9b2"
      },
      "execution_count": 27,
      "outputs": [
        {
          "output_type": "stream",
          "name": "stdout",
          "text": [
            "(964,)\n"
          ]
        }
      ]
    },
    {
      "cell_type": "code",
      "source": [
        "from pytorch_tabnet.metrics import Metric\n",
        "from sklearn.metrics import roc_auc_score\n",
        "\n",
        "class RocAuc(Metric):\n",
        "    def __init__(self):\n",
        "        self._name = \"roc_auc\"\n",
        "        self._maximize = True\n",
        "\n",
        "    def __call__(self, y_true, y_score):\n",
        "        auc = roc_auc_score(y_true, y_score[:, 1])\n",
        "        return auc"
      ],
      "metadata": {
        "id": "yJMVsCXU19tU"
      },
      "execution_count": 28,
      "outputs": []
    },
    {
      "cell_type": "markdown",
      "source": [
        "First of all, let us take a look of how we can get if we train a supervised model directly with only 30% data."
      ],
      "metadata": {
        "id": "LvzzaSLI35Ru"
      }
    },
    {
      "cell_type": "code",
      "source": [
        "import torch\n",
        "# train on the whole dataset with labels\n",
        "from pytorch_tabnet.tab_model import TabNetClassifier\n",
        "clf_little = TabNetClassifier(\n",
        "    optimizer_fn=torch.optim.Adam,\n",
        "    optimizer_params=dict(lr=2e-2),\n",
        "    scheduler_params={\"step_size\":10, # how to use learning rate scheduler\n",
        " \"gamma\":0.9},\n",
        "    scheduler_fn=torch.optim.lr_scheduler.StepLR,\n",
        "    mask_type='sparsemax' # This will be overwritten if using pretrain model\n",
        ")\n",
        "\n",
        "clf_little.fit(\n",
        "    X_train=part_of_x_train, y_train=part_of_y_train,\n",
        "    patience=5,\n",
        "    eval_set=[(part_of_x_train, part_of_y_train), (part_of_x_val,part_of_y_val)],\n",
        "    eval_name=['train', 'valid'],\n",
        "    eval_metric=[RocAuc]\n",
        "    )"
      ],
      "metadata": {
        "colab": {
          "base_uri": "https://localhost:8080/"
        },
        "id": "4W_f0RqS3nPs",
        "outputId": "67a92afa-3397-4679-8516-464cfe064738"
      },
      "execution_count": 29,
      "outputs": [
        {
          "output_type": "stream",
          "name": "stdout",
          "text": [
            "Device used : cpu\n",
            "epoch 0  | loss: 0.27268 | train_roc_auc: 0.53144 | valid_roc_auc: 0.52927 |  0:00:03s\n",
            "epoch 1  | loss: 0.18053 | train_roc_auc: 0.50186 | valid_roc_auc: 0.57311 |  0:00:06s\n",
            "epoch 2  | loss: 0.14326 | train_roc_auc: 0.41216 | valid_roc_auc: 0.40997 |  0:00:09s\n",
            "epoch 3  | loss: 0.11425 | train_roc_auc: 0.86334 | valid_roc_auc: 0.88815 |  0:00:12s\n",
            "epoch 4  | loss: 0.11557 | train_roc_auc: 0.87819 | valid_roc_auc: 0.93353 |  0:00:14s\n",
            "epoch 5  | loss: 0.11807 | train_roc_auc: 0.87076 | valid_roc_auc: 0.90623 |  0:00:17s\n",
            "epoch 6  | loss: 0.09216 | train_roc_auc: 0.87001 | valid_roc_auc: 0.90672 |  0:00:20s\n",
            "epoch 7  | loss: 0.08962 | train_roc_auc: 0.40264 | valid_roc_auc: 0.46069 |  0:00:23s\n",
            "epoch 8  | loss: 0.08056 | train_roc_auc: 0.46861 | valid_roc_auc: 0.499   |  0:00:27s\n",
            "epoch 9  | loss: 0.06943 | train_roc_auc: 0.70865 | valid_roc_auc: 0.78346 |  0:00:30s\n",
            "\n",
            "Early stopping occurred at epoch 9 with best_epoch = 4 and best_valid_roc_auc = 0.93353\n",
            "Best weights from best epoch are automatically used!\n"
          ]
        }
      ]
    },
    {
      "cell_type": "code",
      "source": [
        "predicted_test=clf_little.predict_proba(x_test)[:,1]\n",
        "score=roc_auc_score(y_test,predicted_test)"
      ],
      "metadata": {
        "id": "EzaltMFG3sKg"
      },
      "execution_count": 30,
      "outputs": []
    },
    {
      "cell_type": "code",
      "source": [
        "score"
      ],
      "metadata": {
        "colab": {
          "base_uri": "https://localhost:8080/"
        },
        "id": "EBb9MO1e3ujv",
        "outputId": "80a04d98-c670-4e52-c70c-49fad6fd44a7"
      },
      "execution_count": 31,
      "outputs": [
        {
          "output_type": "execute_result",
          "data": {
            "text/plain": [
              "0.7578485654445708"
            ]
          },
          "metadata": {},
          "execution_count": 31
        }
      ]
    },
    {
      "cell_type": "markdown",
      "source": [
        "To improve the performance of the model,we seek to train a ssl model that takes input of all data without labels."
      ],
      "metadata": {
        "id": "eIj0Jjzj6gC_"
      }
    },
    {
      "cell_type": "code",
      "source": [
        "# TabNe self superviesed trainer \n",
        "from pytorch_tabnet.pretraining import TabNetPretrainer\n",
        "import torch\n",
        "unsupervised_model = TabNetPretrainer(\n",
        "    optimizer_fn=torch.optim.Adam,\n",
        "    optimizer_params=dict(lr=2e-2),\n",
        "    mask_type=\"entmax\"\n",
        ")\n",
        "\n",
        "unsupervised_model.fit(\n",
        "    X_train=x_train,\n",
        "    eval_set=[x_val],\n",
        "    pretraining_ratio=0.8,\n",
        ")"
      ],
      "metadata": {
        "colab": {
          "base_uri": "https://localhost:8080/"
        },
        "id": "XTP7KMi96cRD",
        "outputId": "1707c826-65c0-439d-eb3c-cf8c46e0a34e"
      },
      "execution_count": 32,
      "outputs": [
        {
          "output_type": "stream",
          "name": "stdout",
          "text": [
            "Device used : cpu\n",
            "epoch 0  | loss: 1.2993165060119703e+20| val_0_unsup_loss: 1.3030581461219856e+20|  0:00:06s\n",
            "epoch 1  | loss: 1.307029697526253e+20| val_0_unsup_loss: 1.3030526045833816e+20|  0:00:12s\n",
            "epoch 2  | loss: 1.3023435480064242e+20| val_0_unsup_loss: 1.3030640395043104e+20|  0:00:18s\n",
            "epoch 3  | loss: 1.3030089309259951e+20| val_0_unsup_loss: 1.30306386358245e+20|  0:00:25s\n",
            "epoch 4  | loss: 1.303855248634608e+20| val_0_unsup_loss: 1.3030760021908206e+20|  0:00:31s\n",
            "epoch 5  | loss: 1.3038880176699217e+20| val_0_unsup_loss: 1.3030299986243145e+20|  0:00:41s\n",
            "epoch 6  | loss: 1.303786823615882e+20| val_0_unsup_loss: 1.3030020270485039e+20|  0:00:46s\n",
            "epoch 7  | loss: 1.3022096309382295e+20| val_0_unsup_loss: 1.3030751225815184e+20|  0:00:52s\n",
            "epoch 8  | loss: 1.303976550979509e+20| val_0_unsup_loss: 1.303081719651285e+20|  0:00:57s\n",
            "epoch 9  | loss: 1.2994830826217126e+20| val_0_unsup_loss: 1.3030814557684944e+20|  0:01:03s\n",
            "epoch 10 | loss: 1.3021321960462365e+20| val_0_unsup_loss: 1.3030796085889597e+20|  0:01:08s\n",
            "epoch 11 | loss: 1.306904691955821e+20| val_0_unsup_loss: 1.3030792567452389e+20|  0:01:14s\n",
            "epoch 12 | loss: 1.3003289641848491e+20| val_0_unsup_loss: 1.303078553057797e+20|  0:01:19s\n",
            "epoch 13 | loss: 1.3002117126870755e+20| val_0_unsup_loss: 1.3030805761591922e+20|  0:01:25s\n",
            "epoch 14 | loss: 1.3040209819453202e+20| val_0_unsup_loss: 1.3030782891750064e+20|  0:01:31s\n",
            "epoch 15 | loss: 1.3043979305601188e+20| val_0_unsup_loss: 1.3030782891750064e+20|  0:01:37s\n",
            "epoch 16 | loss: 1.2997166065065533e+20| val_0_unsup_loss: 1.303078113253146e+20|  0:01:43s\n",
            "\n",
            "Early stopping occurred at epoch 16 with best_epoch = 6 and best_val_0_unsup_loss = 1.3030020270485039e+20\n",
            "Best weights from best epoch are automatically used!\n"
          ]
        }
      ]
    },
    {
      "cell_type": "markdown",
      "source": [
        "Now let us use the this pre-trained model and only 30% data to train the supervised model."
      ],
      "metadata": {
        "id": "LaptnMAm6lI8"
      }
    },
    {
      "cell_type": "code",
      "source": [
        "# use the pretrained model only on part of the data with labels \n",
        "from pytorch_tabnet.tab_model import TabNetClassifier\n",
        "\n",
        "clf_partial = TabNetClassifier(\n",
        "    optimizer_fn=torch.optim.Adam,\n",
        "    optimizer_params=dict(lr=2e-2),\n",
        "    scheduler_params={\"step_size\":10, # how to use learning rate scheduler\n",
        "                      \"gamma\":0.9},\n",
        "    scheduler_fn=torch.optim.lr_scheduler.StepLR\n",
        ")\n",
        "\n",
        "clf_partial.fit(\n",
        "    X_train=part_of_x_train, y_train=part_of_y_train,\n",
        "    patience=5,\n",
        "    eval_set=[(part_of_x_train, part_of_y_train), (part_of_x_val,part_of_y_val)],\n",
        "    eval_name=['train', 'valid'],\n",
        "    eval_metric=[RocAuc],\n",
        "    from_unsupervised=unsupervised_model\n",
        ")"
      ],
      "metadata": {
        "colab": {
          "base_uri": "https://localhost:8080/"
        },
        "id": "d_aBgadG6lkn",
        "outputId": "16a74e13-cad0-48b5-b2f1-a8441fc2ae17"
      },
      "execution_count": 33,
      "outputs": [
        {
          "output_type": "stream",
          "name": "stdout",
          "text": [
            "Device used : cpu\n",
            "Loading weights from unsupervised pretraining\n"
          ]
        },
        {
          "output_type": "stream",
          "name": "stderr",
          "text": [
            "/root/.local/lib/python3.7/site-packages/pytorch_tabnet/abstract_model.py:97: UserWarning: Pretraining: mask_type changed from sparsemax to entmax\n",
            "  warnings.warn(wrn_msg)\n"
          ]
        },
        {
          "output_type": "stream",
          "name": "stdout",
          "text": [
            "epoch 0  | loss: 0.48547 | train_roc_auc: 0.56146 | valid_roc_auc: 0.56453 |  0:00:03s\n",
            "epoch 1  | loss: 0.16859 | train_roc_auc: 0.5183  | valid_roc_auc: 0.49908 |  0:00:07s\n",
            "epoch 2  | loss: 0.1348  | train_roc_auc: 0.59967 | valid_roc_auc: 0.56588 |  0:00:11s\n",
            "epoch 3  | loss: 0.12194 | train_roc_auc: 0.58759 | valid_roc_auc: 0.56818 |  0:00:15s\n",
            "epoch 4  | loss: 0.10895 | train_roc_auc: 0.65802 | valid_roc_auc: 0.61181 |  0:00:19s\n",
            "epoch 5  | loss: 0.09856 | train_roc_auc: 0.64507 | valid_roc_auc: 0.60161 |  0:00:22s\n",
            "epoch 6  | loss: 0.09083 | train_roc_auc: 0.61062 | valid_roc_auc: 0.5623  |  0:00:26s\n",
            "epoch 7  | loss: 0.08785 | train_roc_auc: 0.59298 | valid_roc_auc: 0.5558  |  0:00:30s\n",
            "epoch 8  | loss: 0.08206 | train_roc_auc: 0.59345 | valid_roc_auc: 0.58172 |  0:00:33s\n",
            "epoch 9  | loss: 0.0799  | train_roc_auc: 0.33748 | valid_roc_auc: 0.32237 |  0:00:37s\n",
            "\n",
            "Early stopping occurred at epoch 9 with best_epoch = 4 and best_valid_roc_auc = 0.61181\n",
            "Best weights from best epoch are automatically used!\n"
          ]
        }
      ]
    },
    {
      "cell_type": "code",
      "source": [
        "predicted_test=clf_partial.predict_proba(x_test)[:,1]\n",
        "score=roc_auc_score(y_test,predicted_test)"
      ],
      "metadata": {
        "id": "y8-aCys_6oHV"
      },
      "execution_count": 34,
      "outputs": []
    },
    {
      "cell_type": "code",
      "source": [
        "score"
      ],
      "metadata": {
        "colab": {
          "base_uri": "https://localhost:8080/"
        },
        "id": "QDINeI4E6pW_",
        "outputId": "c72fde67-5866-463f-ff2d-0470b2e04f7a"
      },
      "execution_count": 35,
      "outputs": [
        {
          "output_type": "execute_result",
          "data": {
            "text/plain": [
              "0.6812851935327241"
            ]
          },
          "metadata": {},
          "execution_count": 35
        }
      ]
    },
    {
      "cell_type": "code",
      "source": [
        "# train on the whole dataset with labels\n",
        "from pytorch_tabnet.tab_model import TabNetClassifier\n",
        "clf_full = TabNetClassifier(\n",
        "    optimizer_fn=torch.optim.Adam,\n",
        "    optimizer_params=dict(lr=2e-2),\n",
        "    scheduler_params={\"step_size\":10, # how to use learning rate scheduler\n",
        "                      \"gamma\":0.9},\n",
        "    scheduler_fn=torch.optim.lr_scheduler.StepLR,\n",
        "    mask_type='sparsemax' # This will be overwritten if using pretrain model\n",
        ")\n",
        "\n",
        "clf_full.fit(\n",
        "    X_train=x_train, y_train=y_train,\n",
        "    patience=5,\n",
        "    eval_set=[(x_train, y_train), (x_val,y_val)],\n",
        "    eval_name=['train', 'valid'],\n",
        "    eval_metric=[RocAuc]\n",
        "    )"
      ],
      "metadata": {
        "colab": {
          "base_uri": "https://localhost:8080/"
        },
        "id": "cZBfbqQ77Jtt",
        "outputId": "16b6492f-55ab-47c3-f2ee-36c7127bd607"
      },
      "execution_count": 37,
      "outputs": [
        {
          "output_type": "stream",
          "name": "stdout",
          "text": [
            "Device used : cpu\n",
            "epoch 0  | loss: 0.22521 | train_roc_auc: 0.53021 | valid_roc_auc: 0.43824 |  0:00:07s\n",
            "epoch 1  | loss: 0.07829 | train_roc_auc: 0.50672 | valid_roc_auc: 0.5178  |  0:00:13s\n",
            "epoch 2  | loss: 0.05517 | train_roc_auc: 0.6388  | valid_roc_auc: 0.6573  |  0:00:20s\n",
            "epoch 3  | loss: 0.05128 | train_roc_auc: 0.53329 | valid_roc_auc: 0.60399 |  0:00:28s\n",
            "epoch 4  | loss: 0.0429  | train_roc_auc: 0.7001  | valid_roc_auc: 0.62794 |  0:00:35s\n",
            "epoch 5  | loss: 0.03386 | train_roc_auc: 0.38114 | valid_roc_auc: 0.64974 |  0:00:42s\n",
            "epoch 6  | loss: 0.03285 | train_roc_auc: 0.37539 | valid_roc_auc: 0.5811  |  0:00:49s\n",
            "epoch 7  | loss: 0.031   | train_roc_auc: 0.72689 | valid_roc_auc: 0.51318 |  0:00:55s\n",
            "\n",
            "Early stopping occurred at epoch 7 with best_epoch = 2 and best_valid_roc_auc = 0.6573\n",
            "Best weights from best epoch are automatically used!\n"
          ]
        }
      ]
    },
    {
      "cell_type": "code",
      "source": [
        "predicted_test=clf_full.predict_proba(x_test)[:,1]\n",
        "score=roc_auc_score(y_test,predicted_test)"
      ],
      "metadata": {
        "id": "yvNJKjsb7LRO"
      },
      "execution_count": 38,
      "outputs": []
    },
    {
      "cell_type": "code",
      "source": [
        "score "
      ],
      "metadata": {
        "colab": {
          "base_uri": "https://localhost:8080/"
        },
        "id": "IlJBIJ5u7Mdz",
        "outputId": "4ffaee0f-5d0c-4cc7-db3f-f9ffe87f51b0"
      },
      "execution_count": 39,
      "outputs": [
        {
          "output_type": "execute_result",
          "data": {
            "text/plain": [
              "0.7205666717396083"
            ]
          },
          "metadata": {},
          "execution_count": 39
        }
      ]
    }
  ]
}